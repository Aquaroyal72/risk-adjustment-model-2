{
 "cells": [
  {
   "cell_type": "code",
   "execution_count": 3,
   "metadata": {
    "collapsed": true
   },
   "outputs": [],
   "source": [
    "import pandas as pd\n",
    "import numpy as np\n",
    "import warnings\n",
    "warnings.simplefilter(action='ignore', category=FutureWarning)"
   ]
  },
  {
   "cell_type": "code",
   "execution_count": 4,
   "metadata": {},
   "outputs": [],
   "source": [
    "def modify(input_name, output_name):\n",
    "    playground1 = pd.read_csv(input_name,low_memory=False)\n",
    "    playground1 = playground1[[\"HIOS ID\",\n",
    "                               \"1.1Directpremiumwritten2HealthInsuranceINDIVIDUALTotalasof3/31/15\",\n",
    "                              \"2.16Totalincurredclaims2HealthInsuranceINDIVIDUALTotalasof3/31/15\",\n",
    "                              \"HHS RISK ADJUSTMENT TRANSFER AMOUNT (INDIVIDUAL MARKET, INCLUDING CATASTROPHIC)\",\n",
    "                              \"7.4Membermonths2HealthInsuranceINDIVIDUALTotalasof3/31/15\"]]\n",
    "    playground1 = playground1.where(playground1[\"7.4Membermonths2HealthInsuranceINDIVIDUALTotalasof3/31/15\"] > 2000).dropna(how='all')\n",
    "\n",
    "    playground1[\"IndPremiumPMM\"] = playground1[\"1.1Directpremiumwritten2HealthInsuranceINDIVIDUALTotalasof3/31/15\"] / playground1[\"7.4Membermonths2HealthInsuranceINDIVIDUALTotalasof3/31/15\"]\n",
    "    playground1[\"IndCostsPMM\"] = playground1[\"2.16Totalincurredclaims2HealthInsuranceINDIVIDUALTotalasof3/31/15\"] / playground1[\"7.4Membermonths2HealthInsuranceINDIVIDUALTotalasof3/31/15\"]\n",
    "    playground1[\"IndRTPMM\"] = playground1[\"HHS RISK ADJUSTMENT TRANSFER AMOUNT (INDIVIDUAL MARKET, INCLUDING CATASTROPHIC)\"] / playground1[\"7.4Membermonths2HealthInsuranceINDIVIDUALTotalasof3/31/15\"]\n",
    "    playground1[\"IndPremiumMinusCostsPMM\"] = playground1[\"IndPremiumPMM\"] - playground1[\"IndCostsPMM\"]\n",
    "    playground1.to_csv(output_name)"
   ]
  },
  {
   "cell_type": "code",
   "execution_count": 5,
   "metadata": {
    "collapsed": true
   },
   "outputs": [],
   "source": [
    "modify(\"../Week7/Input/2014dataset.csv\", \"Data2000MM/2014dataset.csv\")\n",
    "modify(\"../Week7/Input/2015dataset.csv\", \"Data2000MM/2015dataset.csv\")\n",
    "modify(\"../Week7/Input/2016dataset.csv\", \"Data2000MM/2016dataset.csv\")"
   ]
  },
  {
   "cell_type": "code",
   "execution_count": null,
   "metadata": {
    "collapsed": true
   },
   "outputs": [],
   "source": []
  },
  {
   "cell_type": "code",
   "execution_count": null,
   "metadata": {
    "collapsed": true
   },
   "outputs": [],
   "source": []
  }
 ],
 "metadata": {
  "kernelspec": {
   "display_name": "Python 3",
   "language": "python",
   "name": "python3"
  },
  "language_info": {
   "codemirror_mode": {
    "name": "ipython",
    "version": 3
   },
   "file_extension": ".py",
   "mimetype": "text/x-python",
   "name": "python",
   "nbconvert_exporter": "python",
   "pygments_lexer": "ipython3",
   "version": "3.6.1"
  }
 },
 "nbformat": 4,
 "nbformat_minor": 2
}
