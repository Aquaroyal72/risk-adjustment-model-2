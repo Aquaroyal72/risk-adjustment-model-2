{
 "cells": [
  {
   "cell_type": "code",
   "execution_count": 1,
   "metadata": {
    "collapsed": true
   },
   "outputs": [],
   "source": [
    "import pandas as pd\n",
    "import numpy as np"
   ]
  },
  {
   "cell_type": "code",
   "execution_count": 2,
   "metadata": {
    "collapsed": true
   },
   "outputs": [],
   "source": [
    "importname114 = \"Input/2014-all.csv\"\n",
    "importname214 = \"Input/2014-Benefit-Year-RI-RA-Updated-numeric.csv\"\n",
    "outputname14 = \"Output/2014dataset.csv\"\n",
    "importname115 = \"Input/2015-all.csv\"\n",
    "importname215 = \"Input/2015-Benefit-Year-RI-RA-Updated-numeric.csv\"\n",
    "outputname15 = \"Output/2015dataset.csv\"\n",
    "importname116 = \"Input/2016-all.csv\"\n",
    "importname216 = \"Input/2016-Benefit-Year-RI-RA.csv\"\n",
    "outputname16 = \"Output/2016dataset.csv\""
   ]
  },
  {
   "cell_type": "code",
   "execution_count": 22,
   "metadata": {},
   "outputs": [],
   "source": [
    "# importname1 - string representing file path to scraped Excel data\n",
    "# importname2 - string representing file path to PDF data\n",
    "# outputname1 - string representing file path to output file (CSV)\n",
    "# year - int representing last two digits of year (i.e. 14 for 2014)\n",
    "def change_csv(importname1, importname2, outputname1, year):\n",
    "    all1 = pd.read_csv(importname1, encoding = 'ISO-8859-1', low_memory=True)\n",
    "    all1 = all1.replace(0, np.nan)\n",
    "    all1 = all1.dropna(axis=1,how='all')\n",
    "    all1 = all1[np.isfinite(all1['HIOSIssuerID:'])]\n",
    "    all1 = all1.rename(columns={\"HIOSIssuerID:\": \"HIOS ID\"})\n",
    "    all1 = all1.drop_duplicates(subset=['HIOS ID'])\n",
    "    all1.head()\n",
    "    \n",
    "    rira1 = pd.read_csv(importname2, low_memory=True)\n",
    "    rira1.head()\n",
    "    merged1 = rira1.merge(all1, on='HIOS ID', how='outer')\n",
    "    \n",
    "    # need to change columns from 12/31/1X to 12/31/1(X+1) where X is the current year;\n",
    "    # need to change columns from 3/31/1X to 3/31/1(X+1) where X is the following year\n",
    "    change_dates_columns = merged1.columns\n",
    "    change_dates_columns = [x.replace(\"12/31/14\", \"12/31/%d\" % (year))\\\n",
    "               .replace(\"3/31/15\", \"3/31/%d\" % (year + 1)) for x in change_dates_columns]\n",
    "    merged1.columns = change_dates_columns\n",
    "    \n",
    "    # delete unused keys\n",
    "    try:\n",
    "        del merged1[\"Unnamed: 0\"]\n",
    "    except KeyError:\n",
    "        print(\"Unnamed Key not found. This is a good thing.\")\n",
    "        pass\n",
    "    except ValueError:\n",
    "        print(\"Unnamed Key not found. This is a good thing.\")\n",
    "        pass\n",
    "    \n",
    "    # save to csv\n",
    "    merged1.to_csv(outputname1, index=False)\n",
    "    print(\"saved to csv\")"
   ]
  },
  {
   "cell_type": "code",
   "execution_count": 23,
   "metadata": {
    "scrolled": true
   },
   "outputs": [
    {
     "name": "stderr",
     "output_type": "stream",
     "text": [
      "C:\\Users\\guanz\\Anaconda3\\lib\\site-packages\\IPython\\core\\interactiveshell.py:2821: DtypeWarning: Columns (114,1087,1860,1945,2269,2413,2501,3002,3053,3232,3651) have mixed types. Specify dtype option on import or set low_memory=False.\n",
      "  if self.run_code(code, result):\n"
     ]
    },
    {
     "name": "stdout",
     "output_type": "stream",
     "text": [
      "saved to csv\n"
     ]
    },
    {
     "name": "stderr",
     "output_type": "stream",
     "text": [
      "C:\\Users\\guanz\\Anaconda3\\lib\\site-packages\\IPython\\core\\interactiveshell.py:2821: DtypeWarning: Columns (13,151,615,1117,1219,1220,1255,1311,1312,2501,2542,2635,2779,3003,3289,3335,3386,3421,4710,5167) have mixed types. Specify dtype option on import or set low_memory=False.\n",
      "  if self.run_code(code, result):\n"
     ]
    },
    {
     "name": "stdout",
     "output_type": "stream",
     "text": [
      "saved to csv\n"
     ]
    },
    {
     "name": "stderr",
     "output_type": "stream",
     "text": [
      "C:\\Users\\guanz\\Anaconda3\\lib\\site-packages\\IPython\\core\\interactiveshell.py:2827: DtypeWarning: Columns (7,13,485,1129,1260,1914,2187,2269,2911,3239,3330,3334,3384) have mixed types. Specify dtype option on import or set low_memory=False.\n",
      "  if self.run_code(code, result):\n"
     ]
    },
    {
     "name": "stdout",
     "output_type": "stream",
     "text": [
      "saved to csv\n"
     ]
    }
   ],
   "source": [
    "change_csv(importname114,importname214,outputname14, 14)\n",
    "change_csv(importname115,importname215,outputname15, 15)\n",
    "change_csv(importname116,importname216,outputname16, 16)"
   ]
  },
  {
   "cell_type": "code",
   "execution_count": null,
   "metadata": {
    "collapsed": true
   },
   "outputs": [],
   "source": []
  }
 ],
 "metadata": {
  "kernelspec": {
   "display_name": "Python 3",
   "language": "python",
   "name": "python3"
  },
  "language_info": {
   "codemirror_mode": {
    "name": "ipython",
    "version": 3
   },
   "file_extension": ".py",
   "mimetype": "text/x-python",
   "name": "python",
   "nbconvert_exporter": "python",
   "pygments_lexer": "ipython3",
   "version": "3.6.1"
  }
 },
 "nbformat": 4,
 "nbformat_minor": 2
}
