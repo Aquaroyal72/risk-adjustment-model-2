{
 "cells": [
  {
   "cell_type": "code",
   "execution_count": 1,
   "metadata": {
    "collapsed": true
   },
   "outputs": [],
   "source": [
    "import pandas as pd\n",
    "import numpy as np"
   ]
  },
  {
   "cell_type": "code",
   "execution_count": 2,
   "metadata": {
    "collapsed": true
   },
   "outputs": [],
   "source": [
    "importname114 = \"Input/2014-all.csv\"\n",
    "importname214 = \"Input/2014-Benefit-Year-RI-RA-Updated-numeric.csv\"\n",
    "outputname14 = \"Output/2014dataset.csv\"\n",
    "importname115 = \"Input/2015-all.csv\"\n",
    "importname215 = \"Input/2015-Benefit-Year-RI-RA-Updated-numeric.csv\"\n",
    "outputname15 = \"Output/2015dataset.csv\"\n",
    "importname116 = \"Input/2016-all.csv\"\n",
    "importname216 = \"Input/2016-Benefit-Year-RI-RA.csv\"\n",
    "outputname16 = \"Output/2016dataset.csv\""
   ]
  },
  {
   "cell_type": "code",
   "execution_count": 22,
   "metadata": {},
   "outputs": [],
   "source": [
    "# importname1 - string representing file path to scraped Excel data\n",
    "# importname2 - string representing file path to PDF data\n",
    "# outputname1 - string representing file path to output file (CSV)\n",
    "# year - int representing last two digits of year (i.e. 14 for 2014)\n",
    "def change_csv(importname1, importname2, outputname1, year):\n",
    "    all1 = pd.read_csv(importname1, encoding = 'ISO-8859-1', low_memory=True)\n",
    "    all1 = all1.replace(0, np.nan)\n",
    "    all1 = all1.dropna(axis=1,how='all')\n",
    "    all1 = all1[np.isfinite(all1['HIOSIssuerID:'])]\n",
    "    all1 = all1.rename(columns={\"HIOSIssuerID:\": \"HIOS ID\"})\n",
    "    all1 = all1.drop_duplicates(subset=['HIOS ID'])\n",
    "    all1.head()\n",
    "    \n",
    "    rira1 = pd.read_csv(importname2, low_memory=True)\n",
    "    rira1.head()\n",
    "    merged1 = rira1.merge(all1, on='HIOS ID', how='outer')\n",
    "    \n",
    "    # need to change columns from 12/31/1X to 12/31/1(X+1) where X is the current year;\n",
    "    # need to change columns from 3/31/1X to 3/31/1(X+1) where X is the following year\n",
    "    change_dates_columns = merged1.columns\n",
    "    change_dates_columns = [x.replace(\"12/31/14\", \"12/31/%d\" % (year))\\\n",
    "               .replace(\"3/31/15\", \"3/31/%d\" % (year + 1)) for x in change_dates_columns]\n",
    "    merged1.columns = change_dates_columns\n",
    "    \n",
    "    # delete unused keys\n",
    "    try:\n",
    "        del merged1[\"Unnamed: 0\"]\n",
    "    except KeyError:\n",
    "        print(\"Unnamed Key not found. This is a good thing.\")\n",
    "        pass\n",
    "    except ValueError:\n",
    "        print(\"Unnamed Key not found. This is a good thing.\")\n",
    "        pass\n",
    "    \n",
    "    # save to csv\n",
    "    merged1.to_csv(outputname1, index=False)\n",
    "    print(\"saved to csv\")"
   ]
  },
  {
   "cell_type": "code",
   "execution_count": 23,
   "metadata": {
    "scrolled": true
   },
   "outputs": [
    {
     "name": "stderr",
     "output_type": "stream",
     "text": [
      "C:\\Users\\guanz\\Anaconda3\\lib\\site-packages\\IPython\\core\\interactiveshell.py:2821: DtypeWarning: Columns (114,1087,1860,1945,2269,2413,2501,3002,3053,3232,3651) have mixed types. Specify dtype option on import or set low_memory=False.\n",
      "  if self.run_code(code, result):\n"
     ]
    },
    {
     "name": "stdout",
     "output_type": "stream",
     "text": [
      "saved to csv\n"
     ]
    },
    {
     "name": "stderr",
     "output_type": "stream",
     "text": [
      "C:\\Users\\guanz\\Anaconda3\\lib\\site-packages\\IPython\\core\\interactiveshell.py:2821: DtypeWarning: Columns (13,151,615,1117,1219,1220,1255,1311,1312,2501,2542,2635,2779,3003,3289,3335,3386,3421,4710,5167) have mixed types. Specify dtype option on import or set low_memory=False.\n",
      "  if self.run_code(code, result):\n"
     ]
    },
    {
     "name": "stdout",
     "output_type": "stream",
     "text": [
      "saved to csv\n"
     ]
    },
    {
     "name": "stderr",
     "output_type": "stream",
     "text": [
      "C:\\Users\\guanz\\Anaconda3\\lib\\site-packages\\IPython\\core\\interactiveshell.py:2827: DtypeWarning: Columns (7,13,485,1129,1260,1914,2187,2269,2911,3239,3330,3334,3384) have mixed types. Specify dtype option on import or set low_memory=False.\n",
      "  if self.run_code(code, result):\n"
     ]
    },
    {
     "name": "stdout",
     "output_type": "stream",
     "text": [
      "saved to csv\n"
     ]
    }
   ],
   "source": [
    "change_csv(importname114,importname214,outputname14, 14)\n",
    "change_csv(importname115,importname215,outputname15, 15)\n",
    "change_csv(importname116,importname216,outputname16, 16)"
   ]
  },
  {
   "cell_type": "code",
   "execution_count": 44,
   "metadata": {
    "scrolled": true
   },
   "outputs": [
    {
     "name": "stderr",
     "output_type": "stream",
     "text": [
      "C:\\Users\\guanz\\Anaconda3\\lib\\site-packages\\IPython\\core\\interactiveshell.py:2717: DtypeWarning: Columns (1,2,52,323,649,882,932,1092,1202) have mixed types. Specify dtype option on import or set low_memory=False.\n",
      "  interactivity=interactivity, compiler=compiler, result=result)\n",
      "C:\\Users\\guanz\\Anaconda3\\lib\\site-packages\\IPython\\core\\interactiveshell.py:2717: DtypeWarning: Columns (1,2,57,204,341,376,377,396,430,431,928,944,1006,1013,1151,1160,1169,1179,1411) have mixed types. Specify dtype option on import or set low_memory=False.\n",
      "  interactivity=interactivity, compiler=compiler, result=result)\n",
      "C:\\Users\\guanz\\Anaconda3\\lib\\site-packages\\IPython\\core\\interactiveshell.py:2717: DtypeWarning: Columns (1,2,17,163,355,406,702,835,847,1083,1156,1183,1185,1200) have mixed types. Specify dtype option on import or set low_memory=False.\n",
      "  interactivity=interactivity, compiler=compiler, result=result)\n"
     ]
    }
   ],
   "source": [
    "# check which columns are different\n",
    "all14 = pd.read_csv(outputname14, encoding = 'ISO-8859-1', low_memory=True)\n",
    "all15 = pd.read_csv(outputname15, encoding = 'ISO-8859-1', low_memory=True)\n",
    "all16 = pd.read_csv(outputname16, encoding = 'ISO-8859-1', low_memory=True)"
   ]
  },
  {
   "cell_type": "code",
   "execution_count": 45,
   "metadata": {
    "collapsed": true
   },
   "outputs": [],
   "source": [
    "col14 = all14.columns\n",
    "col15 = all15.columns\n",
    "col15_fixyears = [x.replace(\"12/31/15\", \"12/31/14\").replace(\"3/31/16\", \"3/31/15\") for x in col15]\n",
    "col16 = all16.columns\n",
    "col16_fixyears = [x.replace(\"12/31/16\", \"12/31/14\").replace(\"3/31/17\", \"3/31/15\") for x in col16]"
   ]
  },
  {
   "cell_type": "code",
   "execution_count": 46,
   "metadata": {},
   "outputs": [
    {
     "name": "stdout",
     "output_type": "stream",
     "text": [
      "['1.1Totaldirectpremiumearned9HealthInsuranceSMALLGROUPDeferredPY1(Add)', '1.1Totaldirectpremiumearned14HealthInsuranceLARGEGROUPDeferredPY1(Add)', '1.2Federalhighriskpools2AHealthInsuranceINDIVIDUAL[RiskCorridors]Totalasof3/31/15', '1.2Federalhighriskpools6HealthInsuranceSMALLGROUPTotalasof12/31/14', '1.2Federalhighriskpools11HealthInsuranceLARGEGROUPTotalasof12/31/14', '1.2Federalhighriskpools35StudentHealthINDIVIDUALTotalasof12/31/14', '1.2Federalhighriskpools40GovernmentProgramPlansTotalasof12/31/14', '1.3Statehighriskpools23Mini-MedLARGEGROUPTotalasof3/31/15', '1.4Netassumedlesscededreinsurancepremiumearned(excludeamountsalreadyreportedinLine1.1)22Mini-MedLARGEGROUPTotalasof12/31/14', '1.5OtheradjustmentsduetoMLRcalculations-premium16Mini-MedINDIVIDUALTotalasof12/31/14', '1.5OtheradjustmentsduetoMLRcalculations-premium22Mini-MedLARGEGROUPTotalasof12/31/14', '2.1Totalincurredclaims(MLRFormPart2Line2.16)9HealthInsuranceSMALLGROUPDeferredPY1(Add)', '2.3Pharmaceuticalrebates(informationalonly;alreadyexcludedfromtotalincurredclaimsabove)19Mini-MedSMALLGROUPTotalasof12/31/14', '2.3Pharmaceuticalrebates(informationalonly;alreadyexcludedfromtotalincurredclaimsabove)20Mini-MedSMALLGROUPTotalasof3/31/15', '2.3Pharmaceuticalrebates(informationalonly;alreadyexcludedfromtotalincurredclaimsabove)23Mini-MedLARGEGROUPTotalasof3/31/15', '2.4Statestoplossmarketstabilizationandclaim/censusbasedassessments(informationalonly;alreadyexcludedfromtotalincurredclaimsabove)20Mini-MedSMALLGROUPTotalasof3/31/15', '2.4Statestoplossmarketstabilizationandclaim/censusbasedassessments(informationalonly;alreadyexcludedfromtotalincurredclaimsabove)23Mini-MedLARGEGROUPTotalasof3/31/15', '2.5Netassumedlesscededclaimsincurred(excludeamountsalreadyreportedinLine2.1)19Mini-MedSMALLGROUPTotalasof12/31/14', '2.5Netassumedlesscededclaimsincurred(excludeamountsalreadyreportedinLine2.1)22Mini-MedLARGEGROUPTotalasof12/31/14', '2.7Rebatespaid40GovernmentProgramPlansTotalasof12/31/14', '2.9EstimatedrebatesunpaidattheendoftheMLRreportingyear22Mini-MedLARGEGROUPTotalasof12/31/14', '2.11Allowablefraudreductionexpenses(MLRFormPart2Line2.17)5HealthInsuranceINDIVIDUALDeferredCY(Subtract)', '2.11Allowablefraudreductionexpenses(MLRFormPart2Line2.17)22Mini-MedLARGEGROUPTotalasof12/31/14', '2.11Allowablefraudreductionexpenses(MLRFormPart2Line2.17)23Mini-MedLARGEGROUPTotalasof3/31/15', '3.1cAffordableCareActsection9010Fee9HealthInsuranceSMALLGROUPDeferredPY1(Add)', '3.1cAffordableCareActsection9010Fee10HealthInsuranceSMALLGROUPDeferredCY(Subtract)', '3.1cAffordableCareActsection9010Fee14HealthInsuranceLARGEGROUPDeferredPY1(Add)', '3.1cAffordableCareActsection9010Fee15HealthInsuranceLARGEGROUPDeferredCY(Subtract)', '3.1cAffordableCareActsection9010Fee19Mini-MedSMALLGROUPTotalasof12/31/14', '3.1cAffordableCareActsection9010Fee20Mini-MedSMALLGROUPTotalasof3/31/15', '3.1cAffordableCareActsection9010Fee25ExpatSMALLGROUPTotalasof12/31/14', '3.1dOtherFederalTaxesandassessmentsdeductiblefrompremium9HealthInsuranceSMALLGROUPDeferredPY1(Add)', '3.1dOtherFederalTaxesandassessmentsdeductiblefrompremium19Mini-MedSMALLGROUPTotalasof12/31/14', '3.1dOtherFederalTaxesandassessmentsdeductiblefrompremium20Mini-MedSMALLGROUPTotalasof3/31/15', '3.2aStateincomeexcisebusinessandothertaxes9HealthInsuranceSMALLGROUPDeferredPY1(Add)', '3.2bStatepremiumtaxes9HealthInsuranceSMALLGROUPDeferredPY1(Add)', '3.2bStatepremiumtaxes20Mini-MedSMALLGROUPTotalasof3/31/15', '3.2cCommunitybenefitexpendituresdeductiblefrompremiuminMLRcalculations16Mini-MedINDIVIDUALTotalasof12/31/14', '3.2cCommunitybenefitexpendituresdeductiblefrompremiuminMLRcalculations17Mini-MedINDIVIDUALTotalasof3/31/15', '3.2cCommunitybenefitexpendituresdeductiblefrompremiuminMLRcalculations19Mini-MedSMALLGROUPTotalasof12/31/14', '3.2cCommunitybenefitexpendituresdeductiblefrompremiuminMLRcalculations20Mini-MedSMALLGROUPTotalasof3/31/15', '3.2cCommunitybenefitexpendituresdeductiblefrompremiuminMLRcalculations23Mini-MedLARGEGROUPTotalasof3/31/15', '3.2cCommunitybenefitexpendituresdeductiblefrompremiuminMLRcalculations25ExpatSMALLGROUPTotalasof12/31/14', '3.3aFederalTransitionalReinsuranceProgramcontributions3HealthInsuranceINDIVIDUALDualContracts(IncludedinTotalasof3/31/15)', '3.3bOtherFederalandStateregulatoryauthoritylicensesandfees19Mini-MedSMALLGROUPTotalasof12/31/14', '3.3bOtherFederalandStateregulatoryauthoritylicensesandfees20Mini-MedSMALLGROUPTotalasof3/31/15', '4.1Improvehealthoutcomes19Mini-MedSMALLGROUPTotalasof12/31/14', '4.1Improvehealthoutcomes20Mini-MedSMALLGROUPTotalasof3/31/15', '4.1Improvehealthoutcomes23Mini-MedLARGEGROUPTotalasof3/31/15', '4.2Activitiestopreventhospitalreadmission19Mini-MedSMALLGROUPTotalasof12/31/14', '4.2Activitiestopreventhospitalreadmission20Mini-MedSMALLGROUPTotalasof3/31/15', '4.2Activitiestopreventhospitalreadmission23Mini-MedLARGEGROUPTotalasof3/31/15', '4.3Improvepatientsafetyandreducemedicalerrors19Mini-MedSMALLGROUPTotalasof12/31/14', '4.3Improvepatientsafetyandreducemedicalerrors20Mini-MedSMALLGROUPTotalasof3/31/15', '4.3Improvepatientsafetyandreducemedicalerrors23Mini-MedLARGEGROUPTotalasof3/31/15', '4.4Wellnessandhealthpromotionactivities19Mini-MedSMALLGROUPTotalasof12/31/14', '4.4Wellnessandhealthpromotionactivities20Mini-MedSMALLGROUPTotalasof3/31/15', '4.4Wellnessandhealthpromotionactivities23Mini-MedLARGEGROUPTotalasof3/31/15', '4.5Healthinformationtechnologyexpensesrelatedtoimprovinghealthcarequality19Mini-MedSMALLGROUPTotalasof12/31/14', '4.5Healthinformationtechnologyexpensesrelatedtoimprovinghealthcarequality20Mini-MedSMALLGROUPTotalasof3/31/15', '4.5Healthinformationtechnologyexpensesrelatedtoimprovinghealthcarequality23Mini-MedLARGEGROUPTotalasof3/31/15', '4.6AllowableImplementationICD-10expenses(nottoexceed0.3%ofpremium)4HealthInsuranceINDIVIDUALDeferredPY1(Add)', '4.6AllowableImplementationICD-10expenses(nottoexceed0.3%ofpremium)16Mini-MedINDIVIDUALTotalasof12/31/14', '4.6AllowableImplementationICD-10expenses(nottoexceed0.3%ofpremium)17Mini-MedINDIVIDUALTotalasof3/31/15', '4.6AllowableImplementationICD-10expenses(nottoexceed0.3%ofpremium)23Mini-MedLARGEGROUPTotalasof3/31/15', '5.1CostcontainmentexpensesnotincludedinqualityimprovementexpensesinSection419Mini-MedSMALLGROUPTotalasof12/31/14', '5.1CostcontainmentexpensesnotincludedinqualityimprovementexpensesinSection420Mini-MedSMALLGROUPTotalasof3/31/15', '5.1CostcontainmentexpensesnotincludedinqualityimprovementexpensesinSection423Mini-MedLARGEGROUPTotalasof3/31/15', '5.2Allotherclaimsadjustmentexpenses19Mini-MedSMALLGROUPTotalasof12/31/14', '5.2Allotherclaimsadjustmentexpenses20Mini-MedSMALLGROUPTotalasof3/31/15', '5.2Allotherclaimsadjustmentexpenses38StudentHealthINDIVIDUALDeferredPY1(Add)', '5.3Directsalessalariesandbenefits19Mini-MedSMALLGROUPTotalasof12/31/14', '5.3Directsalessalariesandbenefits20Mini-MedSMALLGROUPTotalasof3/31/15', '5.3Directsalessalariesandbenefits23Mini-MedLARGEGROUPTotalasof3/31/15', '5.4Agentsandbrokersfeesandcommissions19Mini-MedSMALLGROUPTotalasof12/31/14', '5.4Agentsandbrokersfeesandcommissions20Mini-MedSMALLGROUPTotalasof3/31/15', '5.5aTaxesandassessments(excludeamountsreportedinSection3orLine9)19Mini-MedSMALLGROUPTotalasof12/31/14', '5.5aTaxesandassessments(excludeamountsreportedinSection3orLine9)20Mini-MedSMALLGROUPTotalasof3/31/15', '5.5bFinesandpenaltiesofregulatoryauthorities(excludeamountsreportedinLine3.3)3HealthInsuranceINDIVIDUALDualContracts(IncludedinTotalasof3/31/15)', '5.5bFinesandpenaltiesofregulatoryauthorities(excludeamountsreportedinLine3.3)20Mini-MedSMALLGROUPTotalasof3/31/15', '5.5bFinesandpenaltiesofregulatoryauthorities(excludeamountsreportedinLine3.3)23Mini-MedLARGEGROUPTotalasof3/31/15', '5.6Othergeneralandadministrativeexpenses9HealthInsuranceSMALLGROUPDeferredPY1(Add)', '5.6Othergeneralandadministrativeexpenses19Mini-MedSMALLGROUPTotalasof12/31/14', '5.6Othergeneralandadministrativeexpenses20Mini-MedSMALLGROUPTotalasof3/31/15', '5.6Othergeneralandadministrativeexpenses38StudentHealthINDIVIDUALDeferredPY1(Add)', '5.7Communitybenefitexpenditures(informationalonly;includeamountsreportedinLines3.2cand5.6)16Mini-MedINDIVIDUALTotalasof12/31/14', '5.7Communitybenefitexpenditures(informationalonly;includeamountsreportedinLines3.2cand5.6)17Mini-MedINDIVIDUALTotalasof3/31/15', '5.7Communitybenefitexpenditures(informationalonly;includeamountsreportedinLines3.2cand5.6)19Mini-MedSMALLGROUPTotalasof12/31/14', '5.7Communitybenefitexpenditures(informationalonly;includeamountsreportedinLines3.2cand5.6)20Mini-MedSMALLGROUPTotalasof3/31/15', '5.7Communitybenefitexpenditures(informationalonly;includeamountsreportedinLines3.2cand5.6)23Mini-MedLARGEGROUPTotalasof3/31/15', '5.7Communitybenefitexpenditures(informationalonly;includeamountsreportedinLines3.2cand5.6)25ExpatSMALLGROUPTotalasof12/31/14', '5.8ICD-10implementationexpenses(informationalonly;includeamountsreportedinLines4.6and5.6)3HealthInsuranceINDIVIDUALDualContracts(IncludedinTotalasof3/31/15)', '5.8ICD-10implementationexpenses(informationalonly;includeamountsreportedinLines4.6and5.6)8HealthInsuranceSMALLGROUPDualContracts(IncludedinTotalasof3/31/15)', '5.8ICD-10implementationexpenses(informationalonly;includeamountsreportedinLines4.6and5.6)13HealthInsuranceLARGEGROUPDualContracts(IncludedinTotalasof3/31/15)', '5.8ICD-10implementationexpenses(informationalonly;includeamountsreportedinLines4.6and5.6)16Mini-MedINDIVIDUALTotalasof12/31/14', '5.8ICD-10implementationexpenses(informationalonly;includeamountsreportedinLines4.6and5.6)17Mini-MedINDIVIDUALTotalasof3/31/15', '5.8ICD-10implementationexpenses(informationalonly;includeamountsreportedinLines4.6and5.6)19Mini-MedSMALLGROUPTotalasof12/31/14', '5.8ICD-10implementationexpenses(informationalonly;includeamountsreportedinLines4.6and5.6)20Mini-MedSMALLGROUPTotalasof3/31/15', '5.8ICD-10implementationexpenses(informationalonly;includeamountsreportedinLines4.6and5.6)22Mini-MedLARGEGROUPTotalasof12/31/14', '5.8ICD-10implementationexpenses(informationalonly;includeamountsreportedinLines4.6and5.6)23Mini-MedLARGEGROUPTotalasof3/31/15', '7.1Numberofpolicies/certificates9HealthInsuranceSMALLGROUPDeferredPY1(Add)', '7.2Numberofcoveredlives9HealthInsuranceSMALLGROUPDeferredPY1(Add)', '7.3Numberofgroups9HealthInsuranceSMALLGROUPDeferredPY1(Add)', '7.4Membermonths9HealthInsuranceSMALLGROUPDeferredPY1(Add)', '7.4Membermonths25ExpatSMALLGROUPTotalasof12/31/14', '7.4Membermonths37StudentHealthINDIVIDUALDualContracts(IncludedinTotalasof3/31/15)', '7.5Numberoflife-years9HealthInsuranceSMALLGROUPDeferredPY1(Add)', '7.5Numberoflife-years37StudentHealthINDIVIDUALDualContracts(IncludedinTotalasof3/31/15)', '1.1Directpremiumwritten9HealthInsuranceSMALLGROUPDeferredPY1(Add)', '1.1Directpremiumwritten14HealthInsuranceLARGEGROUPDeferredPY1(Add)', '1.1Directpremiumwritten25ExpatSMALLGROUPTotalasof12/31/14', '1.1Directpremiumwritten37StudentHealthINDIVIDUALDualContracts(IncludedinTotalasof3/31/15)', '1.5Reserveforexperienceratingrefunds(ratecredits)MLRReportingyear22Mini-MedLARGEGROUPTotalasof12/31/14', '1.5Reserveforexperienceratingrefunds(ratecredits)MLRReportingyear23Mini-MedLARGEGROUPTotalasof3/31/15', '1.6Reserveforexperienceratingrefunds(ratecredits)prioryear19Mini-MedSMALLGROUPTotalasof12/31/14', '1.7Premiumbalanceswrittenoff25ExpatSMALLGROUPTotalasof12/31/14', '1.13Premiumassumedunder100%reinsurance(informationalonly;alreadyincludedinLines1.1-1.11)22Mini-MedLARGEGROUPTotalasof12/31/14', '1.13Premiumassumedunder100%reinsurance(informationalonly;alreadyincludedinLines1.1-1.11)36StudentHealthINDIVIDUALTotalasof3/31/15', '2.1bClaimsincurredonlyduringtheMLRreportingyearpaidthrough3/31ofthefollowingyear1HealthInsuranceINDIVIDUALTotalasof12/31/14', '2.1bClaimsincurredonlyduringtheMLRreportingyearpaidthrough3/31ofthefollowingyear9HealthInsuranceSMALLGROUPDeferredPY1(Add)', '2.2bLiabilityforclaimsincurredonlyduringtheMLRreportingyearcalculatedasof3/31ofthefollowingyear9HealthInsuranceSMALLGROUPDeferredPY1(Add)', '2.4aReservesasof12/31ofMLRreportingyearforallclaimsregardlessofincurreddate22Mini-MedLARGEGROUPTotalasof12/31/14', '2.4bReservesforclaimsincurredonlyduringtheMLRreportingyearcalculatedasof3/31ofthefollowingyear4HealthInsuranceINDIVIDUALDeferredPY1(Add)', '2.4bReservesforclaimsincurredonlyduringtheMLRreportingyearcalculatedasof3/31ofthefollowingyear8HealthInsuranceSMALLGROUPDualContracts(IncludedinTotalasof3/31/15)', '2.4bReservesforclaimsincurredonlyduringtheMLRreportingyearcalculatedasof3/31ofthefollowingyear13HealthInsuranceLARGEGROUPDualContracts(IncludedinTotalasof3/31/15)', '2.4bReservesforclaimsincurredonlyduringtheMLRreportingyearcalculatedasof3/31ofthefollowingyear23Mini-MedLARGEGROUPTotalasof3/31/15', '2.6aDirectcontractreserves12/31column30ExpatLARGEGROUPTotalasof12/31/14', '2.11aPaidmedicalincentivepoolsandbonusesMLRReportingyear22Mini-MedLARGEGROUPTotalasof12/31/14', '2.11aPaidmedicalincentivepoolsandbonusesMLRReportingyear23Mini-MedLARGEGROUPTotalasof3/31/15', '2.11bAccruedmedicalincentivepoolsandbonusesMLRReportingyear17Mini-MedINDIVIDUALTotalasof3/31/15', '2.11bAccruedmedicalincentivepoolsandbonusesMLRReportingyear19Mini-MedSMALLGROUPTotalasof12/31/14', '2.12aHealthcarereceivablesMLRReportingyear19Mini-MedSMALLGROUPTotalasof12/31/14', '2.14Groupconversioncharges7AHealthInsuranceSMALLGROUP[RiskCorridors]Totalasof3/31/15', '2.14Groupconversioncharges40GovernmentProgramPlansTotalasof12/31/14', '2.16Totalincurredclaims9HealthInsuranceSMALLGROUPDeferredPY1(Add)', '2.17Allowablefraudreductionexpense(thesmallerofLines2.17aor2.17b)5HealthInsuranceINDIVIDUALDeferredCY(Subtract)', '2.17Allowablefraudreductionexpense(thesmallerofLines2.17aor2.17b)22Mini-MedLARGEGROUPTotalasof12/31/14', '2.17Allowablefraudreductionexpense(thesmallerofLines2.17aor2.17b)23Mini-MedLARGEGROUPTotalasof3/31/15', '2.17aTotalfraudreductionexpense19Mini-MedSMALLGROUPTotalasof12/31/14', '2.17aTotalfraudreductionexpense20Mini-MedSMALLGROUPTotalasof3/31/15', '2.17aTotalfraudreductionexpense23Mini-MedLARGEGROUPTotalasof3/31/15', '2.17bTotalfraudrecoveriesthatreducedpaidclaimsinLine2.119Mini-MedSMALLGROUPTotalasof12/31/14', '2.17bTotalfraudrecoveriesthatreducedpaidclaimsinLine2.122Mini-MedLARGEGROUPTotalasof12/31/14', '2.17bTotalfraudrecoveriesthatreducedpaidclaimsinLine2.123Mini-MedLARGEGROUPTotalasof3/31/15']\n"
     ]
    }
   ],
   "source": [
    "diff15_14 = [x for x in col14 if x not in col15_fixyears]\n",
    "print(diff15_14)"
   ]
  },
  {
   "cell_type": "code",
   "execution_count": 47,
   "metadata": {},
   "outputs": [
    {
     "name": "stdout",
     "output_type": "stream",
     "text": [
      "['1.1Totaldirectpremiumearned37StudentHealthINDIVIDUALDualContracts(IncludedinTotalasof3/31/15)', '1.2Federalhighriskpools2AHealthInsuranceINDIVIDUAL[RiskCorridors]Totalasof3/31/15', '1.2Federalhighriskpools35StudentHealthINDIVIDUALTotalasof12/31/14', '1.3Statehighriskpools3HealthInsuranceINDIVIDUALDualContracts(IncludedinTotalasof3/31/15)', '1.3Statehighriskpools5HealthInsuranceINDIVIDUALDeferredCY(Subtract)', '1.3Statehighriskpools23Mini-MedLARGEGROUPTotalasof3/31/15', '1.4Netassumedlesscededreinsurancepremiumearned(excludeamountsalreadyreportedinLine1.1)22Mini-MedLARGEGROUPTotalasof12/31/14', '1.5OtheradjustmentsduetoMLRcalculations-premium16Mini-MedINDIVIDUALTotalasof12/31/14', '1.5OtheradjustmentsduetoMLRcalculations-premium22Mini-MedLARGEGROUPTotalasof12/31/14', '2.1Totalincurredclaims(MLRFormPart2Line2.16)25ExpatSMALLGROUPTotalasof12/31/14', '2.3Pharmaceuticalrebates(informationalonly;alreadyexcludedfromtotalincurredclaimsabove)13HealthInsuranceLARGEGROUPDualContracts(IncludedinTotalasof3/31/15)', '2.3Pharmaceuticalrebates(informationalonly;alreadyexcludedfromtotalincurredclaimsabove)19Mini-MedSMALLGROUPTotalasof12/31/14', '2.3Pharmaceuticalrebates(informationalonly;alreadyexcludedfromtotalincurredclaimsabove)20Mini-MedSMALLGROUPTotalasof3/31/15', '2.3Pharmaceuticalrebates(informationalonly;alreadyexcludedfromtotalincurredclaimsabove)23Mini-MedLARGEGROUPTotalasof3/31/15', '2.4Statestoplossmarketstabilizationandclaim/censusbasedassessments(informationalonly;alreadyexcludedfromtotalincurredclaimsabove)20Mini-MedSMALLGROUPTotalasof3/31/15', '2.5Netassumedlesscededclaimsincurred(excludeamountsalreadyreportedinLine2.1)19Mini-MedSMALLGROUPTotalasof12/31/14', '2.5Netassumedlesscededclaimsincurred(excludeamountsalreadyreportedinLine2.1)22Mini-MedLARGEGROUPTotalasof12/31/14', '2.6OtheradjustmentsduetoMLRcalculations?claimsincurred22Mini-MedLARGEGROUPTotalasof12/31/14', '2.7Rebatespaid40GovernmentProgramPlansTotalasof12/31/14', '2.8EstimatedrebatesunpaidattheendofthepreviousMLRreportingyear22Mini-MedLARGEGROUPTotalasof12/31/14', '2.9EstimatedrebatesunpaidattheendoftheMLRreportingyear22Mini-MedLARGEGROUPTotalasof12/31/14', '2.9EstimatedrebatesunpaidattheendoftheMLRreportingyear40GovernmentProgramPlansTotalasof12/31/14', '2.11Allowablefraudreductionexpenses(MLRFormPart2Line2.17)4HealthInsuranceINDIVIDUALDeferredPY1(Add)', '2.11Allowablefraudreductionexpenses(MLRFormPart2Line2.17)5HealthInsuranceINDIVIDUALDeferredCY(Subtract)', '2.11Allowablefraudreductionexpenses(MLRFormPart2Line2.17)16Mini-MedINDIVIDUALTotalasof12/31/14', '2.11Allowablefraudreductionexpenses(MLRFormPart2Line2.17)17Mini-MedINDIVIDUALTotalasof3/31/15', '2.11Allowablefraudreductionexpenses(MLRFormPart2Line2.17)22Mini-MedLARGEGROUPTotalasof12/31/14', '2.11Allowablefraudreductionexpenses(MLRFormPart2Line2.17)23Mini-MedLARGEGROUPTotalasof3/31/15', '2.11Allowablefraudreductionexpenses(MLRFormPart2Line2.17)25ExpatSMALLGROUPTotalasof12/31/14', '2.11Allowablefraudreductionexpenses(MLRFormPart2Line2.17)30ExpatLARGEGROUPTotalasof12/31/14', '3.1aFederalincometaxesdeductiblefrompremiuminMLRcalculations25ExpatSMALLGROUPTotalasof12/31/14', '3.1cAffordableCareActsection9010Fee9HealthInsuranceSMALLGROUPDeferredPY1(Add)', '3.1cAffordableCareActsection9010Fee10HealthInsuranceSMALLGROUPDeferredCY(Subtract)', '3.1cAffordableCareActsection9010Fee14HealthInsuranceLARGEGROUPDeferredPY1(Add)', '3.1cAffordableCareActsection9010Fee20Mini-MedSMALLGROUPTotalasof3/31/15', '3.1cAffordableCareActsection9010Fee25ExpatSMALLGROUPTotalasof12/31/14', '3.1dOtherFederalTaxesandassessmentsdeductiblefrompremium3HealthInsuranceINDIVIDUALDualContracts(IncludedinTotalasof3/31/15)', '3.1dOtherFederalTaxesandassessmentsdeductiblefrompremium20Mini-MedSMALLGROUPTotalasof3/31/15', '3.1dOtherFederalTaxesandassessmentsdeductiblefrompremium25ExpatSMALLGROUPTotalasof12/31/14', '3.2bStatepremiumtaxes9HealthInsuranceSMALLGROUPDeferredPY1(Add)', '3.2bStatepremiumtaxes20Mini-MedSMALLGROUPTotalasof3/31/15', '3.2cCommunitybenefitexpendituresdeductiblefrompremiuminMLRcalculations16Mini-MedINDIVIDUALTotalasof12/31/14', '3.2cCommunitybenefitexpendituresdeductiblefrompremiuminMLRcalculations17Mini-MedINDIVIDUALTotalasof3/31/15', '3.2cCommunitybenefitexpendituresdeductiblefrompremiuminMLRcalculations19Mini-MedSMALLGROUPTotalasof12/31/14', '3.2cCommunitybenefitexpendituresdeductiblefrompremiuminMLRcalculations20Mini-MedSMALLGROUPTotalasof3/31/15', '3.2cCommunitybenefitexpendituresdeductiblefrompremiuminMLRcalculations22Mini-MedLARGEGROUPTotalasof12/31/14', '3.2cCommunitybenefitexpendituresdeductiblefrompremiuminMLRcalculations23Mini-MedLARGEGROUPTotalasof3/31/15', '3.2cCommunitybenefitexpendituresdeductiblefrompremiuminMLRcalculations25ExpatSMALLGROUPTotalasof12/31/14', '3.2cCommunitybenefitexpendituresdeductiblefrompremiuminMLRcalculations30ExpatLARGEGROUPTotalasof12/31/14', '3.3aFederalTransitionalReinsuranceProgramcontributions3HealthInsuranceINDIVIDUALDualContracts(IncludedinTotalasof3/31/15)', '3.3aFederalTransitionalReinsuranceProgramcontributions30ExpatLARGEGROUPTotalasof12/31/14', '4.1Improvehealthoutcomes19Mini-MedSMALLGROUPTotalasof12/31/14', '4.1Improvehealthoutcomes20Mini-MedSMALLGROUPTotalasof3/31/15', '4.1Improvehealthoutcomes22Mini-MedLARGEGROUPTotalasof12/31/14', '4.1Improvehealthoutcomes23Mini-MedLARGEGROUPTotalasof3/31/15', '4.1Improvehealthoutcomes25ExpatSMALLGROUPTotalasof12/31/14', '4.2Activitiestopreventhospitalreadmission16Mini-MedINDIVIDUALTotalasof12/31/14', '4.2Activitiestopreventhospitalreadmission17Mini-MedINDIVIDUALTotalasof3/31/15', '4.2Activitiestopreventhospitalreadmission19Mini-MedSMALLGROUPTotalasof12/31/14', '4.2Activitiestopreventhospitalreadmission20Mini-MedSMALLGROUPTotalasof3/31/15', '4.2Activitiestopreventhospitalreadmission22Mini-MedLARGEGROUPTotalasof12/31/14', '4.2Activitiestopreventhospitalreadmission23Mini-MedLARGEGROUPTotalasof3/31/15', '4.2Activitiestopreventhospitalreadmission25ExpatSMALLGROUPTotalasof12/31/14', '4.3Improvepatientsafetyandreducemedicalerrors16Mini-MedINDIVIDUALTotalasof12/31/14', '4.3Improvepatientsafetyandreducemedicalerrors17Mini-MedINDIVIDUALTotalasof3/31/15', '4.3Improvepatientsafetyandreducemedicalerrors19Mini-MedSMALLGROUPTotalasof12/31/14', '4.3Improvepatientsafetyandreducemedicalerrors20Mini-MedSMALLGROUPTotalasof3/31/15', '4.3Improvepatientsafetyandreducemedicalerrors22Mini-MedLARGEGROUPTotalasof12/31/14', '4.3Improvepatientsafetyandreducemedicalerrors23Mini-MedLARGEGROUPTotalasof3/31/15', '4.3Improvepatientsafetyandreducemedicalerrors25ExpatSMALLGROUPTotalasof12/31/14', '4.4Wellnessandhealthpromotionactivities16Mini-MedINDIVIDUALTotalasof12/31/14', '4.4Wellnessandhealthpromotionactivities17Mini-MedINDIVIDUALTotalasof3/31/15', '4.4Wellnessandhealthpromotionactivities19Mini-MedSMALLGROUPTotalasof12/31/14', '4.4Wellnessandhealthpromotionactivities20Mini-MedSMALLGROUPTotalasof3/31/15', '4.4Wellnessandhealthpromotionactivities22Mini-MedLARGEGROUPTotalasof12/31/14', '4.4Wellnessandhealthpromotionactivities23Mini-MedLARGEGROUPTotalasof3/31/15', '4.4Wellnessandhealthpromotionactivities25ExpatSMALLGROUPTotalasof12/31/14', '4.5Healthinformationtechnologyexpensesrelatedtoimprovinghealthcarequality16Mini-MedINDIVIDUALTotalasof12/31/14', '4.5Healthinformationtechnologyexpensesrelatedtoimprovinghealthcarequality17Mini-MedINDIVIDUALTotalasof3/31/15', '4.5Healthinformationtechnologyexpensesrelatedtoimprovinghealthcarequality19Mini-MedSMALLGROUPTotalasof12/31/14', '4.5Healthinformationtechnologyexpensesrelatedtoimprovinghealthcarequality20Mini-MedSMALLGROUPTotalasof3/31/15', '4.5Healthinformationtechnologyexpensesrelatedtoimprovinghealthcarequality22Mini-MedLARGEGROUPTotalasof12/31/14', '4.5Healthinformationtechnologyexpensesrelatedtoimprovinghealthcarequality23Mini-MedLARGEGROUPTotalasof3/31/15', '4.5Healthinformationtechnologyexpensesrelatedtoimprovinghealthcarequality25ExpatSMALLGROUPTotalasof12/31/14', '4.6AllowableImplementationICD-10expenses(nottoexceed0.3%ofpremium)1HealthInsuranceINDIVIDUALTotalasof12/31/14', '4.6AllowableImplementationICD-10expenses(nottoexceed0.3%ofpremium)2HealthInsuranceINDIVIDUALTotalasof3/31/15', '4.6AllowableImplementationICD-10expenses(nottoexceed0.3%ofpremium)4HealthInsuranceINDIVIDUALDeferredPY1(Add)', '4.6AllowableImplementationICD-10expenses(nottoexceed0.3%ofpremium)5HealthInsuranceINDIVIDUALDeferredCY(Subtract)', '4.6AllowableImplementationICD-10expenses(nottoexceed0.3%ofpremium)2AHealthInsuranceINDIVIDUAL[RiskCorridors]Totalasof3/31/15', '4.6AllowableImplementationICD-10expenses(nottoexceed0.3%ofpremium)6HealthInsuranceSMALLGROUPTotalasof12/31/14', '4.6AllowableImplementationICD-10expenses(nottoexceed0.3%ofpremium)7HealthInsuranceSMALLGROUPTotalasof3/31/15', '4.6AllowableImplementationICD-10expenses(nottoexceed0.3%ofpremium)7AHealthInsuranceSMALLGROUP[RiskCorridors]Totalasof3/31/15', '4.6AllowableImplementationICD-10expenses(nottoexceed0.3%ofpremium)11HealthInsuranceLARGEGROUPTotalasof12/31/14', '4.6AllowableImplementationICD-10expenses(nottoexceed0.3%ofpremium)12HealthInsuranceLARGEGROUPTotalasof3/31/15', '4.6AllowableImplementationICD-10expenses(nottoexceed0.3%ofpremium)16Mini-MedINDIVIDUALTotalasof12/31/14', '4.6AllowableImplementationICD-10expenses(nottoexceed0.3%ofpremium)17Mini-MedINDIVIDUALTotalasof3/31/15', '4.6AllowableImplementationICD-10expenses(nottoexceed0.3%ofpremium)22Mini-MedLARGEGROUPTotalasof12/31/14', '4.6AllowableImplementationICD-10expenses(nottoexceed0.3%ofpremium)23Mini-MedLARGEGROUPTotalasof3/31/15', '4.6AllowableImplementationICD-10expenses(nottoexceed0.3%ofpremium)25ExpatSMALLGROUPTotalasof12/31/14', '4.6AllowableImplementationICD-10expenses(nottoexceed0.3%ofpremium)30ExpatLARGEGROUPTotalasof12/31/14', '4.6AllowableImplementationICD-10expenses(nottoexceed0.3%ofpremium)35StudentHealthINDIVIDUALTotalasof12/31/14', '4.6AllowableImplementationICD-10expenses(nottoexceed0.3%ofpremium)36StudentHealthINDIVIDUALTotalasof3/31/15', '4.6AllowableImplementationICD-10expenses(nottoexceed0.3%ofpremium)40GovernmentProgramPlansTotalasof12/31/14', '4.6AllowableImplementationICD-10expenses(nottoexceed0.3%ofpremium)41OtherHealthBusinessTotalasof12/31/14', '4.6AllowableImplementationICD-10expenses(nottoexceed0.3%ofpremium)42Aggregate2%RuleTotalasof12/31/14', '4.6AllowableImplementationICD-10expenses(nottoexceed0.3%ofpremium)43UninsuredPlansTotalasof12/31/14', '5.1CostcontainmentexpensesnotincludedinqualityimprovementexpensesinSection419Mini-MedSMALLGROUPTotalasof12/31/14', '5.1CostcontainmentexpensesnotincludedinqualityimprovementexpensesinSection420Mini-MedSMALLGROUPTotalasof3/31/15', '5.1CostcontainmentexpensesnotincludedinqualityimprovementexpensesinSection423Mini-MedLARGEGROUPTotalasof3/31/15', '5.1CostcontainmentexpensesnotincludedinqualityimprovementexpensesinSection425ExpatSMALLGROUPTotalasof12/31/14', '5.2Allotherclaimsadjustmentexpenses19Mini-MedSMALLGROUPTotalasof12/31/14', '5.2Allotherclaimsadjustmentexpenses20Mini-MedSMALLGROUPTotalasof3/31/15', '5.2Allotherclaimsadjustmentexpenses25ExpatSMALLGROUPTotalasof12/31/14', '5.3Directsalessalariesandbenefits20Mini-MedSMALLGROUPTotalasof3/31/15', '5.3Directsalessalariesandbenefits23Mini-MedLARGEGROUPTotalasof3/31/15', '5.3Directsalessalariesandbenefits25ExpatSMALLGROUPTotalasof12/31/14', '5.4Agentsandbrokersfeesandcommissions9HealthInsuranceSMALLGROUPDeferredPY1(Add)', '5.5aTaxesandassessments(excludeamountsreportedinSection3orLine9)20Mini-MedSMALLGROUPTotalasof3/31/15', '5.5bFinesandpenaltiesofregulatoryauthorities(excludeamountsreportedinLine3.3)16Mini-MedINDIVIDUALTotalasof12/31/14', '5.5bFinesandpenaltiesofregulatoryauthorities(excludeamountsreportedinLine3.3)17Mini-MedINDIVIDUALTotalasof3/31/15', '5.5bFinesandpenaltiesofregulatoryauthorities(excludeamountsreportedinLine3.3)20Mini-MedSMALLGROUPTotalasof3/31/15', '5.5bFinesandpenaltiesofregulatoryauthorities(excludeamountsreportedinLine3.3)23Mini-MedLARGEGROUPTotalasof3/31/15', '5.7Communitybenefitexpenditures(informationalonly;includeamountsreportedinLines3.2cand5.6)16Mini-MedINDIVIDUALTotalasof12/31/14', '5.7Communitybenefitexpenditures(informationalonly;includeamountsreportedinLines3.2cand5.6)17Mini-MedINDIVIDUALTotalasof3/31/15', '5.7Communitybenefitexpenditures(informationalonly;includeamountsreportedinLines3.2cand5.6)19Mini-MedSMALLGROUPTotalasof12/31/14', '5.7Communitybenefitexpenditures(informationalonly;includeamountsreportedinLines3.2cand5.6)20Mini-MedSMALLGROUPTotalasof3/31/15', '5.7Communitybenefitexpenditures(informationalonly;includeamountsreportedinLines3.2cand5.6)22Mini-MedLARGEGROUPTotalasof12/31/14', '5.7Communitybenefitexpenditures(informationalonly;includeamountsreportedinLines3.2cand5.6)23Mini-MedLARGEGROUPTotalasof3/31/15', '5.7Communitybenefitexpenditures(informationalonly;includeamountsreportedinLines3.2cand5.6)25ExpatSMALLGROUPTotalasof12/31/14', '5.7Communitybenefitexpenditures(informationalonly;includeamountsreportedinLines3.2cand5.6)30ExpatLARGEGROUPTotalasof12/31/14', '5.8ICD-10implementationexpenses(informationalonly;includeamountsreportedinLines4.6and5.6)1HealthInsuranceINDIVIDUALTotalasof12/31/14', '5.8ICD-10implementationexpenses(informationalonly;includeamountsreportedinLines4.6and5.6)2HealthInsuranceINDIVIDUALTotalasof3/31/15', '5.8ICD-10implementationexpenses(informationalonly;includeamountsreportedinLines4.6and5.6)3HealthInsuranceINDIVIDUALDualContracts(IncludedinTotalasof3/31/15)', '5.8ICD-10implementationexpenses(informationalonly;includeamountsreportedinLines4.6and5.6)2AHealthInsuranceINDIVIDUAL[RiskCorridors]Totalasof3/31/15', '5.8ICD-10implementationexpenses(informationalonly;includeamountsreportedinLines4.6and5.6)6HealthInsuranceSMALLGROUPTotalasof12/31/14', '5.8ICD-10implementationexpenses(informationalonly;includeamountsreportedinLines4.6and5.6)7HealthInsuranceSMALLGROUPTotalasof3/31/15', '5.8ICD-10implementationexpenses(informationalonly;includeamountsreportedinLines4.6and5.6)8HealthInsuranceSMALLGROUPDualContracts(IncludedinTotalasof3/31/15)', '5.8ICD-10implementationexpenses(informationalonly;includeamountsreportedinLines4.6and5.6)7AHealthInsuranceSMALLGROUP[RiskCorridors]Totalasof3/31/15', '5.8ICD-10implementationexpenses(informationalonly;includeamountsreportedinLines4.6and5.6)11HealthInsuranceLARGEGROUPTotalasof12/31/14', '5.8ICD-10implementationexpenses(informationalonly;includeamountsreportedinLines4.6and5.6)12HealthInsuranceLARGEGROUPTotalasof3/31/15', '5.8ICD-10implementationexpenses(informationalonly;includeamountsreportedinLines4.6and5.6)13HealthInsuranceLARGEGROUPDualContracts(IncludedinTotalasof3/31/15)', '5.8ICD-10implementationexpenses(informationalonly;includeamountsreportedinLines4.6and5.6)16Mini-MedINDIVIDUALTotalasof12/31/14', '5.8ICD-10implementationexpenses(informationalonly;includeamountsreportedinLines4.6and5.6)17Mini-MedINDIVIDUALTotalasof3/31/15', '5.8ICD-10implementationexpenses(informationalonly;includeamountsreportedinLines4.6and5.6)19Mini-MedSMALLGROUPTotalasof12/31/14', '5.8ICD-10implementationexpenses(informationalonly;includeamountsreportedinLines4.6and5.6)20Mini-MedSMALLGROUPTotalasof3/31/15', '5.8ICD-10implementationexpenses(informationalonly;includeamountsreportedinLines4.6and5.6)22Mini-MedLARGEGROUPTotalasof12/31/14', '5.8ICD-10implementationexpenses(informationalonly;includeamountsreportedinLines4.6and5.6)23Mini-MedLARGEGROUPTotalasof3/31/15', '5.8ICD-10implementationexpenses(informationalonly;includeamountsreportedinLines4.6and5.6)25ExpatSMALLGROUPTotalasof12/31/14', '5.8ICD-10implementationexpenses(informationalonly;includeamountsreportedinLines4.6and5.6)30ExpatLARGEGROUPTotalasof12/31/14', '5.8ICD-10implementationexpenses(informationalonly;includeamountsreportedinLines4.6and5.6)35StudentHealthINDIVIDUALTotalasof12/31/14', '5.8ICD-10implementationexpenses(informationalonly;includeamountsreportedinLines4.6and5.6)36StudentHealthINDIVIDUALTotalasof3/31/15', '5.8ICD-10implementationexpenses(informationalonly;includeamountsreportedinLines4.6and5.6)40GovernmentProgramPlansTotalasof12/31/14', '5.8ICD-10implementationexpenses(informationalonly;includeamountsreportedinLines4.6and5.6)41OtherHealthBusinessTotalasof12/31/14', '5.8ICD-10implementationexpenses(informationalonly;includeamountsreportedinLines4.6and5.6)42Aggregate2%RuleTotalasof12/31/14', '5.8ICD-10implementationexpenses(informationalonly;includeamountsreportedinLines4.6and5.6)43UninsuredPlansTotalasof12/31/14', '7.3Numberofgroups1HealthInsuranceINDIVIDUALTotalasof12/31/14', '7.4Membermonths37StudentHealthINDIVIDUALDualContracts(IncludedinTotalasof3/31/15)', '7.5Numberoflife-years37StudentHealthINDIVIDUALDualContracts(IncludedinTotalasof3/31/15)', '1.1Directpremiumwritten37StudentHealthINDIVIDUALDualContracts(IncludedinTotalasof3/31/15)', '1.5Reserveforexperienceratingrefunds(ratecredits)MLRReportingyear22Mini-MedLARGEGROUPTotalasof12/31/14', '1.5Reserveforexperienceratingrefunds(ratecredits)MLRReportingyear23Mini-MedLARGEGROUPTotalasof3/31/15', '1.6Reserveforexperienceratingrefunds(ratecredits)prioryear19Mini-MedSMALLGROUPTotalasof12/31/14', '1.6Reserveforexperienceratingrefunds(ratecredits)prioryear22Mini-MedLARGEGROUPTotalasof12/31/14', '1.7Premiumbalanceswrittenoff5HealthInsuranceINDIVIDUALDeferredCY(Subtract)', '1.7Premiumbalanceswrittenoff25ExpatSMALLGROUPTotalasof12/31/14', '1.8Groupconversioncharges40GovernmentProgramPlansTotalasof12/31/14', '1.13Premiumassumedunder100%reinsurance(informationalonly;alreadyincludedinLines1.1-1.11)22Mini-MedLARGEGROUPTotalasof12/31/14', '1.13Premiumassumedunder100%reinsurance(informationalonly;alreadyincludedinLines1.1-1.11)36StudentHealthINDIVIDUALTotalasof3/31/15', '2.1bClaimsincurredonlyduringtheMLRreportingyearpaidthrough3/31ofthefollowingyear1HealthInsuranceINDIVIDUALTotalasof12/31/14', '2.4aReservesasof12/31ofMLRreportingyearforallclaimsregardlessofincurreddate16Mini-MedINDIVIDUALTotalasof12/31/14', '2.4aReservesasof12/31ofMLRreportingyearforallclaimsregardlessofincurreddate22Mini-MedLARGEGROUPTotalasof12/31/14', '2.4bReservesforclaimsincurredonlyduringtheMLRreportingyearcalculatedasof3/31ofthefollowingyear4HealthInsuranceINDIVIDUALDeferredPY1(Add)', '2.4bReservesforclaimsincurredonlyduringtheMLRreportingyearcalculatedasof3/31ofthefollowingyear17Mini-MedINDIVIDUALTotalasof3/31/15', '2.4bReservesforclaimsincurredonlyduringtheMLRreportingyearcalculatedasof3/31ofthefollowingyear23Mini-MedLARGEGROUPTotalasof3/31/15', '2.5Directclaimreservesprioryear16Mini-MedINDIVIDUALTotalasof12/31/14', '2.5Directclaimreservesprioryear22Mini-MedLARGEGROUPTotalasof12/31/14', '2.6aDirectcontractreserves12/31column30ExpatLARGEGROUPTotalasof12/31/14', '2.9bReservesspecifictotheMLRreportingyearthrough3/31ofthefollowingyear17Mini-MedINDIVIDUALTotalasof3/31/15', '2.9bReservesspecifictotheMLRreportingyearthrough3/31ofthefollowingyear36StudentHealthINDIVIDUALTotalasof3/31/15', '2.11aPaidmedicalincentivepoolsandbonusesMLRReportingyear16Mini-MedINDIVIDUALTotalasof12/31/14', '2.11aPaidmedicalincentivepoolsandbonusesMLRReportingyear17Mini-MedINDIVIDUALTotalasof3/31/15', '2.11aPaidmedicalincentivepoolsandbonusesMLRReportingyear22Mini-MedLARGEGROUPTotalasof12/31/14', '2.11aPaidmedicalincentivepoolsandbonusesMLRReportingyear23Mini-MedLARGEGROUPTotalasof3/31/15', '2.11bAccruedmedicalincentivepoolsandbonusesMLRReportingyear17Mini-MedINDIVIDUALTotalasof3/31/15', '2.11bAccruedmedicalincentivepoolsandbonusesMLRReportingyear19Mini-MedSMALLGROUPTotalasof12/31/14', '2.12aHealthcarereceivablesMLRReportingyear17Mini-MedINDIVIDUALTotalasof3/31/15', '2.12aHealthcarereceivablesMLRReportingyear19Mini-MedSMALLGROUPTotalasof12/31/14', '2.12bHealthcarereceivablesprioryear19Mini-MedSMALLGROUPTotalasof12/31/14', '2.13Contingentbenefitandlawsuitreserves30ExpatLARGEGROUPTotalasof12/31/14', '2.14Groupconversioncharges7AHealthInsuranceSMALLGROUP[RiskCorridors]Totalasof3/31/15', '2.14Groupconversioncharges40GovernmentProgramPlansTotalasof12/31/14', '2.16Totalincurredclaims25ExpatSMALLGROUPTotalasof12/31/14', '2.17Allowablefraudreductionexpense(thesmallerofLines2.17aor2.17b)4HealthInsuranceINDIVIDUALDeferredPY1(Add)', '2.17Allowablefraudreductionexpense(thesmallerofLines2.17aor2.17b)5HealthInsuranceINDIVIDUALDeferredCY(Subtract)', '2.17Allowablefraudreductionexpense(thesmallerofLines2.17aor2.17b)16Mini-MedINDIVIDUALTotalasof12/31/14', '2.17Allowablefraudreductionexpense(thesmallerofLines2.17aor2.17b)17Mini-MedINDIVIDUALTotalasof3/31/15', '2.17Allowablefraudreductionexpense(thesmallerofLines2.17aor2.17b)22Mini-MedLARGEGROUPTotalasof12/31/14', '2.17Allowablefraudreductionexpense(thesmallerofLines2.17aor2.17b)23Mini-MedLARGEGROUPTotalasof3/31/15', '2.17Allowablefraudreductionexpense(thesmallerofLines2.17aor2.17b)25ExpatSMALLGROUPTotalasof12/31/14', '2.17Allowablefraudreductionexpense(thesmallerofLines2.17aor2.17b)30ExpatLARGEGROUPTotalasof12/31/14', '2.17aTotalfraudreductionexpense5HealthInsuranceINDIVIDUALDeferredCY(Subtract)', '2.17aTotalfraudreductionexpense16Mini-MedINDIVIDUALTotalasof12/31/14', '2.17aTotalfraudreductionexpense17Mini-MedINDIVIDUALTotalasof3/31/15', '2.17aTotalfraudreductionexpense19Mini-MedSMALLGROUPTotalasof12/31/14', '2.17aTotalfraudreductionexpense20Mini-MedSMALLGROUPTotalasof3/31/15', '2.17aTotalfraudreductionexpense23Mini-MedLARGEGROUPTotalasof3/31/15', '2.17aTotalfraudreductionexpense25ExpatSMALLGROUPTotalasof12/31/14', '2.17bTotalfraudrecoveriesthatreducedpaidclaimsinLine2.15HealthInsuranceINDIVIDUALDeferredCY(Subtract)', '2.17bTotalfraudrecoveriesthatreducedpaidclaimsinLine2.116Mini-MedINDIVIDUALTotalasof12/31/14', '2.17bTotalfraudrecoveriesthatreducedpaidclaimsinLine2.117Mini-MedINDIVIDUALTotalasof3/31/15', '2.17bTotalfraudrecoveriesthatreducedpaidclaimsinLine2.119Mini-MedSMALLGROUPTotalasof12/31/14', '2.17bTotalfraudrecoveriesthatreducedpaidclaimsinLine2.122Mini-MedLARGEGROUPTotalasof12/31/14', '2.17bTotalfraudrecoveriesthatreducedpaidclaimsinLine2.123Mini-MedLARGEGROUPTotalasof3/31/15', '2.17bTotalfraudrecoveriesthatreducedpaidclaimsinLine2.125ExpatSMALLGROUPTotalasof12/31/14', '2.17bTotalfraudrecoveriesthatreducedpaidclaimsinLine2.130ExpatLARGEGROUPTotalasof12/31/14']\n"
     ]
    }
   ],
   "source": [
    "diff16_14 = [x for x in col14 if x not in col16_fixyears]\n",
    "print(diff16_14)"
   ]
  },
  {
   "cell_type": "code",
   "execution_count": null,
   "metadata": {
    "collapsed": true
   },
   "outputs": [],
   "source": []
  }
 ],
 "metadata": {
  "kernelspec": {
   "display_name": "Python 3",
   "language": "python",
   "name": "python3"
  },
  "language_info": {
   "codemirror_mode": {
    "name": "ipython",
    "version": 3
   },
   "file_extension": ".py",
   "mimetype": "text/x-python",
   "name": "python",
   "nbconvert_exporter": "python",
   "pygments_lexer": "ipython3",
   "version": "3.6.1"
  }
 },
 "nbformat": 4,
 "nbformat_minor": 2
}
