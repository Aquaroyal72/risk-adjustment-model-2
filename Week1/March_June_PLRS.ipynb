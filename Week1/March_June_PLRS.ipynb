{
 "cells": [
  {
   "cell_type": "markdown",
   "metadata": {},
   "source": [
    "Between March 31 and June 30, state average PLRS significantly increases. Appendix A tables. I have made and graphed the changes (focused on 2017 because the interim March data from 2016 is not available).  \n",
    "\n",
    "- How much does it increase? \n",
    "- Does it increase for every state? \n",
    "- What are the year to year differences in June 30 scores?\n",
    "\n",
    "\n",
    "\n",
    "I read the paper on PLRS (https://www.ncbi.nlm.nih.gov/pmc/articles/PMC4214270/) twice and I have not found any indication of how it is billed, whether upcoding or downcoding patient issues exist. What I understand is that the government gives the values, based on reported diagnoses. This lends itself to upcoding, or reporting more illnesses to try to game more money from the risk transfer system (6 to 16% higher risk scores in private versus public Medicare plans http://www.nber.org/papers/w21222). So, I believe is in an insurer's best interest to bill for a heart attack every year after the patient has a heart attack. Just like many of the other assumptions that the risk transfer formula was based on, these seem unfounded. To support this, an outside consultant Milliman says the following: \"When working with a particular coding vendor (or in house) to develop a coding improvement effort, it is important to be realistic regarding the gain that should be expected in a carrier's risk score. There are many ways to estimate the potential for coding improvement\" which pretty explicitly says that an insurer can gain by manipulating a risk score (http://www.milliman.com/uploadedFiles/insight/2016/2157HDP_20160127_value-of-aca-coding.pdf).  I wonder which insurers are aware of this and which ones are not. At the same time, if all insurers are greedy (a rational assumption) and \n",
    "\n",
    "Looking at year to year MLR,\n",
    "\n",
    "Absolute transfers over premiums per state:\n"
   ]
  },
  {
   "cell_type": "code",
   "execution_count": null,
   "metadata": {
    "collapsed": true
   },
   "outputs": [],
   "source": []
  }
 ],
 "metadata": {
  "kernelspec": {
   "display_name": "Python 3",
   "language": "python",
   "name": "python3"
  },
  "language_info": {
   "codemirror_mode": {
    "name": "ipython",
    "version": 3
   },
   "file_extension": ".py",
   "mimetype": "text/x-python",
   "name": "python",
   "nbconvert_exporter": "python",
   "pygments_lexer": "ipython3",
   "version": "3.6.1"
  }
 },
 "nbformat": 4,
 "nbformat_minor": 2
}
