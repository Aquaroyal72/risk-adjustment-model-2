{
 "cells": [
  {
   "cell_type": "code",
   "execution_count": 1,
   "metadata": {
    "collapsed": true
   },
   "outputs": [],
   "source": [
    "import pandas as pd\n",
    "import numpy as np\n",
    "import warnings\n",
    "warnings.simplefilter(action='ignore', category=FutureWarning)"
   ]
  },
  {
   "cell_type": "code",
   "execution_count": 2,
   "metadata": {
    "collapsed": true
   },
   "outputs": [],
   "source": [
    "data2014 = pd.read_csv(\"../Week7/Input/2014dataset.csv\",low_memory=False)\n",
    "data2015 = pd.read_csv(\"../Week7/Input/2015dataset.csv\",low_memory=False)\n",
    "data2016 = pd.read_csv(\"../Week7/Input/2016dataset.csv\",low_memory=False)"
   ]
  },
  {
   "cell_type": "code",
   "execution_count": 3,
   "metadata": {
    "collapsed": true
   },
   "outputs": [],
   "source": [
    "important_fields = [\"HIOS ID\", \"HIOS INPUTTED INSURANCE COMPANY NAME\", \"STATE\", \"REINSURANCE PAYMENT AMOUNT (OR NOT ELIGIBLE)\",\n",
    "                    \"HHS RISK ADJUSTMENT TRANSFER AMOUNT (INDIVIDUAL MARKET, INCLUDING CATASTROPHIC)\", \n",
    "                    \"7.4Membermonths2HealthInsuranceINDIVIDUALTotalasof3/31/15\",\n",
    "                    \"1.1Directpremiumwritten2HealthInsuranceINDIVIDUALTotalasof3/31/15\",\n",
    "                    \"2.16Totalincurredclaims2HealthInsuranceINDIVIDUALTotalasof3/31/15\",\n",
    "                    \"1.11FederalRiskCorridorsProgramnetpayments/(charges)2HealthInsuranceINDIVIDUALTotalasof3/31/15\"]\n",
    "\n",
    "data2014 = data2014[important_fields].dropna(how='all')\n",
    "data2015 = data2015[important_fields].dropna(how='all')\n",
    "data2016 = data2016[important_fields].dropna(how='all')\n",
    "\n",
    "def add_columns(playground1):\n",
    "    playground1[\"IndPremiumPMM\"] = playground1[\"1.1Directpremiumwritten2HealthInsuranceINDIVIDUALTotalasof3/31/15\"] / playground1[\"7.4Membermonths2HealthInsuranceINDIVIDUALTotalasof3/31/15\"]\n",
    "    playground1[\"IndCostsPMM\"] = playground1[\"2.16Totalincurredclaims2HealthInsuranceINDIVIDUALTotalasof3/31/15\"] / playground1[\"7.4Membermonths2HealthInsuranceINDIVIDUALTotalasof3/31/15\"]\n",
    "    playground1[\"IndRTPMM\"] = playground1[\"HHS RISK ADJUSTMENT TRANSFER AMOUNT (INDIVIDUAL MARKET, INCLUDING CATASTROPHIC)\"] / playground1[\"7.4Membermonths2HealthInsuranceINDIVIDUALTotalasof3/31/15\"]\n",
    "    playground1[\"IndReinsPMM\"] = playground1[\"REINSURANCE PAYMENT AMOUNT (OR NOT ELIGIBLE)\"] / playground1[\"7.4Membermonths2HealthInsuranceINDIVIDUALTotalasof3/31/15\"]\n",
    "    playground1[\"IndRCPMM\"] = playground1[\"1.11FederalRiskCorridorsProgramnetpayments/(charges)2HealthInsuranceINDIVIDUALTotalasof3/31/15\"] / playground1[\"7.4Membermonths2HealthInsuranceINDIVIDUALTotalasof3/31/15\"]  \n",
    "    playground1[\"TotalPA\"] = playground1[\"IndPremiumPMM\"] - playground1[\"IndCostsPMM\"]\n",
    "    playground1[\"TotalPB\"] = playground1[\"TotalPA\"] + playground1[\"IndRTPMM\"]\n",
    "    playground1[\"TotalPC\"] = playground1[\"TotalPB\"] + playground1[\"IndReinsPMM\"]\n",
    "    playground1[\"TotalPD\"] = playground1[\"TotalPB\"] + playground1[\"IndRCPMM\"]\n",
    "    playground1[\"TotalPE\"] = playground1[\"TotalPC\"] + playground1[\"IndRCPMM\"]\n",
    "\n",
    "add_columns(data2014)\n",
    "add_columns(data2015)\n",
    "add_columns(data2016)"
   ]
  },
  {
   "cell_type": "code",
   "execution_count": 4,
   "metadata": {
    "collapsed": true,
    "scrolled": true
   },
   "outputs": [],
   "source": [
    "merged2 = data2014.merge(data2015, on='HIOS ID', how='outer', suffixes=('_2014', '_2015'))\n",
    "merged2 = merged2.where(merged2[\"7.4Membermonths2HealthInsuranceINDIVIDUALTotalasof3/31/15_2014\"] > 2000).dropna(how='all')\n",
    "merged2 = merged2.where(merged2[\"7.4Membermonths2HealthInsuranceINDIVIDUALTotalasof3/31/15_2015\"] > 2000).dropna(how='all')\n",
    "merged3 = merged2.merge(data2016, on='HIOS ID', how='outer', suffixes=('', '_2016'))\n",
    "#merged3 = merged3.where(merged3[\"7.4Membermonths2HealthInsuranceINDIVIDUALTotalasof3/31/15\"] > 2000).dropna(how='all')\n",
    "merged3.to_csv(\"MarketExitAll_week10.csv\")"
   ]
  },
  {
   "cell_type": "code",
   "execution_count": null,
   "metadata": {
    "collapsed": true
   },
   "outputs": [],
   "source": []
  }
 ],
 "metadata": {
  "kernelspec": {
   "display_name": "Python 3",
   "language": "python",
   "name": "python3"
  },
  "language_info": {
   "codemirror_mode": {
    "name": "ipython",
    "version": 3
   },
   "file_extension": ".py",
   "mimetype": "text/x-python",
   "name": "python",
   "nbconvert_exporter": "python",
   "pygments_lexer": "ipython3",
   "version": "3.6.1"
  }
 },
 "nbformat": 4,
 "nbformat_minor": 2
}
