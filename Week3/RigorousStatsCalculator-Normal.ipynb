{
 "cells": [
  {
   "cell_type": "code",
   "execution_count": 55,
   "metadata": {
    "collapsed": true
   },
   "outputs": [],
   "source": [
    "import pandas as pd\n",
    "import numpy as np\n",
    "import warnings\n",
    "warnings.simplefilter(action='ignore', category=FutureWarning)"
   ]
  },
  {
   "cell_type": "code",
   "execution_count": 56,
   "metadata": {
    "collapsed": true
   },
   "outputs": [],
   "source": [
    "data2014 = pd.read_csv(\"Output/2014dataset.csv\",low_memory=False)\n",
    "data2015 = pd.read_csv(\"Output/2015dataset.csv\",low_memory=False)\n",
    "# data2016 = pd.read_csv(\"Output/2016dataset.csv\",low_memory=False) doesn't exist yet"
   ]
  },
  {
   "cell_type": "code",
   "execution_count": 57,
   "metadata": {},
   "outputs": [
    {
     "name": "stdout",
     "output_type": "stream",
     "text": [
      "['AK' 'AL' 'AR' 'AZ' 'CA' 'CO' 'CT' 'DC' 'DE' 'FL' 'GA' 'HI' 'IA' 'ID' 'IL'\n",
      " 'IN' 'KS' 'KY' 'LA' 'MA' 'MD' 'ME' 'MI' 'MN' 'MO' 'MS' 'MT' 'NC' 'ND' 'NE'\n",
      " 'NH' 'NJ' 'NM' 'NV' 'NY' 'OH' 'OK' 'OR' 'PA' 'RI' 'SC' 'SD' 'TN' 'TX' 'UT'\n",
      " 'VA' 'WA' 'WI' 'WV' 'WY']\n"
     ]
    }
   ],
   "source": [
    "states = data2014[\"STATE\"].drop_duplicates().as_matrix()\n",
    "print(states)"
   ]
  },
  {
   "cell_type": "code",
   "execution_count": 58,
   "metadata": {},
   "outputs": [],
   "source": [
    "# weighted rigorous statistics\n",
    "# group can be i for individual or sg for small group\n",
    "# absval can be 1 for yes and 0 for no\n",
    "\n",
    "# functions:\n",
    "# def getmm(group) - returns member months column\n",
    "# xbarybar(dataset, column_name, state, group, absval) - returns weighted avg of a column\n",
    "# sigmaxsigmay(dataset, column_name, state, group, absval) - returns weighted std of a column\n",
    "# covxy(dataset, column_name1, column_name2, state, group, absval1, absval2) - returns weighted cov of two columns\n",
    "# covspecial(dataset, column_name1, yi, ybar, state, group, absval1) - returns weighted cov of one column and one state measure\n",
    "# r(dataset, column_name1, column_name2, state, group, absval1, absval2) - returns weighted r of two columns\n",
    "# rspecial(dataset, column_name1, yi, ybar, sigmay, state, group, absval1) - returns weighted r of one column and one state measure\n",
    "# rsquared(dataset, column_name1, column_name2, state, group, absval1, absval2) - returns weighted r^2 of two columns\n",
    "\n",
    "def getmm(group):\n",
    "    if group == \"i\":\n",
    "        return \"7.4Membermonths2HealthInsuranceINDIVIDUALTotalasof3/31/15\"\n",
    "    elif group == \"sg\":\n",
    "        return \"7.4Membermonths7HealthInsuranceSMALLGROUPTotalasof3/31/15\"\n",
    "    else:\n",
    "        return \"\"\n",
    "\n",
    "def xbarybar(dataset, column_name, state, group, absval):\n",
    "    if state == \"ALL\":\n",
    "        temp = dataset\n",
    "    else:\n",
    "        temp = dataset.where(dataset[\"STATE\"] == state).dropna(how='all')\n",
    "    mm = getmm(group)\n",
    "    sum_mm = sum(temp[mm].convert_objects(convert_numeric=True).dropna())\n",
    "    if sum_mm == 0:\n",
    "        return\n",
    "    numerator = 0\n",
    "    denominator = 0\n",
    "    for index, row in temp.iterrows():\n",
    "        if (pd.notnull(row[column_name])) and (pd.notnull(row[mm])):\n",
    "            ratio = row[mm] / sum_mm\n",
    "            denominator = denominator + ratio\n",
    "            if absval == 1:\n",
    "                numerator = numerator + (abs(row[column_name]) * ratio)\n",
    "            else:\n",
    "                numerator = numerator + (row[column_name]  * ratio)\n",
    "    return numerator / denominator\n",
    "\n",
    "def sigmaxsigmay(dataset, column_name, state, group, absval):\n",
    "    if state == \"ALL\":\n",
    "        temp = dataset\n",
    "    else:\n",
    "        temp = dataset.where(dataset[\"STATE\"] == state).dropna(how='all')\n",
    "    mm = getmm(group)\n",
    "    sum_mm = sum(temp[mm].convert_objects(convert_numeric=True).dropna())\n",
    "    if sum_mm == 0:\n",
    "        return \"-1\"\n",
    "    numerator = 0\n",
    "    denominator = 0\n",
    "    xbar = xbarybar(dataset, column_name, state, group, absval)\n",
    "    for index, row in temp.iterrows():\n",
    "        if (pd.notnull(row[column_name])) and (pd.notnull(row[mm])):\n",
    "            ratio = row[mm] / sum_mm\n",
    "            denominator = denominator + ratio\n",
    "            if absval == 1:\n",
    "                numerator = numerator + ((abs(row[column_name]) - abs(xbar))**2 * ratio)\n",
    "            else:\n",
    "                numerator = numerator + ((row[column_name] - xbar)**2 * ratio)\n",
    "    return np.sqrt(numerator / denominator)\n",
    "\n",
    "def covxy(dataset, column_name1, column_name2, state, group, absval1, absval2):\n",
    "    if state == \"ALL\":\n",
    "        temp = dataset\n",
    "    else:\n",
    "        temp = dataset.where(dataset[\"STATE\"] == state).dropna(how='all')\n",
    "    mm = getmm(group)\n",
    "    sum_mm = sum(temp[mm].convert_objects(convert_numeric=True).dropna())\n",
    "    if sum_mm == 0:\n",
    "        return -1\n",
    "    numerator = 0\n",
    "    denominator = 0\n",
    "    xbar = xbarybar(dataset, column_name1, state, group, absval1)\n",
    "    ybar = xbarybar(dataset, column_name2, state, group, absval2)\n",
    "    for index, row in temp.iterrows():\n",
    "        if (pd.notnull(row[column_name2])) and (pd.notnull(row[column_name1])) and (pd.notnull(row[mm])):\n",
    "            xi = row[column_name1]\n",
    "            yi = row[column_name2]\n",
    "            ratio = row[mm] / sum_mm\n",
    "            denominator = denominator + ratio\n",
    "            if absval1 == 1 and absval2 == 1:\n",
    "                numerator = numerator + ((abs(xi) - xbar) * (abs(yi) - ybar) * ratio)\n",
    "            elif absval1 == 1:\n",
    "                numerator = numerator + ((abs(xi) - xbar) * (yi - ybar) * ratio)\n",
    "            elif absval2 == 1:\n",
    "                numerator = numerator + ((xi - xbar) * (abs(yi) - ybar) * ratio)\n",
    "            else:\n",
    "                numerator = numerator + ((xi - xbar) * (yi - ybar) * ratio)\n",
    "    return numerator / denominator\n",
    "\n",
    "def r(dataset, column_name1, column_name2, state, group, absval1, absval2):\n",
    "    print(str(column_name1) + \" vs \" + str(column_name2) + \" in \" + str(state))\n",
    "    cov = covxy(dataset, column_name1, column_name2, state, group, absval1, absval2)\n",
    "    sigx = sigmaxsigmay(dataset, column_name1, state, group, absval1)\n",
    "    sigy = sigmaxsigmay(dataset, column_name2, state, group, absval2)\n",
    "    print(\"Covariance: \" + str(cov))\n",
    "    print(\"Std Column 1: \" + str(sigx))\n",
    "    print(\"Std Column 2: \" + str(sigy))\n",
    "    r = cov / (sigx * sigy)\n",
    "    print(\"r: \" + str(r) + \"\\n\")\n",
    "    return r\n",
    "\n",
    "def rsquared(dataset, column_name1, column_name2, state, group, absval1, absval2):\n",
    "    return r(dataset, column_name1, column_name2, state, group, absval1, absval2)**2"
   ]
  },
  {
   "cell_type": "code",
   "execution_count": 59,
   "metadata": {
    "scrolled": true
   },
   "outputs": [],
   "source": [
    "def play(dataset):\n",
    "    playground1 = pd.read_csv(dataset,low_memory=False)\n",
    "\n",
    "    playground1[\"IndPremiumPMM\"] = playground1[\"1.1Directpremiumwritten2HealthInsuranceINDIVIDUALTotalasof3/31/15\"] / playground1[\"7.4Membermonths2HealthInsuranceINDIVIDUALTotalasof3/31/15\"]\n",
    "    playground1[\"IndCostsPMM\"] = playground1[\"2.16Totalincurredclaims2HealthInsuranceINDIVIDUALTotalasof3/31/15\"] / playground1[\"7.4Membermonths2HealthInsuranceINDIVIDUALTotalasof3/31/15\"]\n",
    "    playground1[\"IndRTPMM\"] = playground1[\"HHS RISK ADJUSTMENT TRANSFER AMOUNT (INDIVIDUAL MARKET, INCLUDING CATASTROPHIC)\"] / playground1[\"7.4Membermonths2HealthInsuranceINDIVIDUALTotalasof3/31/15\"]\n",
    "    playground1[\"IndPremiumMinusCostsPMM\"] = playground1[\"IndPremiumPMM\"] - playground1[\"IndCostsPMM\"]\n",
    "\n",
    "    print(\"Statistics for \" + dataset + \"\\n\")\n",
    "    r(playground1, \"IndPremiumPMM\",\"IndRTPMM\",\"ALL\", \"i\", 0, 1)\n",
    "    r(playground1, \"IndCostsPMM\",\"IndRTPMM\",\"ALL\", \"i\", 0, 1)\n",
    "    r(playground1, \"IndPremiumMinusCostsPMM\",\"IndRTPMM\",\"ALL\", \"i\", 0, 1)\n",
    "    r(playground1, \"IndPremiumPMM\",\"IndRTPMM\",\"CA\", \"i\", 0, 1)\n",
    "    r(playground1, \"IndPremiumPMM\",\"IndRTPMM\",\"WY\", \"i\", 0, 1)"
   ]
  },
  {
   "cell_type": "code",
   "execution_count": 60,
   "metadata": {},
   "outputs": [
    {
     "name": "stdout",
     "output_type": "stream",
     "text": [
      "Statistics for Output/2014dataset.csv\n",
      "\n",
      "IndPremiumPMM vs IndRTPMM in ALL\n",
      "Covariance: 691.844086585\n",
      "Std Column 1: 65.8300167158\n",
      "Std Column 2: 28.7671998372\n",
      "r: 0.365331127822\n",
      "\n",
      "IndCostsPMM vs IndRTPMM in ALL\n",
      "Covariance: 1016.85066154\n",
      "Std Column 1: 107.082466313\n",
      "Std Column 2: 28.7671998372\n",
      "r: 0.330096728348\n",
      "\n",
      "IndPremiumMinusCostsPMM vs IndRTPMM in ALL\n",
      "Covariance: -322.826964496\n",
      "Std Column 1: 89.7407198802\n",
      "Std Column 2: 28.7671998372\n",
      "r: -0.125049702603\n",
      "\n",
      "IndPremiumPMM vs IndRTPMM in CA\n",
      "Covariance: -236.009497475\n",
      "Std Column 1: 22.3239717131\n",
      "Std Column 2: 22.2570931344\n",
      "r: -0.474995585617\n",
      "\n",
      "IndPremiumPMM vs IndRTPMM in WY\n",
      "Covariance: 1877.96343108\n",
      "Std Column 1: 77.9259100458\n",
      "Std Column 2: 25.1911741381\n",
      "r: 0.956658287816\n",
      "\n",
      "Statistics for Output/2015dataset.csv\n",
      "\n",
      "IndPremiumPMM vs IndRTPMM in ALL\n",
      "Covariance: 609.651758233\n",
      "Std Column 1: 57.500108108\n",
      "Std Column 2: 34.1042421947\n",
      "r: 0.3108885774\n",
      "\n",
      "IndCostsPMM vs IndRTPMM in ALL\n",
      "Covariance: 907.684106772\n",
      "Std Column 1: 173.189436534\n",
      "Std Column 2: 34.1042421947\n",
      "r: 0.153675603769\n",
      "\n",
      "IndPremiumMinusCostsPMM vs IndRTPMM in ALL\n",
      "Covariance: -298.03234854\n",
      "Std Column 1: 162.846364151\n",
      "Std Column 2: 34.1042421947\n",
      "r: -0.0536632454845\n",
      "\n",
      "IndPremiumPMM vs IndRTPMM in CA\n",
      "Covariance: -50.0856016423\n",
      "Std Column 1: 21.9254671629\n",
      "Std Column 2: 28.0033826167\n",
      "r: -0.0815743355706\n",
      "\n",
      "IndPremiumPMM vs IndRTPMM in WY\n",
      "Covariance: 42.6151537393\n",
      "Std Column 1: 31.0661911815\n",
      "Std Column 2: 14.325270964\n",
      "r: 0.0957575891631\n",
      "\n"
     ]
    }
   ],
   "source": [
    "play(\"Output/2014dataset.csv\")\n",
    "play(\"Output/2015dataset.csv\")"
   ]
  },
  {
   "cell_type": "code",
   "execution_count": null,
   "metadata": {
    "collapsed": true
   },
   "outputs": [],
   "source": []
  },
  {
   "cell_type": "code",
   "execution_count": null,
   "metadata": {
    "collapsed": true
   },
   "outputs": [],
   "source": []
  }
 ],
 "metadata": {
  "kernelspec": {
   "display_name": "Python 3",
   "language": "python",
   "name": "python3"
  },
  "language_info": {
   "codemirror_mode": {
    "name": "ipython",
    "version": 3
   },
   "file_extension": ".py",
   "mimetype": "text/x-python",
   "name": "python",
   "nbconvert_exporter": "python",
   "pygments_lexer": "ipython3",
   "version": "3.6.1"
  }
 },
 "nbformat": 4,
 "nbformat_minor": 2
}
