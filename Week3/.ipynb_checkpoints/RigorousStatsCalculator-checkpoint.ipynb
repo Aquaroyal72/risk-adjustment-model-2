{
 "cells": [
  {
   "cell_type": "code",
   "execution_count": 1,
   "metadata": {
    "collapsed": true
   },
   "outputs": [],
   "source": [
    "import pandas as pd\n",
    "import numpy as np"
   ]
  },
  {
   "cell_type": "code",
   "execution_count": 7,
   "metadata": {},
   "outputs": [],
   "source": [
    "data2014 = pd.read_csv(\"Output/2014dataset.csv\",low_memory=False)\n",
    "data2015 = pd.read_csv(\"Output/2015dataset.csv\",low_memory=False)\n",
    "# data2016 = pd.read_csv(\"Output/2016dataset.csv\",low_memory=False) doesn't exist yet"
   ]
  },
  {
   "cell_type": "code",
   "execution_count": 9,
   "metadata": {},
   "outputs": [
    {
     "name": "stdout",
     "output_type": "stream",
     "text": [
      "['AK' 'AL' 'AR' 'AZ' 'CA' 'CO' 'CT' 'DC' 'DE' 'FL' 'GA' 'HI' 'IA' 'ID' 'IL'\n",
      " 'IN' 'KS' 'KY' 'LA' 'MA' 'MD' 'ME' 'MI' 'MN' 'MO' 'MS' 'MT' 'NC' 'ND' 'NE'\n",
      " 'NH' 'NJ' 'NM' 'NV' 'NY' 'OH' 'OK' 'OR' 'PA' 'RI' 'SC' 'SD' 'TN' 'TX' 'UT'\n",
      " 'VA' 'WA' 'WI' 'WV' 'WY']\n"
     ]
    }
   ],
   "source": [
    "states = data2014[\"STATE\"].drop_duplicates().as_matrix()\n",
    "print(states)\n",
    "    \n",
    "#print(\"state,individualratio,smallgroupratio,individualtransfers,smallgrouptransfers,individualmm,smallgroupmm\")\n",
    "#for state in states:\n",
    "#    temp = merged2015.where(merged2015[\"STATE\"] == state).dropna(how='all')\n",
    "#    a = sum(abs(temp[\"HHS RISK ADJUSTMENT TRANSFER AMOUNT (INDIVIDUAL MARKET, INCLUDING CATASTROPHIC)\"]).convert_objects(convert_numeric=True).dropna())\n",
    "#    b = sum(abs(temp[\"HHS RISK ADJUSTMENT TRANSFERS AMOUNT (SMALL GROUP MARKET)\"]).convert_objects(convert_numeric=True).dropna())\n",
    "#    c = sum(temp[\"7.4Membermonths2HealthInsuranceINDIVIDUALTotalasof3/31/15\"].convert_objects(convert_numeric=True).dropna())\n",
    "#    d = sum(temp[\"7.4Membermonths7HealthInsuranceSMALLGROUPTotalasof3/31/15\"].convert_objects(convert_numeric=True).dropna())\n",
    "#    individual_ratio = a/c\n",
    "#    smallgroup_ratio = b/d\n",
    "#    print(state + \",\" + str(individual_ratio) + \",\" + str(smallgroup_ratio) + \",\" +\n",
    "#          str(a) + \",\" + str(b) + \",\" + str(c) + \",\" + str(d))"
   ]
  },
  {
   "cell_type": "code",
   "execution_count": 95,
   "metadata": {},
   "outputs": [],
   "source": [
    "# weighted rigorous statistics\n",
    "# group can be i for individual or sg for small group\n",
    "# absval can be 1 for yes and 0 for no\n",
    "\n",
    "# functions:\n",
    "# def getmm(group) - returns member months column\n",
    "# xbarybar(dataset, column_name, state, group, absval) - returns weighted avg of a column\n",
    "# sigmaxsigmay(dataset, column_name, state, group, absval) - returns weighted std of a column\n",
    "# covxy(dataset, column_name1, column_name2, state, group, absval1, absval2) - returns weighted cov of two columns\n",
    "# covspecial(dataset, column_name1, yi, ybar, state, group, absval1) - returns weighted cov of one column and one state measure\n",
    "# r(dataset, column_name1, column_name2, state, group, absval1, absval2) - returns weighted r of two columns\n",
    "# rspecial(dataset, column_name1, yi, ybar, sigmay, state, group, absval1) - returns weighted r of one column and one state measure\n",
    "# rsquared(dataset, column_name1, column_name2, state, group, absval1, absval2) - returns weighted r^2 of two columns\n",
    "\n",
    "def getmm(group):\n",
    "    if group == \"i\":\n",
    "        return \"7.4Membermonths2HealthInsuranceINDIVIDUALTotalasof3/31/15\"\n",
    "    elif group == \"sg\":\n",
    "        return \"7.4Membermonths7HealthInsuranceSMALLGROUPTotalasof3/31/15\"\n",
    "    else:\n",
    "        return \"\"\n",
    "\n",
    "def xbarybar(dataset, column_name, state, group, absval):\n",
    "    temp = dataset.where(dataset[\"STATE\"] == state).dropna(how='all')\n",
    "    mm = getmm(group)\n",
    "    #print(temp[\"1.1Directpremiumwritten2HealthInsuranceINDIVIDUALTotalasof3/31/15\"])\n",
    "    sum_mm = sum(temp[mm].convert_objects(convert_numeric=True).dropna())\n",
    "    #print(sum(temp[column_name].dropna()) / 19)\n",
    "    #print(temp[[mm, column_name]])\n",
    "    if sum_mm == 0:\n",
    "        return\n",
    "    numerator = 0\n",
    "    denominator = 0\n",
    "    for index, row in temp.iterrows():\n",
    "        if (pd.notnull(row[column_name])) and (pd.notnull(row[mm])):\n",
    "            ratio = row[mm] / sum_mm\n",
    "            denominator = denominator + ratio\n",
    "            if absval == 1:\n",
    "                numerator = numerator + (abs(row[column_name]) * ratio)\n",
    "            else:\n",
    "                numerator = numerator + (row[column_name]  * ratio)\n",
    "    return numerator / denominator\n",
    "\n",
    "def sigmaxsigmay(dataset, column_name, state, group, absval):\n",
    "    temp = dataset.where(dataset[\"STATE\"] == state).dropna(how='all')\n",
    "    mm = getmm(group)\n",
    "    sum_mm = sum(temp[mm].convert_objects(convert_numeric=True).dropna())\n",
    "    if sum_mm == 0:\n",
    "        return \"-1\"\n",
    "    numerator = 0\n",
    "    denominator = 0\n",
    "    xbar = xbarybar(dataset, column_name, state, group, absval)\n",
    "    for index, row in temp.iterrows():\n",
    "        if (pd.notnull(row[column_name])) and (pd.notnull(row[mm])):\n",
    "            ratio = row[mm] / sum_mm\n",
    "            denominator = denominator + ratio\n",
    "            if absval == 1:\n",
    "                numerator = numerator + ((abs(row[column_name]) - abs(xbar))**2 * ratio)\n",
    "            else:\n",
    "                numerator = numerator + (row[column_name] * ratio)\n",
    "    return np.sqrt(numerator / (denominator * i))\n",
    "\n",
    "def covxy(dataset, column_name1, column_name2, state, group, absval1, absval2):\n",
    "    temp = dataset.where(dataset[\"STATE\"] == state).dropna(how='all')\n",
    "    mm = getmm(group)\n",
    "    sum_mm = sum(temp[mm].convert_objects(convert_numeric=True).dropna())\n",
    "    if sum_mm == 0:\n",
    "        return -1\n",
    "    numerator = 0\n",
    "    denominator = 0\n",
    "    xbar = xbarybar(dataset, column_name1, state, group, absval1)\n",
    "    ybar = xbarybar(dataset, column_name2, state, group, absval2)\n",
    "    for index, row in temp.iterrows():\n",
    "        if (pd.notnull(row[column_name2])) and (pd.notnull(row[column_name1])) and (pd.notnull(row[mm])):\n",
    "            xi = row[column_name1]\n",
    "            yi = row[column_name2]\n",
    "            ratio = row[mm] / sum_mm\n",
    "            denominator = denominator + ratio\n",
    "            if absval1 == 1 and absval2 == 1:\n",
    "                numerator = numerator + ((abs(xi) - xbar)**2 * (abs(yi) - ybar)**2 * ratio)\n",
    "            elif absval1 == 1:\n",
    "                numerator = numerator + ((abs(xi) - xbar)**2 * (yi - ybar)**2 * ratio)\n",
    "            elif absval2 == 1:\n",
    "                numerator = numerator + ((xi - xbar)**2 * (abs(yi) - ybar)**2 * ratio)\n",
    "            else:\n",
    "                numerator = numerator + ((xi - xbar)**2 * (yi - ybar)**2 * ratio)\n",
    "    return numerator / (denominator * sum_mm)\n",
    "\n",
    "def covspecial(dataset, column_name1, yi, ybar, state, group, absval1):\n",
    "    temp = dataset.where(dataset[\"STATE\"] == state).dropna(how='all')\n",
    "    mm = getmm(group)\n",
    "    sum_mm = sum(temp[mm].convert_objects(convert_numeric=True).dropna())\n",
    "    if sum_mm == 0:\n",
    "        return \"-1\"\n",
    "    numerator = 0\n",
    "    xbar = xbarybar(dataset, column_name1, state, group, absval1)\n",
    "    for index, row in temp.iterrows():\n",
    "        if (pd.notnull(row[column_name1])) and (pd.notnull(row[mm])):\n",
    "            xi = row[column_name1]\n",
    "            if absval1 == 1:\n",
    "                numerator = numerator + ((abs(xi) - xbar)**2 * (yi - ybar)**2 * row[mm])\n",
    "            else:\n",
    "                numerator = numerator + ((xi - xbar)**2 * (yi - ybar)**2 * row[mm])\n",
    "    return numerator / sum_mm\n",
    "\n",
    "def r(dataset, column_name1, column_name2, state, group, absval1, absval2):\n",
    "    cov = covxy(dataset, column_name1, column_name2, state, group, absval1, absval2)\n",
    "    sigx = sigmaxsigmay(dataset, column_name1, state, group, absval1)\n",
    "    sigy = sigmaxsigmay(dataset, column_name2, state, group, absval2)\n",
    "    print(cov)\n",
    "    print(sigx)\n",
    "    print(sigy)\n",
    "    return cov / (sigx * sigy)\n",
    "\n",
    "def rspecial(dataset, column_name1, yi, ybar, sigmay, state, group, absval1):\n",
    "    cov = covspecial(dataset, column_name1, yi, ybar, state, group, absval1)\n",
    "    sigx = sigmaxsigmay(dataset, column_name1, state, group, absval1)\n",
    "    return cov / (sigx * sigmay)\n",
    "    \n",
    "\n",
    "def rsquared(dataset, column_name1, column_name2, state, group, absval1, absval2):\n",
    "    return r(dataset, column_name1, column_name2, state, group, absval1, absval2)^2"
   ]
  },
  {
   "cell_type": "code",
   "execution_count": 93,
   "metadata": {},
   "outputs": [
    {
     "name": "stderr",
     "output_type": "stream",
     "text": [
      "C:\\Users\\guanz\\Anaconda3\\lib\\site-packages\\ipykernel_launcher.py:68: FutureWarning: convert_objects is deprecated.  Use the data-type specific converters pd.to_datetime, pd.to_timedelta and pd.to_numeric.\n",
      "C:\\Users\\guanz\\Anaconda3\\lib\\site-packages\\ipykernel_launcher.py:27: FutureWarning: convert_objects is deprecated.  Use the data-type specific converters pd.to_datetime, pd.to_timedelta and pd.to_numeric.\n",
      "C:\\Users\\guanz\\Anaconda3\\lib\\site-packages\\ipykernel_launcher.py:49: FutureWarning: convert_objects is deprecated.  Use the data-type specific converters pd.to_datetime, pd.to_timedelta and pd.to_numeric.\n"
     ]
    },
    {
     "name": "stdout",
     "output_type": "stream",
     "text": [
      "4.31951977411e+27\n",
      "9.36717027753\n",
      "28705.9244956\n"
     ]
    },
    {
     "data": {
      "text/plain": [
       "1.6064067240188545e+22"
      ]
     },
     "execution_count": 93,
     "metadata": {},
     "output_type": "execute_result"
    }
   ],
   "source": [
    "r(data2014, \"1.1Directpremiumwritten2HealthInsuranceINDIVIDUALTotalasof3/31/15\",\n",
    " \"HHS RISK ADJUSTMENT TRANSFER AMOUNT (INDIVIDUAL MARKET, INCLUDING CATASTROPHIC)\",\n",
    " \"CA\", \"i\", 0, 1)"
   ]
  },
  {
   "cell_type": "code",
   "execution_count": 29,
   "metadata": {},
   "outputs": [
    {
     "name": "stdout",
     "output_type": "stream",
     "text": [
      "7.4Membermonths2HealthInsuranceINDIVIDUALTotalasof3/31/15\n",
      "7.4Membermonths7HealthInsuranceSMALLGROUPTotalasof3/31/15\n"
     ]
    }
   ],
   "source": [
    "print(getmm(\"i\"))\n",
    "print(getmm(\"sg\"))"
   ]
  },
  {
   "cell_type": "code",
   "execution_count": 96,
   "metadata": {},
   "outputs": [
    {
     "name": "stderr",
     "output_type": "stream",
     "text": [
      "C:\\Users\\guanz\\Anaconda3\\lib\\site-packages\\ipykernel_launcher.py:27: FutureWarning: convert_objects is deprecated.  Use the data-type specific converters pd.to_datetime, pd.to_timedelta and pd.to_numeric.\n"
     ]
    },
    {
     "data": {
      "text/plain": [
       "89505042.24082002"
      ]
     },
     "execution_count": 96,
     "metadata": {},
     "output_type": "execute_result"
    }
   ],
   "source": [
    "xbarybar(data2014, \"1.1Directpremiumwritten2HealthInsuranceINDIVIDUALTotalasof3/31/15\", \"CA\", \"i\", 0)"
   ]
  },
  {
   "cell_type": "code",
   "execution_count": 44,
   "metadata": {},
   "outputs": [
    {
     "data": {
      "text/plain": [
       "False"
      ]
     },
     "execution_count": 44,
     "metadata": {},
     "output_type": "execute_result"
    }
   ],
   "source": [
    "np.isnan(2)"
   ]
  },
  {
   "cell_type": "code",
   "execution_count": null,
   "metadata": {
    "collapsed": true
   },
   "outputs": [],
   "source": []
  }
 ],
 "metadata": {
  "kernelspec": {
   "display_name": "Python 3",
   "language": "python",
   "name": "python3"
  },
  "language_info": {
   "codemirror_mode": {
    "name": "ipython",
    "version": 3
   },
   "file_extension": ".py",
   "mimetype": "text/x-python",
   "name": "python",
   "nbconvert_exporter": "python",
   "pygments_lexer": "ipython3",
   "version": "3.6.1"
  }
 },
 "nbformat": 4,
 "nbformat_minor": 2
}
