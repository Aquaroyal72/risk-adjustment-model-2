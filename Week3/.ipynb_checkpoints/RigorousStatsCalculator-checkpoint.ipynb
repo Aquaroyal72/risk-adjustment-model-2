{
 "cells": [
  {
   "cell_type": "code",
   "execution_count": 2,
   "metadata": {
    "collapsed": true
   },
   "outputs": [],
   "source": [
    "import pandas as pd\n",
    "import numpy as np"
   ]
  },
  {
   "cell_type": "code",
   "execution_count": 3,
   "metadata": {
    "collapsed": true
   },
   "outputs": [],
   "source": [
    "data2014 = pd.read_csv(\"Output/2014dataset.csv\",low_memory=False)\n",
    "data2015 = pd.read_csv(\"Output/2015dataset.csv\",low_memory=False)\n",
    "# data2016 = pd.read_csv(\"Output/2016dataset.csv\",low_memory=False) doesn't exist yet"
   ]
  },
  {
   "cell_type": "code",
   "execution_count": 4,
   "metadata": {},
   "outputs": [
    {
     "name": "stdout",
     "output_type": "stream",
     "text": [
      "['AK' 'AL' 'AR' 'AZ' 'CA' 'CO' 'CT' 'DC' 'DE' 'FL' 'GA' 'HI' 'IA' 'ID' 'IL'\n",
      " 'IN' 'KS' 'KY' 'LA' 'MA' 'MD' 'ME' 'MI' 'MN' 'MO' 'MS' 'MT' 'NC' 'ND' 'NE'\n",
      " 'NH' 'NJ' 'NM' 'NV' 'NY' 'OH' 'OK' 'OR' 'PA' 'RI' 'SC' 'SD' 'TN' 'TX' 'UT'\n",
      " 'VA' 'WA' 'WI' 'WV' 'WY']\n"
     ]
    }
   ],
   "source": [
    "states = data2014[\"STATE\"].drop_duplicates().as_matrix()\n",
    "print(states)"
   ]
  },
  {
   "cell_type": "code",
   "execution_count": 15,
   "metadata": {},
   "outputs": [],
   "source": [
    "# weighted rigorous statistics\n",
    "# group can be i for individual or sg for small group\n",
    "# absval can be 1 for yes and 0 for no\n",
    "\n",
    "# functions:\n",
    "# def getmm(group) - returns member months column\n",
    "# xbarybar(dataset, column_name, state, group, absval) - returns weighted avg of a column\n",
    "# sigmaxsigmay(dataset, column_name, state, group, absval) - returns weighted std of a column\n",
    "# covxy(dataset, column_name1, column_name2, state, group, absval1, absval2) - returns weighted cov of two columns\n",
    "# covspecial(dataset, column_name1, yi, ybar, state, group, absval1) - returns weighted cov of one column and one state measure\n",
    "# r(dataset, column_name1, column_name2, state, group, absval1, absval2) - returns weighted r of two columns\n",
    "# rspecial(dataset, column_name1, yi, ybar, sigmay, state, group, absval1) - returns weighted r of one column and one state measure\n",
    "# rsquared(dataset, column_name1, column_name2, state, group, absval1, absval2) - returns weighted r^2 of two columns\n",
    "\n",
    "def getmm(group):\n",
    "    if group == \"i\":\n",
    "        return \"7.4Membermonths2HealthInsuranceINDIVIDUALTotalasof3/31/15\"\n",
    "    elif group == \"sg\":\n",
    "        return \"7.4Membermonths7HealthInsuranceSMALLGROUPTotalasof3/31/15\"\n",
    "    else:\n",
    "        return \"\"\n",
    "\n",
    "def xbarybar(dataset, column_name, state, group, absval):\n",
    "    if state == \"ALL\":\n",
    "        temp = dataset\n",
    "    else:\n",
    "        temp = dataset.where(dataset[\"STATE\"] == state).dropna(how='all')\n",
    "    mm = getmm(group)\n",
    "    sum_mm = sum(temp[mm].convert_objects(convert_numeric=True).dropna())\n",
    "    if sum_mm == 0:\n",
    "        return\n",
    "    numerator = 0\n",
    "    denominator = 0\n",
    "    for index, row in temp.iterrows():\n",
    "        if (pd.notnull(row[column_name])) and (pd.notnull(row[mm])):\n",
    "            ratio = row[mm] / sum_mm\n",
    "            denominator = denominator + ratio\n",
    "            if absval == 1:\n",
    "                numerator = numerator + (abs(row[column_name]) * ratio)\n",
    "            else:\n",
    "                numerator = numerator + (row[column_name]  * ratio)\n",
    "    return numerator / denominator\n",
    "\n",
    "def sigmaxsigmay(dataset, column_name, state, group, absval):\n",
    "    if state == \"ALL\":\n",
    "        temp = dataset\n",
    "    else:\n",
    "        temp = dataset.where(dataset[\"STATE\"] == state).dropna(how='all')\n",
    "    mm = getmm(group)\n",
    "    sum_mm = sum(temp[mm].convert_objects(convert_numeric=True).dropna())\n",
    "    if sum_mm == 0:\n",
    "        return \"-1\"\n",
    "    numerator = 0\n",
    "    denominator = 0\n",
    "    xbar = xbarybar(dataset, column_name, state, group, absval)\n",
    "    for index, row in temp.iterrows():\n",
    "        if (pd.notnull(row[column_name])) and (pd.notnull(row[mm])):\n",
    "            ratio = row[mm] / sum_mm\n",
    "            denominator = denominator + ratio\n",
    "            if absval == 1:\n",
    "                numerator = numerator + ((abs(row[column_name]) - abs(xbar))**2 * ratio)\n",
    "            else:\n",
    "                numerator = numerator + ((row[column_name] - xbar)**2 * ratio)\n",
    "    return np.sqrt(numerator / denominator)\n",
    "\n",
    "def covxy(dataset, column_name1, column_name2, state, group, absval1, absval2):\n",
    "    if state == \"ALL\":\n",
    "        temp = dataset\n",
    "    else:\n",
    "        temp = dataset.where(dataset[\"STATE\"] == state).dropna(how='all')\n",
    "    mm = getmm(group)\n",
    "    sum_mm = sum(temp[mm].convert_objects(convert_numeric=True).dropna())\n",
    "    if sum_mm == 0:\n",
    "        return -1\n",
    "    numerator = 0\n",
    "    denominator = 0\n",
    "    xbar = xbarybar(dataset, column_name1, state, group, absval1)\n",
    "    ybar = xbarybar(dataset, column_name2, state, group, absval2)\n",
    "    for index, row in temp.iterrows():\n",
    "        if (pd.notnull(row[column_name2])) and (pd.notnull(row[column_name1])) and (pd.notnull(row[mm])):\n",
    "            xi = row[column_name1]\n",
    "            yi = row[column_name2]\n",
    "            ratio = row[mm] / sum_mm\n",
    "            denominator = denominator + ratio\n",
    "            if absval1 == 1 and absval2 == 1:\n",
    "                numerator = numerator + ((abs(xi) - xbar) * (abs(yi) - ybar) * ratio)\n",
    "            elif absval1 == 1:\n",
    "                numerator = numerator + ((abs(xi) - xbar) * (yi - ybar) * ratio)\n",
    "            elif absval2 == 1:\n",
    "                numerator = numerator + ((xi - xbar) * (abs(yi) - ybar) * ratio)\n",
    "            else:\n",
    "                numerator = numerator + ((xi - xbar) * (yi - ybar) * ratio)\n",
    "    return numerator / denominator\n",
    "\n",
    "def covspecial(dataset, column_name1, statedataset, column_name2, state, group, absval1):\n",
    "    states = dataset[\"STATE\"].drop_duplicates()\n",
    "    for state in states:\n",
    "        temp = dataset.where(dataset[\"STATE\"] == state).dropna(how='all')\n",
    "        sum_mm = sum(temp[mm].convert_objects(convert_numeric=True).dropna())\n",
    "        \n",
    "    mm = getmm(group)\n",
    "    for state in states:\n",
    "        temp = dataset.where(dataset[\"STATE\"] == state).dropna(how='all')\n",
    "        temp2 = statedataset.where(dataset[\"State\"] == state).dropna(how='all')\n",
    "        sum_mm = sum(temp[mm].convert_objects(convert_numeric=True).dropna())\n",
    "        if sum_mm == 0:\n",
    "            return \"-1\"\n",
    "        numerator = 0\n",
    "        xbar = xbarybar(dataset, column_name1, state, group, absval1)\n",
    "        if (pd.notnull(temp2[column_name2])):\n",
    "            yi = temp2[column_name2]\n",
    "            for index, row in temp.iterrows():\n",
    "                if (pd.notnull(row[column_name1])) and (pd.notnull(row[mm])):\n",
    "                    xi = row[column_name1]\n",
    "                    \n",
    "                    if absval1 == 1:\n",
    "                        numerator = numerator + ((abs(xi) - xbar) * (yi - ybar) * row[mm])\n",
    "                    else:\n",
    "                        numerator = numerator + ((xi - xbar) * (yi - ybar) * row[mm])\n",
    "    return numerator / sum_mm\n",
    "\n",
    "def r(dataset, column_name1, column_name2, state, group, absval1, absval2):\n",
    "    print(str(column_name1) + \" vs \" + str(column_name2) + \" in \" + str(state))\n",
    "    cov = covxy(dataset, column_name1, column_name2, state, group, absval1, absval2)\n",
    "    sigx = sigmaxsigmay(dataset, column_name1, state, group, absval1)\n",
    "    sigy = sigmaxsigmay(dataset, column_name2, state, group, absval2)\n",
    "    print(\"Covariance: \" + str(cov))\n",
    "    print(\"Std Column 1: \" + str(sigx))\n",
    "    print(\"Std Column 2: \" + str(sigy))\n",
    "    return cov / (sigx * sigy)\n",
    "\n",
    "def rspecial(dataset, column_name1, yi, ybar, sigmay, state, group, absval1):\n",
    "    cov = covspecial(dataset, column_name1, yi, ybar, state, group, absval1)\n",
    "    sigx = sigmaxsigmay(dataset, column_name1, state, group, absval1)\n",
    "    return cov / (sigx * sigmay)\n",
    "\n",
    "def rsquared(dataset, column_name1, column_name2, state, group, absval1, absval2):\n",
    "    return r(dataset, column_name1, column_name2, state, group, absval1, absval2)**2"
   ]
  },
  {
   "cell_type": "code",
   "execution_count": 16,
   "metadata": {
    "scrolled": true
   },
   "outputs": [
    {
     "name": "stdout",
     "output_type": "stream",
     "text": [
      "IndPremiumPMM vs IndRTPMM\n"
     ]
    },
    {
     "name": "stderr",
     "output_type": "stream",
     "text": [
      "C:\\Users\\guanz\\Anaconda3\\lib\\site-packages\\ipykernel_launcher.py:72: FutureWarning: convert_objects is deprecated.  Use the data-type specific converters pd.to_datetime, pd.to_timedelta and pd.to_numeric.\n",
      "C:\\Users\\guanz\\Anaconda3\\lib\\site-packages\\ipykernel_launcher.py:29: FutureWarning: convert_objects is deprecated.  Use the data-type specific converters pd.to_datetime, pd.to_timedelta and pd.to_numeric.\n",
      "C:\\Users\\guanz\\Anaconda3\\lib\\site-packages\\ipykernel_launcher.py:50: FutureWarning: convert_objects is deprecated.  Use the data-type specific converters pd.to_datetime, pd.to_timedelta and pd.to_numeric.\n"
     ]
    },
    {
     "name": "stdout",
     "output_type": "stream",
     "text": [
      "Covariance: 691.844086585\n",
      "Std Column 1: 65.8300167158\n",
      "Std Column 2: 28.7671998372\n",
      "0.365331127822\n",
      "IndCostsPMM vs IndRTPMM\n",
      "Covariance: 1016.85066154\n",
      "Std Column 1: 107.082466313\n",
      "Std Column 2: 28.7671998372\n",
      "0.330096728348\n",
      "IndPremiumPMM vs IndRTPMM\n",
      "Covariance: -236.009497475\n",
      "Std Column 1: 22.3239717131\n",
      "Std Column 2: 22.2570931344\n",
      "-0.474995585617\n"
     ]
    }
   ],
   "source": [
    "playground14 = pd.read_csv(\"Output/2014dataset.csv\",low_memory=False)\n",
    "\n",
    "playground14[\"IndPremiumPMM\"] = playground14[\"1.1Directpremiumwritten2HealthInsuranceINDIVIDUALTotalasof3/31/15\"] / playground14[\"7.4Membermonths2HealthInsuranceINDIVIDUALTotalasof3/31/15\"]\n",
    "playground14[\"IndCostsPMM\"] = playground14[\"2.16Totalincurredclaims2HealthInsuranceINDIVIDUALTotalasof3/31/15\"] / playground14[\"7.4Membermonths2HealthInsuranceINDIVIDUALTotalasof3/31/15\"]\n",
    "playground14[\"IndRTPMM\"] = playground14[\"HHS RISK ADJUSTMENT TRANSFER AMOUNT (INDIVIDUAL MARKET, INCLUDING CATASTROPHIC)\"] / playground14[\"7.4Membermonths2HealthInsuranceINDIVIDUALTotalasof3/31/15\"]       \n",
    "\n",
    "print(r(playground14, \"IndPremiumPMM\",\"IndRTPMM\",\"ALL\", \"i\", 0, 1))\n",
    "print(r(playground14, \"IndCostsPMM\",\"IndRTPMM\",\"ALL\", \"i\", 0, 1))\n",
    "print(r(playground14, \"IndPremiumPMM\",\"IndRTPMM\",\"CA\", \"i\", 0, 1))"
   ]
  },
  {
   "cell_type": "code",
   "execution_count": null,
   "metadata": {
    "collapsed": true
   },
   "outputs": [],
   "source": []
  }
 ],
 "metadata": {
  "kernelspec": {
   "display_name": "Python 3",
   "language": "python",
   "name": "python3"
  },
  "language_info": {
   "codemirror_mode": {
    "name": "ipython",
    "version": 3
   },
   "file_extension": ".py",
   "mimetype": "text/x-python",
   "name": "python",
   "nbconvert_exporter": "python",
   "pygments_lexer": "ipython3",
   "version": "3.6.1"
  }
 },
 "nbformat": 4,
 "nbformat_minor": 2
}
