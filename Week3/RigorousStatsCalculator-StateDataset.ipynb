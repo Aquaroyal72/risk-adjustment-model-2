{
 "cells": [
  {
   "cell_type": "code",
   "execution_count": 1,
   "metadata": {
    "collapsed": true
   },
   "outputs": [],
   "source": [
    "import pandas as pd\n",
    "import numpy as np\n",
    "import warnings\n",
    "warnings.simplefilter(action='ignore', category=FutureWarning)"
   ]
  },
  {
   "cell_type": "code",
   "execution_count": 2,
   "metadata": {
    "collapsed": true
   },
   "outputs": [],
   "source": [
    "data2014 = pd.read_csv(\"Output/2014dataset.csv\",low_memory=False)\n",
    "data2015 = pd.read_csv(\"Output/2015dataset.csv\",low_memory=False)\n",
    "# data2016 = pd.read_csv(\"Output/2016dataset.csv\",low_memory=False) doesn't exist yet"
   ]
  },
  {
   "cell_type": "code",
   "execution_count": 3,
   "metadata": {},
   "outputs": [
    {
     "name": "stdout",
     "output_type": "stream",
     "text": [
      "['AK' 'AL' 'AR' 'AZ' 'CA' 'CO' 'CT' 'DC' 'DE' 'FL' 'GA' 'HI' 'IA' 'ID' 'IL'\n",
      " 'IN' 'KS' 'KY' 'LA' 'MA' 'MD' 'ME' 'MI' 'MN' 'MO' 'MS' 'MT' 'NC' 'ND' 'NE'\n",
      " 'NH' 'NJ' 'NM' 'NV' 'NY' 'OH' 'OK' 'OR' 'PA' 'RI' 'SC' 'SD' 'TN' 'TX' 'UT'\n",
      " 'VA' 'WA' 'WI' 'WV' 'WY']\n"
     ]
    }
   ],
   "source": [
    "states = data2014[\"STATE\"].drop_duplicates().as_matrix()\n",
    "print(states)"
   ]
  },
  {
   "cell_type": "code",
   "execution_count": 4,
   "metadata": {
    "collapsed": true
   },
   "outputs": [],
   "source": [
    "# weighted rigorous statistics\n",
    "# group can be i for individual or sg for small group\n",
    "# absval can be 1 for yes and 0 for no\n",
    "\n",
    "# functions:\n",
    "# def getmm(group) - returns member months column\n",
    "# xbarybar(dataset, column_name, state, group, absval) - returns weighted avg of a column\n",
    "# sigmaxsigmay(dataset, column_name, state, group, absval) - returns weighted std of a column\n",
    "# covxy(dataset, column_name1, column_name2, state, group, absval1, absval2) - returns weighted cov of two columns\n",
    "# covspecial(dataset, column_name1, yi, ybar, state, group, absval1) - returns weighted cov of one column and one state measure\n",
    "# r(dataset, column_name1, column_name2, state, group, absval1, absval2) - returns weighted r of two columns\n",
    "# rspecial(dataset, column_name1, yi, ybar, sigmay, state, group, absval1) - returns weighted r of one column and one state measure\n",
    "# rsquared(dataset, column_name1, column_name2, state, group, absval1, absval2) - returns weighted r^2 of two columns\n",
    "\n",
    "def getmm(group):\n",
    "    if group == \"i\":\n",
    "        return \"7.4Membermonths2HealthInsuranceINDIVIDUALTotalasof3/31/15\"\n",
    "    elif group == \"sg\":\n",
    "        return \"7.4Membermonths7HealthInsuranceSMALLGROUPTotalasof3/31/15\"\n",
    "    else:\n",
    "        return \"\"\n",
    "\n",
    "def xbarybar(dataset, column_name, state, group, absval):\n",
    "    if state == \"ALL\":\n",
    "        temp = dataset\n",
    "    else:\n",
    "        temp = dataset.where(dataset[\"STATE\"] == state).dropna(how='all')\n",
    "    mm = getmm(group)\n",
    "    sum_mm = sum(temp[mm].convert_objects(convert_numeric=True).dropna())\n",
    "    if sum_mm == 0:\n",
    "        return\n",
    "    numerator = 0\n",
    "    denominator = 0\n",
    "    for index, row in temp.iterrows():\n",
    "        if (pd.notnull(row[column_name])) and (pd.notnull(row[mm])):\n",
    "            ratio = row[mm] / sum_mm\n",
    "            denominator = denominator + ratio\n",
    "            if absval == 1:\n",
    "                numerator = numerator + (abs(row[column_name]) * ratio)\n",
    "            else:\n",
    "                numerator = numerator + (row[column_name]  * ratio)\n",
    "    return numerator / denominator\n",
    "\n",
    "def xbarybarspecial(dataset, statedataset, column_name2, group):\n",
    "    states = dataset[\"STATE\"].drop_duplicates()\n",
    "    # find the weighted average of plrs by member month\n",
    "    mm = getmm(group)\n",
    "    temp = dataset\n",
    "    sum_mm = sum(temp[mm].convert_objects(convert_numeric=True).dropna())\n",
    "    totalsum = 0\n",
    "    i = 0\n",
    "    for state in states:\n",
    "        temp2 = statedataset.where(statedataset[\"State\"] == state).dropna(how='all')\n",
    "        if len(temp2.index) > 0:\n",
    "            temp = dataset.where(dataset[\"STATE\"] == state).dropna(how='all')\n",
    "            sum_state_mm = sum(temp[mm].convert_objects(convert_numeric=True).dropna())\n",
    "            if (pd.notnull(temp2[column_name2][i])):\n",
    "                totalsum = totalsum + (temp2[column_name2][i] * sum_state_mm / sum_mm)\n",
    "            i = i + 1\n",
    "    return totalsum\n",
    "\n",
    "def sigmaxsigmay(dataset, column_name, state, group, absval):\n",
    "    if state == \"ALL\":\n",
    "        temp = dataset\n",
    "    else:\n",
    "        temp = dataset.where(dataset[\"STATE\"] == state).dropna(how='all')\n",
    "    mm = getmm(group)\n",
    "    sum_mm = sum(temp[mm].convert_objects(convert_numeric=True).dropna())\n",
    "    if sum_mm == 0:\n",
    "        return \"-1\"\n",
    "    numerator = 0\n",
    "    denominator = 0\n",
    "    xbar = xbarybar(dataset, column_name, state, group, absval)\n",
    "    for index, row in temp.iterrows():\n",
    "        if (pd.notnull(row[column_name])) and (pd.notnull(row[mm])):\n",
    "            ratio = row[mm] / sum_mm\n",
    "            denominator = denominator + ratio\n",
    "            if absval == 1:\n",
    "                numerator = numerator + ((abs(row[column_name]) - abs(xbar))**2 * ratio)\n",
    "            else:\n",
    "                numerator = numerator + ((row[column_name] - xbar)**2 * ratio)\n",
    "    return np.sqrt(numerator / denominator)\n",
    "\n",
    "def sigmaxsigmayspecial(dataset, statedataset, column_name2, group):\n",
    "    states = dataset[\"STATE\"].drop_duplicates()\n",
    "    # find the weighted average of plrs by member month\n",
    "    mm = getmm(group)\n",
    "    temp = dataset\n",
    "    sum_mm = sum(temp[mm].convert_objects(convert_numeric=True).dropna())\n",
    "    totalsum = 0\n",
    "    i = 0\n",
    "    xbar = xbarybarspecial(dataset, statedataset, column_name2, group)\n",
    "    for state in states:\n",
    "        temp2 = statedataset.where(statedataset[\"State\"] == state).dropna(how='all')\n",
    "        if len(temp2.index) > 0:\n",
    "            temp = dataset.where(dataset[\"STATE\"] == state).dropna(how='all')\n",
    "            sum_state_mm = sum(temp[mm].convert_objects(convert_numeric=True).dropna())\n",
    "            if (pd.notnull(temp2[column_name2][i])):\n",
    "                totalsum = totalsum + ((temp2[column_name2][i] - xbar)**2 * sum_state_mm / sum_mm)\n",
    "            i = i + 1\n",
    "    return np.sqrt(totalsum)\n",
    "\n",
    "def covxy(dataset, column_name1, column_name2, state, group, absval1, absval2):\n",
    "    if state == \"ALL\":\n",
    "        temp = dataset\n",
    "    else:\n",
    "        temp = dataset.where(dataset[\"STATE\"] == state).dropna(how='all')\n",
    "    mm = getmm(group)\n",
    "    sum_mm = sum(temp[mm].convert_objects(convert_numeric=True).dropna())\n",
    "    if sum_mm == 0:\n",
    "        return -1\n",
    "    numerator = 0\n",
    "    denominator = 0\n",
    "    xbar = xbarybar(dataset, column_name1, state, group, absval1)\n",
    "    ybar = xbarybar(dataset, column_name2, state, group, absval2)\n",
    "    for index, row in temp.iterrows():\n",
    "        if (pd.notnull(row[column_name2])) and (pd.notnull(row[column_name1])) and (pd.notnull(row[mm])):\n",
    "            xi = row[column_name1]\n",
    "            yi = row[column_name2]\n",
    "            ratio = row[mm] / sum_mm\n",
    "            denominator = denominator + ratio\n",
    "            if absval1 == 1 and absval2 == 1:\n",
    "                numerator = numerator + ((abs(xi) - xbar) * (abs(yi) - ybar) * ratio)\n",
    "            elif absval1 == 1:\n",
    "                numerator = numerator + ((abs(xi) - xbar) * (yi - ybar) * ratio)\n",
    "            elif absval2 == 1:\n",
    "                numerator = numerator + ((xi - xbar) * (abs(yi) - ybar) * ratio)\n",
    "            else:\n",
    "                numerator = numerator + ((xi - xbar) * (yi - ybar) * ratio)\n",
    "    return numerator / denominator\n",
    "\n",
    "def covspecial(dataset, column_name1, statedataset, column_name2, group, absval1):\n",
    "    temp = dataset\n",
    "    mm = getmm(group)\n",
    "    sum_mm = sum(temp[mm].convert_objects(convert_numeric=True).dropna())\n",
    "    if sum_mm == 0:\n",
    "        return -1\n",
    "    ybar = xbarybarspecial(dataset, statedataset, column_name2, group)\n",
    "    xbar = xbarybar(dataset, column_name1, \"ALL\", group, absval1)\n",
    "        \n",
    "    numerator = 0\n",
    "    denominator = 0\n",
    "    i = 0\n",
    "    for state in states:\n",
    "        temp3 = temp.where(temp[\"STATE\"] == state).dropna(how = 'all')\n",
    "        temp2 = statedataset.where(statedataset[\"State\"] == state).dropna(how='all')\n",
    "        if len(temp2.index) > 0:\n",
    "            yi = temp2[column_name2][i]\n",
    "            for index, row in temp3.iterrows():\n",
    "                if (pd.notnull(row[column_name1])) and (pd.notnull(row[mm])):\n",
    "                    xi = row[column_name1]\n",
    "                    state = row[\"STATE\"]\n",
    "                    ratio = row[mm] / sum_mm\n",
    "                    denominator = denominator + ratio\n",
    "                    if absval1 == 1:\n",
    "                        numerator = numerator + ((abs(xi) - xbar) * (yi - ybar) * ratio)\n",
    "                    else:\n",
    "                        numerator = numerator + ((xi - xbar) * (yi - ybar) * ratio)\n",
    "            i = i + 1\n",
    "    return numerator / denominator\n",
    "\n",
    "def r(dataset, column_name1, column_name2, state, group, absval1, absval2):\n",
    "    print(str(column_name1) + \" vs \" + str(column_name2) + \" in \" + str(state))\n",
    "    cov = covxy(dataset, column_name1, column_name2, state, group, absval1, absval2)\n",
    "    sigx = sigmaxsigmay(dataset, column_name1, state, group, absval1)\n",
    "    sigy = sigmaxsigmay(dataset, column_name2, state, group, absval2)\n",
    "    r = cov / (sigx * sigy)\n",
    "    print(\"Covariance: \" + str(cov))\n",
    "    print(\"Std Column 1: \" + str(sigx))\n",
    "    print(\"Std Column 2: \" + str(sigy))\n",
    "    print(\"r: \" + str(r) + \"\\n\")\n",
    "    return r\n",
    "\n",
    "def rspecial(dataset, column_name1, statedataset, column_name2, group, absval1):\n",
    "    cov = covspecial(dataset, column_name1, statedataset, column_name2, group, absval1)\n",
    "    sigx = sigmaxsigmay(dataset, column_name1, \"ALL\", group, absval1)\n",
    "    sigy = sigmaxsigmayspecial(dataset, statedataset, column_name2, group)\n",
    "    r = cov / (sigx * sigy)\n",
    "    print(\"Covariance: \" + str(cov))\n",
    "    print(\"Std Column 1: \" + str(sigx))\n",
    "    print(\"Std Column 2: \" + str(sigy))\n",
    "    print(\"r: \" + str(r) + \"\\n\")\n",
    "    return r\n",
    "\n",
    "def rsquared(dataset, column_name1, column_name2, state, group, absval1, absval2):\n",
    "    return r(dataset, column_name1, column_name2, state, group, absval1, absval2)**2"
   ]
  },
  {
   "cell_type": "code",
   "execution_count": 5,
   "metadata": {
    "collapsed": true,
    "scrolled": true
   },
   "outputs": [],
   "source": [
    "def play(dataset):\n",
    "    playground1 = pd.read_csv(dataset,low_memory=False)\n",
    "\n",
    "    playground1[\"IndPremiumPMM\"] = playground1[\"1.1Directpremiumwritten2HealthInsuranceINDIVIDUALTotalasof3/31/15\"] / playground1[\"7.4Membermonths2HealthInsuranceINDIVIDUALTotalasof3/31/15\"]\n",
    "    playground1[\"IndCostsPMM\"] = playground1[\"2.16Totalincurredclaims2HealthInsuranceINDIVIDUALTotalasof3/31/15\"] / playground1[\"7.4Membermonths2HealthInsuranceINDIVIDUALTotalasof3/31/15\"]\n",
    "    playground1[\"IndRTPMM\"] = playground1[\"HHS RISK ADJUSTMENT TRANSFER AMOUNT (INDIVIDUAL MARKET, INCLUDING CATASTROPHIC)\"] / playground1[\"7.4Membermonths2HealthInsuranceINDIVIDUALTotalasof3/31/15\"]\n",
    "    playground1[\"IndPremiumMinusCostsPMM\"] = playground1[\"IndPremiumPMM\"] - playground1[\"IndCostsPMM\"]\n",
    "\n",
    "    print(\"Statistics for \" + dataset + \"\\n\")\n",
    "    r(playground1, \"IndPremiumPMM\",\"IndRTPMM\",\"ALL\", \"i\", 0, 1)\n",
    "    r(playground1, \"IndCostsPMM\",\"IndRTPMM\",\"ALL\", \"i\", 0, 1)\n",
    "    r(playground1, \"IndPremiumMinusCostsPMM\",\"IndRTPMM\",\"ALL\", \"i\", 0, 1)\n",
    "    r(playground1, \"IndPremiumPMM\",\"IndRTPMM\",\"CA\", \"i\", 0, 1)\n",
    "    r(playground1, \"IndPremiumPMM\",\"IndRTPMM\",\"WY\", \"i\", 0, 1)"
   ]
  },
  {
   "cell_type": "code",
   "execution_count": 6,
   "metadata": {},
   "outputs": [
    {
     "name": "stdout",
     "output_type": "stream",
     "text": [
      "Covariance: 0.16295520427\n",
      "Std Column 1: 34.1042421947\n",
      "Std Column 2: 0.167642624248\n",
      "r: 0.0285020029428\n",
      "\n"
     ]
    },
    {
     "data": {
      "text/plain": [
       "0.028502002942817142"
      ]
     },
     "execution_count": 6,
     "metadata": {},
     "output_type": "execute_result"
    }
   ],
   "source": [
    "data1 = pd.read_csv(\"Output/2015dataset.csv\",low_memory=False)\n",
    "data1[\"IndRTPMM\"] = data1[\"HHS RISK ADJUSTMENT TRANSFER AMOUNT (INDIVIDUAL MARKET, INCLUDING CATASTROPHIC)\"] / data1[\"7.4Membermonths2HealthInsuranceINDIVIDUALTotalasof3/31/15\"]\n",
    "data2 = pd.read_csv(\"Input/June2015BYindividualnoformatting.csv\",low_memory=False)\n",
    "#xbarybarspecial(data1, data2, \"STATE AVERAGE PLAN LIABILITY RISK SCORE\", \"i\")\n",
    "#sigmaxsigmayspecial(data1, data2, \"STATE AVERAGE PLAN LIABILITY RISK SCORE\", \"i\")\n",
    "rspecial(data1, \"IndRTPMM\",\n",
    "         data2, \"STATE AVERAGE PLAN LIABILITY RISK SCORE\", \"i\", 1)"
   ]
  },
  {
   "cell_type": "code",
   "execution_count": 7,
   "metadata": {},
   "outputs": [
    {
     "data": {
      "text/html": [
       "<div>\n",
       "<style>\n",
       "    .dataframe thead tr:only-child th {\n",
       "        text-align: right;\n",
       "    }\n",
       "\n",
       "    .dataframe thead th {\n",
       "        text-align: left;\n",
       "    }\n",
       "\n",
       "    .dataframe tbody tr th {\n",
       "        vertical-align: top;\n",
       "    }\n",
       "</style>\n",
       "<table border=\"1\" class=\"dataframe\">\n",
       "  <thead>\n",
       "    <tr style=\"text-align: right;\">\n",
       "      <th></th>\n",
       "      <th>State</th>\n",
       "      <th>STATE AVERAGE MONTHLY PREMIUMS</th>\n",
       "      <th>STATE AVERAGE PLAN LIABILITY RISK SCORE</th>\n",
       "      <th>STATE AVERAGE ALLOWABLE RATING FACTOR</th>\n",
       "      <th>STATE AVERAGE ACTUARIAL VALUE</th>\n",
       "      <th>STATE INDUCED DEMAND FACTOR</th>\n",
       "      <th>STATE BILLABLE MEMBER MONTHS</th>\n",
       "    </tr>\n",
       "  </thead>\n",
       "  <tbody>\n",
       "    <tr>\n",
       "      <th>0</th>\n",
       "      <td>AK</td>\n",
       "      <td>626.670030</td>\n",
       "      <td>1.575311</td>\n",
       "      <td>1.601929</td>\n",
       "      <td>0.665172</td>\n",
       "      <td>1.020881</td>\n",
       "      <td>2.520701e+05</td>\n",
       "    </tr>\n",
       "    <tr>\n",
       "      <th>1</th>\n",
       "      <td>AL</td>\n",
       "      <td>344.494789</td>\n",
       "      <td>1.909181</td>\n",
       "      <td>1.570782</td>\n",
       "      <td>0.709666</td>\n",
       "      <td>1.037660</td>\n",
       "      <td>2.471190e+06</td>\n",
       "    </tr>\n",
       "    <tr>\n",
       "      <th>2</th>\n",
       "      <td>AR</td>\n",
       "      <td>358.229595</td>\n",
       "      <td>2.075041</td>\n",
       "      <td>1.486412</td>\n",
       "      <td>0.700076</td>\n",
       "      <td>1.030931</td>\n",
       "      <td>3.264612e+06</td>\n",
       "    </tr>\n",
       "    <tr>\n",
       "      <th>3</th>\n",
       "      <td>AZ</td>\n",
       "      <td>295.276671</td>\n",
       "      <td>1.583898</td>\n",
       "      <td>1.514095</td>\n",
       "      <td>0.708991</td>\n",
       "      <td>1.040687</td>\n",
       "      <td>2.640412e+06</td>\n",
       "    </tr>\n",
       "    <tr>\n",
       "      <th>4</th>\n",
       "      <td>CA</td>\n",
       "      <td>380.020141</td>\n",
       "      <td>1.343692</td>\n",
       "      <td>1.554204</td>\n",
       "      <td>0.700477</td>\n",
       "      <td>1.038422</td>\n",
       "      <td>2.431767e+07</td>\n",
       "    </tr>\n",
       "  </tbody>\n",
       "</table>\n",
       "</div>"
      ],
      "text/plain": [
       "  State  STATE AVERAGE MONTHLY PREMIUMS  \\\n",
       "0    AK                      626.670030   \n",
       "1    AL                      344.494789   \n",
       "2    AR                      358.229595   \n",
       "3    AZ                      295.276671   \n",
       "4    CA                      380.020141   \n",
       "\n",
       "   STATE AVERAGE PLAN LIABILITY RISK SCORE  \\\n",
       "0                                 1.575311   \n",
       "1                                 1.909181   \n",
       "2                                 2.075041   \n",
       "3                                 1.583898   \n",
       "4                                 1.343692   \n",
       "\n",
       "   STATE AVERAGE ALLOWABLE RATING FACTOR  STATE AVERAGE ACTUARIAL VALUE  \\\n",
       "0                               1.601929                       0.665172   \n",
       "1                               1.570782                       0.709666   \n",
       "2                               1.486412                       0.700076   \n",
       "3                               1.514095                       0.708991   \n",
       "4                               1.554204                       0.700477   \n",
       "\n",
       "   STATE INDUCED DEMAND FACTOR  STATE BILLABLE MEMBER MONTHS  \n",
       "0                     1.020881                  2.520701e+05  \n",
       "1                     1.037660                  2.471190e+06  \n",
       "2                     1.030931                  3.264612e+06  \n",
       "3                     1.040687                  2.640412e+06  \n",
       "4                     1.038422                  2.431767e+07  "
      ]
     },
     "execution_count": 7,
     "metadata": {},
     "output_type": "execute_result"
    }
   ],
   "source": [
    "data2.head()"
   ]
  },
  {
   "cell_type": "code",
   "execution_count": 8,
   "metadata": {},
   "outputs": [
    {
     "name": "stdout",
     "output_type": "stream",
     "text": [
      "Covariance: 0.106981754266\n",
      "Std Column 1: 34.1042421947\n",
      "Std Column 2: 0.0170003256546\n",
      "r: 0.18452026538\n",
      "\n"
     ]
    },
    {
     "data": {
      "text/plain": [
       "0.18452026538028005"
      ]
     },
     "execution_count": 8,
     "metadata": {},
     "output_type": "execute_result"
    }
   ],
   "source": [
    "data1 = pd.read_csv(\"Output/2015dataset.csv\",low_memory=False)\n",
    "data1[\"IndRTPMM\"] = data1[\"HHS RISK ADJUSTMENT TRANSFER AMOUNT (INDIVIDUAL MARKET, INCLUDING CATASTROPHIC)\"] / data1[\"7.4Membermonths2HealthInsuranceINDIVIDUALTotalasof3/31/15\"]\n",
    "data2 = pd.read_csv(\"Input/June2015BYindividualnoformatting.csv\",low_memory=False)\n",
    "#xbarybarspecial(data1, data2, \"STATE AVERAGE PLAN LIABILITY RISK SCORE\", \"i\")\n",
    "#sigmaxsigmayspecial(data1, data2, \"STATE AVERAGE PLAN LIABILITY RISK SCORE\", \"i\")\n",
    "rspecial(data1, \"IndRTPMM\",\n",
    "         data2, \"STATE AVERAGE ACTUARIAL VALUE\", \"i\", 1)"
   ]
  },
  {
   "cell_type": "code",
   "execution_count": 9,
   "metadata": {},
   "outputs": [
    {
     "name": "stdout",
     "output_type": "stream",
     "text": [
      "Covariance: -0.5256212843\n",
      "Std Column 1: 34.1042421947\n",
      "Std Column 2: 0.121457906536\n",
      "r: -0.126893316389\n",
      "\n"
     ]
    },
    {
     "data": {
      "text/plain": [
       "-0.1268933163885832"
      ]
     },
     "execution_count": 9,
     "metadata": {},
     "output_type": "execute_result"
    }
   ],
   "source": [
    "rspecial(data1, \"IndRTPMM\",\n",
    "         data2, \"STATE AVERAGE ALLOWABLE RATING FACTOR\", \"i\", 1)"
   ]
  },
  {
   "cell_type": "code",
   "execution_count": 11,
   "metadata": {},
   "outputs": [
    {
     "name": "stdout",
     "output_type": "stream",
     "text": [
      "Covariance: 0.0536502058278\n",
      "Std Column 1: 34.1042421947\n",
      "Std Column 2: 0.0157869122327\n",
      "r: 0.0996473592827\n",
      "\n"
     ]
    },
    {
     "data": {
      "text/plain": [
       "0.099647359282706044"
      ]
     },
     "execution_count": 11,
     "metadata": {},
     "output_type": "execute_result"
    }
   ],
   "source": [
    "rspecial(data1, \"IndRTPMM\",\n",
    "         data2, \"STATE INDUCED DEMAND FACTOR\", \"i\", 1)"
   ]
  },
  {
   "cell_type": "code",
   "execution_count": 12,
   "metadata": {},
   "outputs": [
    {
     "name": "stdout",
     "output_type": "stream",
     "text": [
      "Covariance: 0.0142035828076\n",
      "Std Column 1: 44.4679128955\n",
      "Std Column 2: 0.167642624248\n",
      "r: 0.00190531466726\n",
      "\n",
      "Covariance: -0.00232257954574\n",
      "Std Column 1: 44.4679128955\n",
      "Std Column 2: 0.0170003256546\n",
      "r: -0.0030723211461\n",
      "\n",
      "Covariance: 0.0311583305676\n",
      "Std Column 1: 44.4679128955\n",
      "Std Column 2: 0.121457906536\n",
      "r: 0.00576901466536\n",
      "\n",
      "Covariance: -0.00168713228652\n",
      "Std Column 1: 44.4679128955\n",
      "Std Column 2: 0.0157869122327\n",
      "r: -0.00240328455689\n",
      "\n"
     ]
    },
    {
     "data": {
      "text/plain": [
       "-0.0024032845568933555"
      ]
     },
     "execution_count": 12,
     "metadata": {},
     "output_type": "execute_result"
    }
   ],
   "source": [
    "rspecial(data1, \"IndRTPMM\",\n",
    "         data2, \"STATE AVERAGE PLAN LIABILITY RISK SCORE\", \"i\", 0)\n",
    "rspecial(data1, \"IndRTPMM\",\n",
    "         data2, \"STATE AVERAGE ACTUARIAL VALUE\", \"i\", 0)\n",
    "rspecial(data1, \"IndRTPMM\",\n",
    "         data2, \"STATE AVERAGE ALLOWABLE RATING FACTOR\", \"i\", 0)\n",
    "rspecial(data1, \"IndRTPMM\",\n",
    "         data2, \"STATE INDUCED DEMAND FACTOR\", \"i\", 0)"
   ]
  },
  {
   "cell_type": "code",
   "execution_count": null,
   "metadata": {
    "collapsed": true
   },
   "outputs": [],
   "source": []
  }
 ],
 "metadata": {
  "kernelspec": {
   "display_name": "Python 3",
   "language": "python",
   "name": "python3"
  },
  "language_info": {
   "codemirror_mode": {
    "name": "ipython",
    "version": 3
   },
   "file_extension": ".py",
   "mimetype": "text/x-python",
   "name": "python",
   "nbconvert_exporter": "python",
   "pygments_lexer": "ipython3",
   "version": "3.6.1"
  }
 },
 "nbformat": 4,
 "nbformat_minor": 2
}
