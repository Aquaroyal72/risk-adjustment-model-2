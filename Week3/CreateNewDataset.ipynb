{
 "cells": [
  {
   "cell_type": "code",
   "execution_count": 3,
   "metadata": {
    "collapsed": true
   },
   "outputs": [],
   "source": [
    "import pandas as pd\n",
    "import numpy as np"
   ]
  },
  {
   "cell_type": "code",
   "execution_count": 4,
   "metadata": {
    "collapsed": true
   },
   "outputs": [],
   "source": [
    "importname114 = \"Input/2014-all.csv\"\n",
    "importname214 = \"Input/2014-Benefit-Year-RI-RA-Updated-numeric.csv\"\n",
    "outputname14 = \"Output/2014dataset.csv\"\n",
    "importname115 = \"Input/2015-all.csv\"\n",
    "importname215 = \"Input/2015-Benefit-Year-RI-RA-Updated-numeric.csv\"\n",
    "outputname15 = \"Output/2015dataset.csv\"\n",
    "importname116 = \"Input/2016-all.csv\"\n",
    "importname216 = \"Input/2016-Benefit-Year-RI-RA.csv\"\n",
    "outputname16 = \"Output/2016dataset.csv\""
   ]
  },
  {
   "cell_type": "code",
   "execution_count": 5,
   "metadata": {
    "collapsed": true
   },
   "outputs": [],
   "source": [
    "def change_csv(importname1, importname2, outputname1):\n",
    "    all1 = pd.read_csv(importname1, encoding = 'ISO-8859-1', low_memory=True)\n",
    "    all1 = all1.replace(0, np.nan)\n",
    "    all1 = all1.dropna(axis=1,how='all')\n",
    "    all1 = all1[np.isfinite(all1['HIOSIssuerID:'])]\n",
    "    all1 = all1.rename(columns={\"HIOSIssuerID:\": \"HIOS ID\"})\n",
    "    all1 = all1.drop_duplicates(subset=['HIOS ID'])\n",
    "    all1.head()\n",
    "    \n",
    "    rira1 = pd.read_csv(importname2)\n",
    "    # rira1 = rira1.drop([\"Unnamed: 0\", \"Unnamed: 0.1\"],axis=1)\n",
    "    rira1.head()\n",
    "    merged1 = rira1.merge(all1, on='HIOS ID', how='left')\n",
    "    merged1.to_csv(outputname1)"
   ]
  },
  {
   "cell_type": "code",
   "execution_count": 6,
   "metadata": {},
   "outputs": [
    {
     "name": "stderr",
     "output_type": "stream",
     "text": [
      "C:\\Users\\guanz\\Anaconda3\\lib\\site-packages\\IPython\\core\\interactiveshell.py:2821: DtypeWarning: Columns (114,1087,1860,1945,2269,2413,2501,3002,3053,3232,3651) have mixed types. Specify dtype option on import or set low_memory=False.\n",
      "  if self.run_code(code, result):\n",
      "C:\\Users\\guanz\\Anaconda3\\lib\\site-packages\\IPython\\core\\interactiveshell.py:2827: DtypeWarning: Columns (13,151,615,1117,1219,1220,1255,1311,1312,2501,2542,2635,2779,3003,3289,3335,3386,3421,4710,5167) have mixed types. Specify dtype option on import or set low_memory=False.\n",
      "  if self.run_code(code, result):\n"
     ]
    }
   ],
   "source": [
    "change_csv(importname114,importname214,outputname14)\n",
    "change_csv(importname115,importname215,outputname15)\n",
    "# change_csv(importname116,importname216,outputname16)"
   ]
  },
  {
   "cell_type": "code",
   "execution_count": null,
   "metadata": {
    "collapsed": true
   },
   "outputs": [],
   "source": [
    "#states = merged2015[\"STATE\"].drop_duplicates()\n",
    "#print(states)\n",
    "#print(\"state,individualratio,smallgroupratio,individualtransfers,smallgrouptransfers,individualmm,smallgroupmm\")\n",
    "#for state in states:\n",
    "#    temp = merged2015.where(merged2015[\"STATE\"] == state).dropna(how='all')\n",
    "#    a = sum(abs(temp[\"HHS RISK ADJUSTMENT TRANSFER AMOUNT (INDIVIDUAL MARKET, INCLUDING CATASTROPHIC)\"]).convert_objects(convert_numeric=True).dropna())\n",
    "#    b = sum(abs(temp[\"HHS RISK ADJUSTMENT TRANSFERS AMOUNT (SMALL GROUP MARKET)\"]).convert_objects(convert_numeric=True).dropna())\n",
    "#    c = sum(temp[\"7.4Membermonths2HealthInsuranceINDIVIDUALTotalasof3/31/15\"].convert_objects(convert_numeric=True).dropna())\n",
    "#    d = sum(temp[\"7.4Membermonths7HealthInsuranceSMALLGROUPTotalasof3/31/15\"].convert_objects(convert_numeric=True).dropna())\n",
    "#    individual_ratio = a/c\n",
    "#    smallgroup_ratio = b/d\n",
    "#    print(state + \",\" + str(individual_ratio) + \",\" + str(smallgroup_ratio) + \",\" +\n",
    "#          str(a) + \",\" + str(b) + \",\" + str(c) + \",\" + str(d))"
   ]
  }
 ],
 "metadata": {
  "kernelspec": {
   "display_name": "Python 3",
   "language": "python",
   "name": "python3"
  },
  "language_info": {
   "codemirror_mode": {
    "name": "ipython",
    "version": 3
   },
   "file_extension": ".py",
   "mimetype": "text/x-python",
   "name": "python",
   "nbconvert_exporter": "python",
   "pygments_lexer": "ipython3",
   "version": "3.6.1"
  }
 },
 "nbformat": 4,
 "nbformat_minor": 2
}
