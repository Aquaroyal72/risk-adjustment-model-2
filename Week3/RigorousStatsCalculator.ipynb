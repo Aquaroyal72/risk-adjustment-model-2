{
 "cells": [
  {
   "cell_type": "code",
   "execution_count": 1,
   "metadata": {
    "collapsed": true
   },
   "outputs": [],
   "source": [
    "import pandas as pd\n",
    "import numpy as np"
   ]
  },
  {
   "cell_type": "code",
   "execution_count": 7,
   "metadata": {},
   "outputs": [],
   "source": [
    "data2014 = pd.read_csv(\"Output/2014dataset.csv\",low_memory=False)\n",
    "data2015 = pd.read_csv(\"Output/2015dataset.csv\",low_memory=False)\n",
    "# data2016 = pd.read_csv(\"Output/2016dataset.csv\",low_memory=False) doesn't exist yet"
   ]
  },
  {
   "cell_type": "code",
   "execution_count": 9,
   "metadata": {},
   "outputs": [
    {
     "name": "stdout",
     "output_type": "stream",
     "text": [
      "['AK' 'AL' 'AR' 'AZ' 'CA' 'CO' 'CT' 'DC' 'DE' 'FL' 'GA' 'HI' 'IA' 'ID' 'IL'\n",
      " 'IN' 'KS' 'KY' 'LA' 'MA' 'MD' 'ME' 'MI' 'MN' 'MO' 'MS' 'MT' 'NC' 'ND' 'NE'\n",
      " 'NH' 'NJ' 'NM' 'NV' 'NY' 'OH' 'OK' 'OR' 'PA' 'RI' 'SC' 'SD' 'TN' 'TX' 'UT'\n",
      " 'VA' 'WA' 'WI' 'WV' 'WY']\n"
     ]
    }
   ],
   "source": [
    "states = data2014[\"STATE\"].drop_duplicates().as_matrix()\n",
    "print(states)\n",
    "    \n",
    "#print(\"state,individualratio,smallgroupratio,individualtransfers,smallgrouptransfers,individualmm,smallgroupmm\")\n",
    "#for state in states:\n",
    "#    temp = merged2015.where(merged2015[\"STATE\"] == state).dropna(how='all')\n",
    "#    a = sum(abs(temp[\"HHS RISK ADJUSTMENT TRANSFER AMOUNT (INDIVIDUAL MARKET, INCLUDING CATASTROPHIC)\"]).convert_objects(convert_numeric=True).dropna())\n",
    "#    b = sum(abs(temp[\"HHS RISK ADJUSTMENT TRANSFERS AMOUNT (SMALL GROUP MARKET)\"]).convert_objects(convert_numeric=True).dropna())\n",
    "#    c = sum(temp[\"7.4Membermonths2HealthInsuranceINDIVIDUALTotalasof3/31/15\"].convert_objects(convert_numeric=True).dropna())\n",
    "#    d = sum(temp[\"7.4Membermonths7HealthInsuranceSMALLGROUPTotalasof3/31/15\"].convert_objects(convert_numeric=True).dropna())\n",
    "#    individual_ratio = a/c\n",
    "#    smallgroup_ratio = b/d\n",
    "#    print(state + \",\" + str(individual_ratio) + \",\" + str(smallgroup_ratio) + \",\" +\n",
    "#          str(a) + \",\" + str(b) + \",\" + str(c) + \",\" + str(d))"
   ]
  },
  {
   "cell_type": "code",
   "execution_count": 10,
   "metadata": {
    "collapsed": true
   },
   "outputs": [],
   "source": [
    "# weighted rigorous statistics\n",
    "# group can be i for individual or sg for small group\n",
    "# absval can be 1 for yes and 0 for no\n",
    "\n",
    "# functions:\n",
    "# def getmm(group) - returns member months column\n",
    "# xbarybar(dataset, column_name, state, group, absval) - returns weighted avg of a column\n",
    "# sigmaxsigmay(dataset, column_name, state, group, absval) - returns weighted std of a column\n",
    "# covxy(dataset, column_name1, column_name2, state, group, absval1, absval2) - returns weighted cov of two columns\n",
    "# covspecial(dataset, column_name1, yi, ybar, state, group, absval1) - returns weighted cov of one column and one state measure\n",
    "# r(dataset, column_name1, column_name2, state, group, absval1, absval2) - returns weighted r of two columns\n",
    "# rspecial(dataset, column_name1, yi, ybar, sigmay, state, group, absval1) - returns weighted r of one column and one state measure\n",
    "# rsquared(dataset, column_name1, column_name2, state, group, absval1, absval2) - returns weighted r^2 of two columns\n",
    "\n",
    "def getmm(group):\n",
    "    if group == \"i\":\n",
    "        return \"7.4Membermonths2HealthInsuranceINDIVIDUALTotalasof3/31/15\"\n",
    "    elif group == \"sg\":\n",
    "        return \"7.4Membermonths7HealthInsuranceSMALLGROUPTotalasof3/31/15\"\n",
    "    else:\n",
    "        return \"\"\n",
    "\n",
    "def xbarybar(dataset, column_name, state, group, absval):\n",
    "    temp = dataset.where(dataset[\"STATE\"] == state).dropna(how='all')\n",
    "    mm = getmm(group)\n",
    "    sum_mm = sum(temp[mm].convert_objects(convert_numeric=True).dropna())\n",
    "    if sum_mm == 0:\n",
    "        return\n",
    "    numerator = 0\n",
    "    for index, row in temp.iterrows():\n",
    "        if absval == 1:\n",
    "            numerator = numerator + (abs(row[column_name]) * row[mm])\n",
    "        else:\n",
    "            numerator = numerator + (row[column_name] * row[mm])\n",
    "    return numerator / sum_mm\n",
    "\n",
    "def sigmaxsigmay(dataset, column_name, state, group, absval):\n",
    "    temp = dataset.where(dataset[\"STATE\"] == state).dropna(how='all')\n",
    "    mm = getmm(group)\n",
    "    sum_mm = sum(temp[mm].convert_objects(convert_numeric=True).dropna())\n",
    "    if sum_mm == 0:\n",
    "        return \"-1\"\n",
    "    numerator = 0\n",
    "    xbar = xbarybar(dataset, column_name, state, group, absval)\n",
    "    for index, row in temp.iterrows():\n",
    "        if absval == 1:\n",
    "            numerator = numerator + ((abs(row[column_name]) - xbar)^2 * row[mm])\n",
    "        else:\n",
    "            numerator = numerator + (row[column_name] * row[mm])\n",
    "    return sqrt(numerator / sum_mm)\n",
    "\n",
    "def covxy(dataset, column_name1, column_name2, state, group, absval1, absval2):\n",
    "    temp = dataset.where(dataset[\"STATE\"] == state).dropna(how='all')\n",
    "    mm = getmm(group)\n",
    "    sum_mm = sum(temp[mm].convert_objects(convert_numeric=True).dropna())\n",
    "    if sum_mm == 0:\n",
    "        return \"-1\"\n",
    "    numerator = 0\n",
    "    xbar = xbarybar(dataset, column_name1, state, group, absval1)\n",
    "    ybar = xbarybar(dataset, column_name2, state, group, absval2)\n",
    "    for index, row in temp.iterrows():\n",
    "        xi = row[column_name1]\n",
    "        yi = row[column_name2]\n",
    "        if absval1 == 1 and absval2 == 1:\n",
    "            numerator = numerator + ((abs(xi) - xbar)^2 * (abs(yi) - ybar)^2 * row[mm])\n",
    "        elif absval1 == 1:\n",
    "            numerator = numerator + ((abs(xi) - xbar)^2 * (yi - ybar)^2 * row[mm])\n",
    "        elif absval2 == 1:\n",
    "            numerator = numerator + ((xi - xbar)^2 * (abs(yi) - ybar)^2 * row[mm])\n",
    "        else:\n",
    "            numerator = numerator + ((xi - xbar)^2 * (yi - ybar)^2 * row[mm])\n",
    "    return numerator / sum_mm\n",
    "\n",
    "def covspecial(dataset, column_name1, yi, ybar, state, group, absval1):\n",
    "    temp = dataset.where(dataset[\"STATE\"] == state).dropna(how='all')\n",
    "    mm = getmm(group)\n",
    "    sum_mm = sum(temp[mm].convert_objects(convert_numeric=True).dropna())\n",
    "    if sum_mm == 0:\n",
    "        return \"-1\"\n",
    "    numerator = 0\n",
    "    xbar = xbarybar(dataset, column_name1, state, group, absval1)\n",
    "    for index, row in temp.iterrows():\n",
    "        xi = row[column_name1]\n",
    "        if absval1 == 1:\n",
    "            numerator = numerator + ((abs(xi) - xbar)^2 * (yi - ybar)^2 * row[mm])\n",
    "        else:\n",
    "            numerator = numerator + ((xi - xbar)^2 * (yi - ybar)^2 * row[mm])\n",
    "    return numerator / sum_mm\n",
    "\n",
    "def r(dataset, column_name1, column_name2, state, group, absval1, absval2):\n",
    "    cov = covxy(dataset, column_name1, column_name2, state, group, absval1, absval2)\n",
    "    sigx = sigmaxsigmay(dataset, column_name1, state, group, absval1)\n",
    "    sigy = sigmaxsigmay(dataset, column_name2, state, group, absval2)\n",
    "    return cov / (sigx * sigy)\n",
    "\n",
    "def rspecial(dataset, column_name1, yi, ybar, sigmay, state, group, absval1):\n",
    "    cov = covspecial(dataset, column_name1, yi, ybar, state, group, absval1)\n",
    "    sigx = sigmaxsigmay(dataset, column_name1, state, group, absval1)\n",
    "    return cov / (sigx * sigmay)\n",
    "    \n",
    "\n",
    "def rsquared(dataset, column_name1, column_name2, state, group, absval1, absval2):\n",
    "    return r(dataset, column_name1, column_name2, state, group, absval1, absval2)^2"
   ]
  },
  {
   "cell_type": "code",
   "execution_count": null,
   "metadata": {
    "collapsed": true
   },
   "outputs": [],
   "source": []
  }
 ],
 "metadata": {
  "kernelspec": {
   "display_name": "Python 3",
   "language": "python",
   "name": "python3"
  },
  "language_info": {
   "codemirror_mode": {
    "name": "ipython",
    "version": 3
   },
   "file_extension": ".py",
   "mimetype": "text/x-python",
   "name": "python",
   "nbconvert_exporter": "python",
   "pygments_lexer": "ipython3",
   "version": "3.6.1"
  }
 },
 "nbformat": 4,
 "nbformat_minor": 2
}
