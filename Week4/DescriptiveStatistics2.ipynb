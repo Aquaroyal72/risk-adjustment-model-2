{
 "cells": [
  {
   "cell_type": "code",
   "execution_count": 1,
   "metadata": {
    "collapsed": true
   },
   "outputs": [],
   "source": [
    "import pandas as pd\n",
    "import numpy as np\n",
    "import warnings\n",
    "warnings.simplefilter(action='ignore', category=FutureWarning)"
   ]
  },
  {
   "cell_type": "code",
   "execution_count": 2,
   "metadata": {
    "collapsed": true
   },
   "outputs": [],
   "source": [
    "data2014 = pd.read_csv(\"Output/2014dataset.csv\",low_memory=False)\n",
    "data2015 = pd.read_csv(\"Output/2015dataset.csv\",low_memory=False)\n",
    "\n",
    "def getmm(group):\n",
    "    if group == \"i\":\n",
    "        return \"7.4Membermonths2HealthInsuranceINDIVIDUALTotalasof3/31/15\"\n",
    "    elif group == \"sg\":\n",
    "        return \"7.4Membermonths7HealthInsuranceSMALLGROUPTotalasof3/31/15\"\n",
    "    else:\n",
    "        return \"\""
   ]
  },
  {
   "cell_type": "code",
   "execution_count": null,
   "metadata": {
    "collapsed": true
   },
   "outputs": [],
   "source": [
    "# enrollment dynamics / state\n",
    "# distribution of profit margins / net profit"
   ]
  }
 ],
 "metadata": {
  "kernelspec": {
   "display_name": "Python 3",
   "language": "python",
   "name": "python3"
  },
  "language_info": {
   "codemirror_mode": {
    "name": "ipython",
    "version": 3
   },
   "file_extension": ".py",
   "mimetype": "text/x-python",
   "name": "python",
   "nbconvert_exporter": "python",
   "pygments_lexer": "ipython3",
   "version": "3.6.1"
  }
 },
 "nbformat": 4,
 "nbformat_minor": 2
}
