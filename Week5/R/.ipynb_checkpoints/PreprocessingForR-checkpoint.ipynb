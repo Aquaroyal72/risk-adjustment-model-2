{
 "cells": [
  {
   "cell_type": "code",
   "execution_count": 1,
   "metadata": {
    "collapsed": true
   },
   "outputs": [],
   "source": [
    "import pandas as pd\n",
    "import numpy as np\n",
    "import warnings\n",
    "warnings.simplefilter(action='ignore', category=FutureWarning)"
   ]
  },
  {
   "cell_type": "code",
   "execution_count": 2,
   "metadata": {},
   "outputs": [
    {
     "name": "stderr",
     "output_type": "stream",
     "text": [
      "C:\\Users\\guanz\\Anaconda3\\lib\\site-packages\\ipykernel_launcher.py:44: SettingWithCopyWarning: \n",
      "A value is trying to be set on a copy of a slice from a DataFrame.\n",
      "Try using .loc[row_indexer,col_indexer] = value instead\n",
      "\n",
      "See the caveats in the documentation: http://pandas.pydata.org/pandas-docs/stable/indexing.html#indexing-view-versus-copy\n",
      "C:\\Users\\guanz\\Anaconda3\\lib\\site-packages\\ipykernel_launcher.py:45: SettingWithCopyWarning: \n",
      "A value is trying to be set on a copy of a slice from a DataFrame.\n",
      "Try using .loc[row_indexer,col_indexer] = value instead\n",
      "\n",
      "See the caveats in the documentation: http://pandas.pydata.org/pandas-docs/stable/indexing.html#indexing-view-versus-copy\n",
      "C:\\Users\\guanz\\Anaconda3\\lib\\site-packages\\ipykernel_launcher.py:46: SettingWithCopyWarning: \n",
      "A value is trying to be set on a copy of a slice from a DataFrame.\n",
      "Try using .loc[row_indexer,col_indexer] = value instead\n",
      "\n",
      "See the caveats in the documentation: http://pandas.pydata.org/pandas-docs/stable/indexing.html#indexing-view-versus-copy\n",
      "C:\\Users\\guanz\\Anaconda3\\lib\\site-packages\\ipykernel_launcher.py:50: SettingWithCopyWarning: \n",
      "A value is trying to be set on a copy of a slice from a DataFrame.\n",
      "Try using .loc[row_indexer,col_indexer] = value instead\n",
      "\n",
      "See the caveats in the documentation: http://pandas.pydata.org/pandas-docs/stable/indexing.html#indexing-view-versus-copy\n",
      "C:\\Users\\guanz\\Anaconda3\\lib\\site-packages\\ipykernel_launcher.py:51: SettingWithCopyWarning: \n",
      "A value is trying to be set on a copy of a slice from a DataFrame.\n",
      "Try using .loc[row_indexer,col_indexer] = value instead\n",
      "\n",
      "See the caveats in the documentation: http://pandas.pydata.org/pandas-docs/stable/indexing.html#indexing-view-versus-copy\n",
      "C:\\Users\\guanz\\Anaconda3\\lib\\site-packages\\ipykernel_launcher.py:52: SettingWithCopyWarning: \n",
      "A value is trying to be set on a copy of a slice from a DataFrame.\n",
      "Try using .loc[row_indexer,col_indexer] = value instead\n",
      "\n",
      "See the caveats in the documentation: http://pandas.pydata.org/pandas-docs/stable/indexing.html#indexing-view-versus-copy\n"
     ]
    }
   ],
   "source": [
    "# read in data\n",
    "data2014 = pd.read_csv(\"2014dataset.csv\",low_memory=False)\n",
    "data2015 = pd.read_csv(\"2015dataset.csv\",low_memory=False)\n",
    "data2016 = pd.read_csv(\"2016dataset.csv\",low_memory=False)\n",
    "\n",
    "# rename columns\n",
    "data2014 = data2014.rename(columns={'7.4Membermonths2HealthInsuranceINDIVIDUALTotalasof3/31/15': 'MM_individual',\n",
    "                                    '1.1Directpremiumwritten2HealthInsuranceINDIVIDUALTotalasof3/31/15': 'Premium_individual',\n",
    "                                   '2.16Totalincurredclaims2HealthInsuranceINDIVIDUALTotalasof3/31/15': 'Costs_individual',\n",
    "                                   'HHS RISK ADJUSTMENT TRANSFER AMOUNT (INDIVIDUAL MARKET, INCLUDING CATASTROPHIC)': 'Transfers_individual',\n",
    "                                   '7.4Membermonths7HealthInsuranceSMALLGROUPTotalasof3/31/15': 'MM_smallgroup',\n",
    "                                    '1.1Directpremiumwritten7HealthInsuranceSMALLGROUPTotalasof3/31/15': 'Premium_smallgroup',\n",
    "                                   '2.16Totalincurredclaims7HealthInsuranceSMALLGROUPTotalasof3/31/15': 'Costs_smallgroup',\n",
    "                                   'HHS RISK ADJUSTMENT TRANSFERS AMOUNT (SMALL GROUP MARKET)': 'Transfers_smallgroup'})\n",
    "\n",
    "data2015 = data2015.rename(columns={'7.4Membermonths2HealthInsuranceINDIVIDUALTotalasof3/31/15': 'MM_individual',\n",
    "                                    '1.1Directpremiumwritten2HealthInsuranceINDIVIDUALTotalasof3/31/15': 'Premium_individual',\n",
    "                                   '2.16Totalincurredclaims2HealthInsuranceINDIVIDUALTotalasof3/31/15': 'Costs_individual',\n",
    "                                   'HHS RISK ADJUSTMENT TRANSFER AMOUNT (INDIVIDUAL MARKET, INCLUDING CATASTROPHIC)': 'Transfers_individual',\n",
    "                                   '7.4Membermonths7HealthInsuranceSMALLGROUPTotalasof3/31/15': 'MM_smallgroup',\n",
    "                                    '1.1Directpremiumwritten7HealthInsuranceSMALLGROUPTotalasof3/31/15': 'Premium_smallgroup',\n",
    "                                   '2.16Totalincurredclaims7HealthInsuranceSMALLGROUPTotalasof3/31/15': 'Costs_smallgroup',\n",
    "                                   'HHS RISK ADJUSTMENT TRANSFERS AMOUNT (SMALL GROUP MARKET)': 'Transfers_smallgroup'})\n",
    "\n",
    "data2016 = data2016.rename(columns={'7.4Membermonths2HealthInsuranceINDIVIDUALTotalasof3/31/15': 'MM_individual',\n",
    "                                    '1.1Directpremiumwritten2HealthInsuranceINDIVIDUALTotalasof3/31/15': 'Premium_individual',\n",
    "                                   '2.16Totalincurredclaims2HealthInsuranceINDIVIDUALTotalasof3/31/15': 'Costs_individual',\n",
    "                                   'HHS RISK ADJUSTMENT TRANSFER AMOUNT (INDIVIDUAL MARKET, INCLUDING CATASTROPHIC)': 'Transfers_individual',\n",
    "                                   '7.4Membermonths7HealthInsuranceSMALLGROUPTotalasof3/31/15': 'MM_smallgroup',\n",
    "                                    '1.1Directpremiumwritten7HealthInsuranceSMALLGROUPTotalasof3/31/15': 'Premium_smallgroup',\n",
    "                                   '2.16Totalincurredclaims7HealthInsuranceSMALLGROUPTotalasof3/31/15': 'Costs_smallgroup',\n",
    "                                   'HHS RISK ADJUSTMENT TRANSFERS AMOUNT (SMALL GROUP MARKET)': 'Transfers_smallgroup'})\n",
    "\n",
    "# remove extraneous columns\n",
    "data2014ind = data2014[['MM_individual', 'Premium_individual', 'Costs_individual', 'Transfers_individual']]\n",
    "data2014sg = data2014[['MM_smallgroup', 'Premium_smallgroup', 'Costs_smallgroup', 'Transfers_smallgroup']]\n",
    "data2015ind = data2015[['MM_individual', 'Premium_individual', 'Costs_individual', 'Transfers_individual']]\n",
    "data2015sg = data2015[['MM_smallgroup', 'Premium_smallgroup', 'Costs_smallgroup', 'Transfers_smallgroup']]\n",
    "data2016ind = data2016[['MM_individual', 'Premium_individual', 'Costs_individual', 'Transfers_individual']]\n",
    "data2016sg = data2016[['MM_smallgroup', 'Premium_smallgroup', 'Costs_smallgroup', 'Transfers_smallgroup']]\n",
    "\n",
    "# convert everything to PMM\n",
    "def converttommind(dataset):\n",
    "    dataset['Premium_individual_pmm'] = dataset['Premium_individual']/dataset['MM_individual']\n",
    "    dataset['Costs_individual_pmm'] = dataset['Costs_individual']/dataset['MM_individual']\n",
    "    dataset['Transfers_individual_pmm'] = dataset['Transfers_individual']/dataset['MM_individual']\n",
    "    return dataset\n",
    "    \n",
    "def converttommsg(dataset):\n",
    "    dataset['Premium_smallgroup_pmm'] = dataset['Premium_smallgroup']/dataset['MM_smallgroup']\n",
    "    dataset['Costs_smallgroup_pmm'] = dataset['Costs_smallgroup']/dataset['MM_smallgroup']\n",
    "    dataset['Transfers_smallgroup_pmm'] = dataset['Transfers_smallgroup']/dataset['MM_smallgroup']\n",
    "    return dataset\n",
    "    \n",
    "data2014ind = converttommind(data2014ind)\n",
    "data2015ind = converttommind(data2015ind)\n",
    "data2016ind = converttommind(data2016ind)\n",
    "data2014sg = converttommsg(data2014sg)\n",
    "data2015sg = converttommsg(data2015sg)\n",
    "data2016sg = converttommsg(data2016sg)"
   ]
  },
  {
   "cell_type": "code",
   "execution_count": 3,
   "metadata": {
    "collapsed": true
   },
   "outputs": [],
   "source": [
    "# save the data\n",
    "data2014ind.to_csv(\"2014ind.csv\")\n",
    "data2014sg.to_csv(\"2014sg.csv\")\n",
    "data2015ind.to_csv(\"2015ind.csv\")\n",
    "data2015sg.to_csv(\"2015sg.csv\")\n",
    "data2016ind.to_csv(\"2016ind.csv\")\n",
    "data2016sg.to_csv(\"2016sg.csv\")"
   ]
  },
  {
   "cell_type": "code",
   "execution_count": null,
   "metadata": {
    "collapsed": true
   },
   "outputs": [],
   "source": []
  },
  {
   "cell_type": "code",
   "execution_count": null,
   "metadata": {
    "collapsed": true
   },
   "outputs": [],
   "source": []
  },
  {
   "cell_type": "code",
   "execution_count": null,
   "metadata": {
    "collapsed": true
   },
   "outputs": [],
   "source": []
  }
 ],
 "metadata": {
  "kernelspec": {
   "display_name": "Python 3",
   "language": "python",
   "name": "python3"
  },
  "language_info": {
   "codemirror_mode": {
    "name": "ipython",
    "version": 3
   },
   "file_extension": ".py",
   "mimetype": "text/x-python",
   "name": "python",
   "nbconvert_exporter": "python",
   "pygments_lexer": "ipython3",
   "version": "3.6.1"
  }
 },
 "nbformat": 4,
 "nbformat_minor": 2
}
