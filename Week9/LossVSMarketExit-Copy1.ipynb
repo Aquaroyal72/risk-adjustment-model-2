{
 "cells": [
  {
   "cell_type": "code",
   "execution_count": 1,
   "metadata": {
    "collapsed": true
   },
   "outputs": [],
   "source": [
    "import pandas as pd\n",
    "import numpy as np\n",
    "import warnings\n",
    "warnings.simplefilter(action='ignore', category=FutureWarning)"
   ]
  },
  {
   "cell_type": "code",
   "execution_count": 2,
   "metadata": {
    "collapsed": true
   },
   "outputs": [],
   "source": [
    "data2014 = pd.read_csv(\"../Week7/Input/2014dataset.csv\",low_memory=False)\n",
    "data2015 = pd.read_csv(\"../Week7/Input/2015dataset.csv\",low_memory=False)\n",
    "data2016 = pd.read_csv(\"../Week7/Input/2016dataset.csv\",low_memory=False)"
   ]
  },
  {
   "cell_type": "code",
   "execution_count": 3,
   "metadata": {
    "collapsed": true
   },
   "outputs": [],
   "source": [
    "important_fields = [\"HIOS ID\", \"HIOS INPUTTED INSURANCE COMPANY NAME\", \"STATE\", \"REINSURANCE PAYMENT AMOUNT (OR NOT ELIGIBLE)\",\n",
    "                    \"HHS RISK ADJUSTMENT TRANSFER AMOUNT (INDIVIDUAL MARKET, INCLUDING CATASTROPHIC)\", \n",
    "                     \"HHS RISK ADJUSTMENT TRANSFERS AMOUNT (SMALL GROUP MARKET)\", \"7.4Membermonths2HealthInsuranceINDIVIDUALTotalasof3/31/15\",\n",
    "                    \"7.4Membermonths7HealthInsuranceSMALLGROUPTotalasof3/31/15\", \"1.1Directpremiumwritten2HealthInsuranceINDIVIDUALTotalasof3/31/15\",\n",
    "                    \"2.16Totalincurredclaims2HealthInsuranceINDIVIDUALTotalasof3/31/15\"]\n",
    "\n",
    "data2014 = data2014[important_fields].dropna(how='all')\n",
    "data2015 = data2015[important_fields].dropna(how='all')\n",
    "data2016 = data2016[important_fields].dropna(how='all')\n",
    "\n",
    "def add_columns(playground1):\n",
    "    playground1[\"IndPremiumPMM\"] = playground1[\"1.1Directpremiumwritten2HealthInsuranceINDIVIDUALTotalasof3/31/15\"] / playground1[\"7.4Membermonths2HealthInsuranceINDIVIDUALTotalasof3/31/15\"]\n",
    "    playground1[\"IndCostsPMM\"] = playground1[\"2.16Totalincurredclaims2HealthInsuranceINDIVIDUALTotalasof3/31/15\"] / playground1[\"7.4Membermonths2HealthInsuranceINDIVIDUALTotalasof3/31/15\"]\n",
    "    playground1[\"IndRTPMM\"] = playground1[\"HHS RISK ADJUSTMENT TRANSFER AMOUNT (INDIVIDUAL MARKET, INCLUDING CATASTROPHIC)\"] / playground1[\"7.4Membermonths2HealthInsuranceINDIVIDUALTotalasof3/31/15\"]\n",
    "    playground1[\"IndPremiumMinusCostsPMM\"] = playground1[\"IndPremiumPMM\"] - playground1[\"IndCostsPMM\"]\n",
    "\n",
    "add_columns(data2014)\n",
    "add_columns(data2015)\n",
    "add_columns(data2016)"
   ]
  },
  {
   "cell_type": "code",
   "execution_count": 5,
   "metadata": {
    "collapsed": true,
    "scrolled": true
   },
   "outputs": [],
   "source": [
    "merged2 = data2014.merge(data2015, on='HIOS ID', how='outer', suffixes=('_2014', '_2015'))\n",
    "merged2 = merged2.where(merged2[\"7.4Membermonths2HealthInsuranceINDIVIDUALTotalasof3/31/15_2014\"] > 2000).dropna(how='all')\n",
    "merged2 = merged2.where(merged2[\"7.4Membermonths2HealthInsuranceINDIVIDUALTotalasof3/31/15_2015\"] > 2000).dropna(how='all')\n",
    "merged3 = merged2.merge(data2016, on='HIOS ID', how='outer', suffixes=('', '_2016'))\n",
    "#merged3 = merged3.where(merged3[\"7.4Membermonths2HealthInsuranceINDIVIDUALTotalasof3/31/15\"] > 2000).dropna(how='all')\n",
    "merged3.to_csv(\"MarketExitAll_no2000.csv\")"
   ]
  },
  {
   "cell_type": "code",
   "execution_count": 6,
   "metadata": {
    "collapsed": true
   },
   "outputs": [],
   "source": [
    "def unweightedr(dataset, column_name1, column_name2):\n",
    "    if column_name1 == column_name2: # when the two columns are the same...\n",
    "        dataset = dataset[[column_name1]].dropna(how='any')\n",
    "        n = len(dataset.index)\n",
    "        sum_b = sum(dataset[column_name1])\n",
    "        avg_b = sum_b / n\n",
    "    else: # when the two columns are different\n",
    "        dataset = dataset[[column_name1, column_name2]].dropna(how='any')\n",
    "        n = len(dataset.index)\n",
    "        sum_b = sum(dataset[column_name2])\n",
    "        avg_b = sum_b / n\n",
    "    sum_a = sum(dataset[column_name1])\n",
    "    avg_a = sum_a / n\n",
    "    print(\"Average \" + str(column_name1) + \" : \" + str(avg_a) + \"; Average \" + str(column_name2) + \" : \" + str(avg_b) + \" with n = \" + str(n))\n",
    "    num = 0\n",
    "    var_a = 0\n",
    "    var_b = 0\n",
    "    for index, row in dataset.iterrows():\n",
    "        a_i = row[0]\n",
    "        b_i = row[0]\n",
    "        if column_name1 != column_name2:\n",
    "            b_i = row[1]\n",
    "        num = num + (a_i - avg_a)*(b_i - avg_b)\n",
    "        var_a = var_a + (a_i - avg_a)**2\n",
    "        var_b = var_b + (b_i - avg_b)**2   \n",
    "        index = index + 1\n",
    "    std_a = np.sqrt(var_a)\n",
    "    std_b = np.sqrt(var_b)\n",
    "    denom = std_a * std_b\n",
    "    print(\"r for \" + str(column_name1) + \" vs \" + str(column_name2) + \" = \" + str(num/denom) + \" with n = \" + str(n))\n",
    "    return num / denom"
   ]
  },
  {
   "cell_type": "code",
   "execution_count": 7,
   "metadata": {
    "collapsed": true
   },
   "outputs": [],
   "source": [
    "df = pd.read_csv(\"MarketExitAll_filtered.csv\")"
   ]
  },
  {
   "cell_type": "code",
   "execution_count": 8,
   "metadata": {
    "collapsed": true
   },
   "outputs": [],
   "source": [
    "df[\"MMChange1615\"] = (df[\"7.4Membermonths2HealthInsuranceINDIVIDUALTotalasof3/31/15\"]\n",
    "                      - df[\"7.4Membermonths2HealthInsuranceINDIVIDUALTotalasof3/31/15_2015\"])\n",
    "df[\"MMChange1514\"] = (df[\"7.4Membermonths2HealthInsuranceINDIVIDUALTotalasof3/31/15_2015\"]\n",
    "                      - df[\"7.4Membermonths2HealthInsuranceINDIVIDUALTotalasof3/31/15_2014\"])\n",
    "df[\"PremChange1615\"] = df[\"IndPremiumPMM\"] - df[\"IndPremiumPMM_2015\"]\n",
    "df[\"PremChange1514\"] = df[\"IndPremiumPMM_2015\"] - df[\"IndPremiumPMM_2014\"]"
   ]
  },
  {
   "cell_type": "code",
   "execution_count": 9,
   "metadata": {},
   "outputs": [
    {
     "name": "stdout",
     "output_type": "stream",
     "text": [
      "Average IndPremiumMinusCostsPMM_2014 : -52.8101675978; Average MMChange1514 : 75797.7851459 with n = 377\n",
      "r for IndPremiumMinusCostsPMM_2014 vs MMChange1514 = 0.000132191159748 with n = 377\n",
      "Average IndPremiumMinusCostsPMM_2014 : -46.213948329; Average MMChange1615 : -10520.0294118 with n = 306\n",
      "r for IndPremiumMinusCostsPMM_2014 vs MMChange1615 = 0.0388734080478 with n = 306\n",
      "Average IndPremiumMinusCostsPMM_2015 : -48.2936827318; Average MMChange1615 : -10520.0294118 with n = 306\n",
      "r for IndPremiumMinusCostsPMM_2015 vs MMChange1615 = 0.085465752061 with n = 306\n",
      "Average IndPremiumMinusCostsPMM_2014 : -52.8101675978; Average PremChange1514 : 29.6259295532 with n = 377\n",
      "r for IndPremiumMinusCostsPMM_2014 vs PremChange1514 = -0.005517438097 with n = 377\n",
      "Average IndPremiumMinusCostsPMM_2014 : -46.213948329; Average PremChange1615 : 31.2530796768 with n = 306\n",
      "r for IndPremiumMinusCostsPMM_2014 vs PremChange1615 = 0.0367182585727 with n = 306\n",
      "Average IndPremiumMinusCostsPMM_2015 : -48.2936827318; Average PremChange1615 : 31.2530796768 with n = 306\n",
      "r for IndPremiumMinusCostsPMM_2015 vs PremChange1615 = -0.0755416628253 with n = 306\n"
     ]
    },
    {
     "data": {
      "text/plain": [
       "-0.075541662825284031"
      ]
     },
     "execution_count": 9,
     "metadata": {},
     "output_type": "execute_result"
    }
   ],
   "source": [
    "unweightedr(df, \"IndPremiumMinusCostsPMM_2014\", \"MMChange1514\")\n",
    "unweightedr(df, \"IndPremiumMinusCostsPMM_2014\", \"MMChange1615\")\n",
    "unweightedr(df, \"IndPremiumMinusCostsPMM_2015\", \"MMChange1615\")\n",
    "unweightedr(df, \"IndPremiumMinusCostsPMM_2014\", \"PremChange1514\")\n",
    "unweightedr(df, \"IndPremiumMinusCostsPMM_2014\", \"PremChange1615\")\n",
    "unweightedr(df, \"IndPremiumMinusCostsPMM_2015\", \"PremChange1615\")"
   ]
  },
  {
   "cell_type": "code",
   "execution_count": 12,
   "metadata": {},
   "outputs": [
    {
     "name": "stdout",
     "output_type": "stream",
     "text": [
      "Average IndCostsPMM_2014 : 367.472352174; Average IndPremiumPMM_2014 : 314.662184572 with n = 377\n",
      "r for IndCostsPMM_2014 vs IndPremiumPMM_2014 = 0.644176098265 with n = 377\n"
     ]
    },
    {
     "data": {
      "text/plain": [
       "0.64417609826465871"
      ]
     },
     "execution_count": 12,
     "metadata": {},
     "output_type": "execute_result"
    }
   ],
   "source": [
    "unweightedr(df, \"IndCostsPMM_2014\", \"IndPremiumPMM_2014\")"
   ]
  },
  {
   "cell_type": "code",
   "execution_count": null,
   "metadata": {
    "collapsed": true
   },
   "outputs": [],
   "source": []
  }
 ],
 "metadata": {
  "kernelspec": {
   "display_name": "Python 3",
   "language": "python",
   "name": "python3"
  },
  "language_info": {
   "codemirror_mode": {
    "name": "ipython",
    "version": 3
   },
   "file_extension": ".py",
   "mimetype": "text/x-python",
   "name": "python",
   "nbconvert_exporter": "python",
   "pygments_lexer": "ipython3",
   "version": "3.6.1"
  }
 },
 "nbformat": 4,
 "nbformat_minor": 2
}
