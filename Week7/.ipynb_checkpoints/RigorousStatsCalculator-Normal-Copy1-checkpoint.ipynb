{
 "cells": [
  {
   "cell_type": "code",
   "execution_count": 1,
   "metadata": {
    "collapsed": true
   },
   "outputs": [],
   "source": [
    "import pandas as pd\n",
    "import numpy as np\n",
    "import warnings\n",
    "warnings.simplefilter(action='ignore', category=FutureWarning)"
   ]
  },
  {
   "cell_type": "code",
   "execution_count": 2,
   "metadata": {
    "collapsed": true
   },
   "outputs": [],
   "source": [
    "data2014 = pd.read_csv(\"Input/2014dataset.csv\",low_memory=False)\n",
    "data2015 = pd.read_csv(\"Input/2015dataset.csv\",low_memory=False)\n",
    "data2016 = pd.read_csv(\"Input/2016dataset.csv\",low_memory=False)"
   ]
  },
  {
   "cell_type": "code",
   "execution_count": 3,
   "metadata": {},
   "outputs": [
    {
     "name": "stdout",
     "output_type": "stream",
     "text": [
      "['AK' 'AL' 'AR' 'AZ' 'CA' 'CO' 'CT' 'DC' 'DE' 'FL' 'GA' 'HI' 'IA' 'ID' 'IL'\n",
      " 'IN' 'KS' 'KY' 'LA' 'MA' 'MD' 'ME' 'MI' 'MN' 'MO' 'MS' 'MT' 'NC' 'ND' 'NE'\n",
      " 'NH' 'NJ' 'NM' 'NV' 'NY' 'OH' 'OK' 'OR' 'PA' 'RI' 'SC' 'SD' 'TN' 'TX' 'UT'\n",
      " 'VA' 'WA' 'WI' 'WV' 'WY']\n"
     ]
    }
   ],
   "source": [
    "states = data2014[\"STATE\"].drop_duplicates().as_matrix()\n",
    "print(states)"
   ]
  },
  {
   "cell_type": "code",
   "execution_count": 1,
   "metadata": {
    "collapsed": true
   },
   "outputs": [],
   "source": [
    "# weighted rigorous statistics\n",
    "# group can be i for individual or sg for small group\n",
    "# absval can be 1 for yes and 0 for no\n",
    "\n",
    "# functions:\n",
    "# def getmm(group) - returns member months column\n",
    "# xbarybar(dataset, column_name, state, group, absval) - returns weighted avg of a column\n",
    "# sigmaxsigmay(dataset, column_name, state, group, absval) - returns weighted std of a column\n",
    "# covxy(dataset, column_name1, column_name2, state, group, absval1, absval2) - returns weighted cov of two columns\n",
    "# covspecial(dataset, column_name1, yi, ybar, state, group, absval1) - returns weighted cov of one column and one state measure\n",
    "# r(dataset, column_name1, column_name2, state, group, absval1, absval2) - returns weighted r of two columns\n",
    "# rspecial(dataset, column_name1, yi, ybar, sigmay, state, group, absval1) - returns weighted r of one column and one state measure\n",
    "# rsquared(dataset, column_name1, column_name2, state, group, absval1, absval2) - returns weighted r^2 of two columns\n",
    "\n",
    "def getmm(group):\n",
    "    if group == \"i\":\n",
    "        return \"7.4Membermonths2HealthInsuranceINDIVIDUALTotalasof3/31/15\"\n",
    "    elif group == \"sg\":\n",
    "        return \"7.4Membermonths7HealthInsuranceSMALLGROUPTotalasof3/31/15\"\n",
    "    else:\n",
    "        return \"\"\n",
    "\n",
    "def unweightedr(dataset, column_name1, column_name2):\n",
    "    if column_name1 == column_name2: # when the two columns are the same...\n",
    "        dataset = dataset[[column_name1]].dropna(how='any')\n",
    "        n = len(dataset.index)\n",
    "        sum_b = sum(dataset[column_name1])\n",
    "        avg_b = sum_b / n\n",
    "    else: # when the two columns are different\n",
    "        dataset = dataset[[column_name1, column_name2]].dropna(how='any')\n",
    "        n = len(dataset.index)\n",
    "        sum_b = sum(dataset[column_name2])\n",
    "        avg_b = sum_b / n\n",
    "    sum_a = sum(dataset[column_name1])\n",
    "    avg_a = sum_a / n\n",
    "    print(\"Average a: \" + str(avg_a))\n",
    "    print(\"Average b: \" + str(avg_b))\n",
    "    num = 0\n",
    "    var_a = 0\n",
    "    var_b = 0\n",
    "    for index, row in dataset.iterrows():\n",
    "        a_i = row[0]\n",
    "        b_i = row[0]\n",
    "        if column_name1 != column_name2:\n",
    "            b_i = row[1]\n",
    "        num = num + (a_i - avg_a)*(b_i - avg_b)\n",
    "        var_a = var_a + (a_i - avg_a)**2\n",
    "        var_b = var_b + (b_i - avg_b)**2   \n",
    "        index = index + 1\n",
    "    std_a = np.sqrt(var_a)\n",
    "    std_b = np.sqrt(var_b)\n",
    "    denom = std_a * std_b\n",
    "    print(\"r for \" + str(column_name1) + \" vs \" + str(column_name2) + \" = \" + str(num/denom) + \" with n = \" + str(n))\n",
    "    return num / denom"
   ]
  },
  {
   "cell_type": "code",
   "execution_count": 2,
   "metadata": {
    "collapsed": true,
    "scrolled": true
   },
   "outputs": [],
   "source": [
    "def play(dataset):\n",
    "    playground1 = pd.read_csv(dataset,low_memory=False)\n",
    "\n",
    "    playground1[\"IndPremiumPMM\"] = playground1[\"1.1Directpremiumwritten2HealthInsuranceINDIVIDUALTotalasof3/31/15\"] / playground1[\"7.4Membermonths2HealthInsuranceINDIVIDUALTotalasof3/31/15\"]\n",
    "    playground1[\"IndCostsPMM\"] = playground1[\"2.16Totalincurredclaims2HealthInsuranceINDIVIDUALTotalasof3/31/15\"] / playground1[\"7.4Membermonths2HealthInsuranceINDIVIDUALTotalasof3/31/15\"]\n",
    "    playground1[\"IndRTPMM\"] = playground1[\"HHS RISK ADJUSTMENT TRANSFER AMOUNT (INDIVIDUAL MARKET, INCLUDING CATASTROPHIC)\"] / playground1[\"7.4Membermonths2HealthInsuranceINDIVIDUALTotalasof3/31/15\"]\n",
    "    playground1[\"IndPremiumMinusCostsPMM\"] = playground1[\"IndPremiumPMM\"] - playground1[\"IndCostsPMM\"]\n",
    "    playground1[\"IndCostsMinusPremiumsPMM\"] = playground1[\"IndCostsPMM\"] - playground1[\"IndPremiumPMM\"]\n",
    "    \n",
    "    \n",
    "\n",
    "    print(\"Statistics for \" + dataset)\n",
    "    unweightedr(playground1, \"IndPremiumPMM\",\"IndRTPMM\")\n",
    "    unweightedr(playground1, \"IndCostsPMM\",\"IndRTPMM\")\n",
    "    unweightedr(playground1, \"IndCostsPMM\",\"IndPremiumPMM\")\n",
    "    unweightedr(playground1, \"IndPremiumMinusCostsPMM\",\"IndRTPMM\")\n",
    "    unweightedr(playground1, \"IndPremiumMinusCostsPMM\",\"IndPremiumMinusCostsPMM\")\n",
    "    print(\"\\n\")"
   ]
  },
  {
   "cell_type": "code",
   "execution_count": 3,
   "metadata": {},
   "outputs": [
    {
     "ename": "NameError",
     "evalue": "name 'pd' is not defined",
     "output_type": "error",
     "traceback": [
      "\u001b[1;31m---------------------------------------------------------------------------\u001b[0m",
      "\u001b[1;31mNameError\u001b[0m                                 Traceback (most recent call last)",
      "\u001b[1;32m<ipython-input-3-49d7c1038007>\u001b[0m in \u001b[0;36m<module>\u001b[1;34m()\u001b[0m\n\u001b[1;32m----> 1\u001b[1;33m \u001b[0mplay\u001b[0m\u001b[1;33m(\u001b[0m\u001b[1;34m\"Input/2014dataset.csv\"\u001b[0m\u001b[1;33m)\u001b[0m\u001b[1;33m\u001b[0m\u001b[0m\n\u001b[0m\u001b[0;32m      2\u001b[0m \u001b[0mplay\u001b[0m\u001b[1;33m(\u001b[0m\u001b[1;34m\"Input/2015dataset.csv\"\u001b[0m\u001b[1;33m)\u001b[0m\u001b[1;33m\u001b[0m\u001b[0m\n\u001b[0;32m      3\u001b[0m \u001b[0mplay\u001b[0m\u001b[1;33m(\u001b[0m\u001b[1;34m\"Input/2016dataset.csv\"\u001b[0m\u001b[1;33m)\u001b[0m\u001b[1;33m\u001b[0m\u001b[0m\n",
      "\u001b[1;32m<ipython-input-2-be3eec0c9f35>\u001b[0m in \u001b[0;36mplay\u001b[1;34m(dataset)\u001b[0m\n\u001b[0;32m      1\u001b[0m \u001b[1;32mdef\u001b[0m \u001b[0mplay\u001b[0m\u001b[1;33m(\u001b[0m\u001b[0mdataset\u001b[0m\u001b[1;33m)\u001b[0m\u001b[1;33m:\u001b[0m\u001b[1;33m\u001b[0m\u001b[0m\n\u001b[1;32m----> 2\u001b[1;33m     \u001b[0mplayground1\u001b[0m \u001b[1;33m=\u001b[0m \u001b[0mpd\u001b[0m\u001b[1;33m.\u001b[0m\u001b[0mread_csv\u001b[0m\u001b[1;33m(\u001b[0m\u001b[0mdataset\u001b[0m\u001b[1;33m,\u001b[0m\u001b[0mlow_memory\u001b[0m\u001b[1;33m=\u001b[0m\u001b[1;32mFalse\u001b[0m\u001b[1;33m)\u001b[0m\u001b[1;33m\u001b[0m\u001b[0m\n\u001b[0m\u001b[0;32m      3\u001b[0m \u001b[1;33m\u001b[0m\u001b[0m\n\u001b[0;32m      4\u001b[0m     \u001b[0mplayground1\u001b[0m\u001b[1;33m[\u001b[0m\u001b[1;34m\"IndPremiumPMM\"\u001b[0m\u001b[1;33m]\u001b[0m \u001b[1;33m=\u001b[0m \u001b[0mplayground1\u001b[0m\u001b[1;33m[\u001b[0m\u001b[1;34m\"1.1Directpremiumwritten2HealthInsuranceINDIVIDUALTotalasof3/31/15\"\u001b[0m\u001b[1;33m]\u001b[0m \u001b[1;33m/\u001b[0m \u001b[0mplayground1\u001b[0m\u001b[1;33m[\u001b[0m\u001b[1;34m\"7.4Membermonths2HealthInsuranceINDIVIDUALTotalasof3/31/15\"\u001b[0m\u001b[1;33m]\u001b[0m\u001b[1;33m\u001b[0m\u001b[0m\n\u001b[0;32m      5\u001b[0m     \u001b[0mplayground1\u001b[0m\u001b[1;33m[\u001b[0m\u001b[1;34m\"IndCostsPMM\"\u001b[0m\u001b[1;33m]\u001b[0m \u001b[1;33m=\u001b[0m \u001b[0mplayground1\u001b[0m\u001b[1;33m[\u001b[0m\u001b[1;34m\"2.16Totalincurredclaims2HealthInsuranceINDIVIDUALTotalasof3/31/15\"\u001b[0m\u001b[1;33m]\u001b[0m \u001b[1;33m/\u001b[0m \u001b[0mplayground1\u001b[0m\u001b[1;33m[\u001b[0m\u001b[1;34m\"7.4Membermonths2HealthInsuranceINDIVIDUALTotalasof3/31/15\"\u001b[0m\u001b[1;33m]\u001b[0m\u001b[1;33m\u001b[0m\u001b[0m\n",
      "\u001b[1;31mNameError\u001b[0m: name 'pd' is not defined"
     ]
    }
   ],
   "source": [
    "play(\"Input/2014dataset.csv\")\n",
    "play(\"Input/2015dataset.csv\")\n",
    "play(\"Input/2016dataset.csv\")"
   ]
  },
  {
   "cell_type": "code",
   "execution_count": null,
   "metadata": {
    "collapsed": true
   },
   "outputs": [],
   "source": []
  },
  {
   "cell_type": "code",
   "execution_count": null,
   "metadata": {
    "collapsed": true
   },
   "outputs": [],
   "source": []
  }
 ],
 "metadata": {
  "kernelspec": {
   "display_name": "Python 3",
   "language": "python",
   "name": "python3"
  },
  "language_info": {
   "codemirror_mode": {
    "name": "ipython",
    "version": 3
   },
   "file_extension": ".py",
   "mimetype": "text/x-python",
   "name": "python",
   "nbconvert_exporter": "python",
   "pygments_lexer": "ipython3",
   "version": "3.6.1"
  }
 },
 "nbformat": 4,
 "nbformat_minor": 2
}
