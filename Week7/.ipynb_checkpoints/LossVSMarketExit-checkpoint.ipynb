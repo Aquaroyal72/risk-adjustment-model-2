{
 "cells": [
  {
   "cell_type": "code",
   "execution_count": 1,
   "metadata": {
    "collapsed": true
   },
   "outputs": [],
   "source": [
    "import pandas as pd\n",
    "import numpy as np\n",
    "import warnings\n",
    "warnings.simplefilter(action='ignore', category=FutureWarning)"
   ]
  },
  {
   "cell_type": "code",
   "execution_count": 2,
   "metadata": {
    "collapsed": true
   },
   "outputs": [],
   "source": [
    "data2014 = pd.read_csv(\"Input/2014dataset.csv\",low_memory=False)\n",
    "data2015 = pd.read_csv(\"Input/2015dataset.csv\",low_memory=False)\n",
    "data2016 = pd.read_csv(\"Input/2016dataset.csv\",low_memory=False)"
   ]
  },
  {
   "cell_type": "code",
   "execution_count": 3,
   "metadata": {
    "collapsed": true
   },
   "outputs": [],
   "source": [
    "important_fields = [\"HIOS ID\", \"HIOS INPUTTED INSURANCE COMPANY NAME\", \"STATE\", \"REINSURANCE PAYMENT AMOUNT (OR NOT ELIGIBLE)\",\n",
    "                    \"HHS RISK ADJUSTMENT TRANSFER AMOUNT (INDIVIDUAL MARKET, INCLUDING CATASTROPHIC)\", \n",
    "                     \"HHS RISK ADJUSTMENT TRANSFERS AMOUNT (SMALL GROUP MARKET)\", \"7.4Membermonths2HealthInsuranceINDIVIDUALTotalasof3/31/15\",\n",
    "                    \"7.4Membermonths7HealthInsuranceSMALLGROUPTotalasof3/31/15\", \"1.1Directpremiumwritten2HealthInsuranceINDIVIDUALTotalasof3/31/15\",\n",
    "                    \"2.16Totalincurredclaims2HealthInsuranceINDIVIDUALTotalasof3/31/15\"]\n",
    "\n",
    "data2014 = data2014[important_fields].dropna(how='all')\n",
    "data2015 = data2015[important_fields].dropna(how='all')\n",
    "data2016 = data2016[important_fields].dropna(how='all')\n",
    "\n",
    "merged1 = data2014.merge(data2015, on='HIOS ID', how='outer', suffixes=('_2014', '_2015'))\n",
    "merged1 = merged1.merge(data2016, on='HIOS ID', how='outer', suffixes=('', '_2016'))\n",
    "merged1.head()\n",
    "merged1.to_csv(\"MarketExit2.csv\")"
   ]
  },
  {
   "cell_type": "code",
   "execution_count": 4,
   "metadata": {
    "collapsed": true
   },
   "outputs": [],
   "source": [
    "merged2 = data2014.merge(data2015, on='HIOS ID', how='left', suffixes=('_2014', '_2015'))\n",
    "merged2.to_csv(\"MarketExit1415-2.csv\")"
   ]
  },
  {
   "cell_type": "code",
   "execution_count": 5,
   "metadata": {
    "collapsed": true
   },
   "outputs": [],
   "source": [
    "merged3 = data2015.merge(data2016, on='HIOS ID', how='left', suffixes=('_2015', '_2016'))\n",
    "merged3.to_csv(\"MarketExit1516-2.csv\")"
   ]
  },
  {
   "cell_type": "code",
   "execution_count": null,
   "metadata": {
    "collapsed": true
   },
   "outputs": [],
   "source": []
  },
  {
   "cell_type": "code",
   "execution_count": null,
   "metadata": {
    "collapsed": true
   },
   "outputs": [],
   "source": []
  }
 ],
 "metadata": {
  "kernelspec": {
   "display_name": "Python 3",
   "language": "python",
   "name": "python3"
  },
  "language_info": {
   "codemirror_mode": {
    "name": "ipython",
    "version": 3
   },
   "file_extension": ".py",
   "mimetype": "text/x-python",
   "name": "python",
   "nbconvert_exporter": "python",
   "pygments_lexer": "ipython3",
   "version": "3.6.1"
  }
 },
 "nbformat": 4,
 "nbformat_minor": 2
}
