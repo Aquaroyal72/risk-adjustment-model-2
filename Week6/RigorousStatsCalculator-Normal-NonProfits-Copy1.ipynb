{
 "cells": [
  {
   "cell_type": "code",
   "execution_count": 33,
   "metadata": {
    "collapsed": true
   },
   "outputs": [],
   "source": [
    "import pandas as pd\n",
    "import numpy as np\n",
    "import warnings\n",
    "warnings.simplefilter(action='ignore', category=FutureWarning)\n",
    "import random\n",
    "from matplotlib import pyplot"
   ]
  },
  {
   "cell_type": "code",
   "execution_count": 2,
   "metadata": {
    "collapsed": true
   },
   "outputs": [],
   "source": [
    "data2014 = pd.read_csv(\"Output/2014dataset.csv\",low_memory=False)\n",
    "data2015 = pd.read_csv(\"Output/2015dataset.csv\",low_memory=False)\n",
    "data2016 = pd.read_csv(\"Output/2016dataset.csv\",low_memory=False)"
   ]
  },
  {
   "cell_type": "code",
   "execution_count": 3,
   "metadata": {},
   "outputs": [
    {
     "name": "stdout",
     "output_type": "stream",
     "text": [
      "['AK' 'AL' 'AR' 'AZ' 'CA' 'CO' 'CT' 'DC' 'DE' 'FL' 'GA' 'HI' 'IA' 'ID' 'IL'\n",
      " 'IN' 'KS' 'KY' 'LA' 'MA' 'MD' 'ME' 'MI' 'MN' 'MO' 'MS' 'MT' 'NC' 'ND' 'NE'\n",
      " 'NH' 'NJ' 'NM' 'NV' 'NY' 'OH' 'OK' 'OR' 'PA' 'RI' 'SC' 'SD' 'TN' 'TX' 'UT'\n",
      " 'VA' 'WA' 'WI' 'WV' 'WY']\n"
     ]
    }
   ],
   "source": [
    "states = data2014[\"STATE\"].drop_duplicates().as_matrix()\n",
    "print(states)"
   ]
  },
  {
   "cell_type": "code",
   "execution_count": 30,
   "metadata": {
    "collapsed": true
   },
   "outputs": [],
   "source": [
    "# weighted rigorous statistics\n",
    "# group can be i for individual or sg for small group\n",
    "# absval can be 1 for yes and 0 for no\n",
    "\n",
    "# functions:\n",
    "# def getmm(group) - returns member months column\n",
    "# xbarybar(dataset, column_name, state, group, absval) - returns weighted avg of a column\n",
    "# sigmaxsigmay(dataset, column_name, state, group, absval) - returns weighted std of a column\n",
    "# covxy(dataset, column_name1, column_name2, state, group, absval1, absval2) - returns weighted cov of two columns\n",
    "# covspecial(dataset, column_name1, yi, ybar, state, group, absval1) - returns weighted cov of one column and one state measure\n",
    "# r(dataset, column_name1, column_name2, state, group, absval1, absval2) - returns weighted r of two columns\n",
    "# rspecial(dataset, column_name1, yi, ybar, sigmay, state, group, absval1) - returns weighted r of one column and one state measure\n",
    "# rsquared(dataset, column_name1, column_name2, state, group, absval1, absval2) - returns weighted r^2 of two columns\n",
    "\n",
    "def getmm(group):\n",
    "    if group == \"i\":\n",
    "        return \"7.4Membermonths2HealthInsuranceINDIVIDUALTotalasof3/31/15\"\n",
    "    elif group == \"sg\":\n",
    "        return \"7.4Membermonths7HealthInsuranceSMALLGROUPTotalasof3/31/15\"\n",
    "    else:\n",
    "        return \"\"\n",
    "\n",
    "def xbarybar(dataset, column_name, state, group, absval):\n",
    "    if state == \"ALL\":\n",
    "        temp = dataset\n",
    "    else:\n",
    "        temp = dataset.where(dataset[\"STATE\"] == state).dropna(how='all')\n",
    "    mm = getmm(group)\n",
    "    sum_mm = sum(temp[mm].convert_objects(convert_numeric=True).dropna())\n",
    "    if sum_mm == 0:\n",
    "        return\n",
    "    numerator = 0\n",
    "    denominator = 0\n",
    "    for index, row in temp.iterrows():\n",
    "        if (pd.notnull(row[column_name])) and (pd.notnull(row[mm])):\n",
    "            ratio = row[mm] / sum_mm\n",
    "            denominator = denominator + ratio\n",
    "            if absval == 1:\n",
    "                numerator = numerator + (abs(row[column_name]) * ratio)\n",
    "            else:\n",
    "                numerator = numerator + (row[column_name]  * ratio)\n",
    "    #print(str(column_name) + \" \" + str(numerator / denominator))\n",
    "    return numerator / denominator\n",
    "\n",
    "def sigmaxsigmay(dataset, column_name, state, group, absval):\n",
    "    if state == \"ALL\":\n",
    "        temp = dataset\n",
    "    else:\n",
    "        temp = dataset.where(dataset[\"STATE\"] == state).dropna(how='all')\n",
    "    mm = getmm(group)\n",
    "    sum_mm = sum(temp[mm].convert_objects(convert_numeric=True).dropna())\n",
    "    if sum_mm == 0:\n",
    "        return \"-1\"\n",
    "    numerator = 0\n",
    "    denominator = 0\n",
    "    xbar = xbarybar(dataset, column_name, state, group, absval)\n",
    "    for index, row in temp.iterrows():\n",
    "        if (pd.notnull(row[column_name])) and (pd.notnull(row[mm])):\n",
    "            ratio = row[mm] / sum_mm\n",
    "            denominator = denominator + ratio\n",
    "            if absval == 1:\n",
    "                numerator = numerator + ((abs(row[column_name]) - abs(xbar))**2 * ratio)\n",
    "            else:\n",
    "                numerator = numerator + ((row[column_name] - xbar)**2 * ratio)\n",
    "    return np.sqrt(numerator / denominator)\n",
    "\n",
    "def covxy(dataset, column_name1, column_name2, state, group, absval1, absval2):\n",
    "    if state == \"ALL\":\n",
    "        temp = dataset\n",
    "    else:\n",
    "        temp = dataset.where(dataset[\"STATE\"] == state).dropna(how='all')\n",
    "    mm = getmm(group)\n",
    "    sum_mm = sum(temp[mm].convert_objects(convert_numeric=True).dropna())\n",
    "    if sum_mm == 0:\n",
    "        return -1\n",
    "    numerator = 0\n",
    "    denominator = 0\n",
    "    xbar = xbarybar(dataset, column_name1, state, group, absval1)\n",
    "    ybar = xbarybar(dataset, column_name2, state, group, absval2)\n",
    "    for index, row in temp.iterrows():\n",
    "        if (pd.notnull(row[column_name2])) and (pd.notnull(row[column_name1])) and (pd.notnull(row[mm])):\n",
    "            xi = row[column_name1]\n",
    "            yi = row[column_name2]\n",
    "            ratio = row[mm] / sum_mm\n",
    "            denominator = denominator + ratio\n",
    "            if absval1 == 1 and absval2 == 1:\n",
    "                numerator = numerator + ((abs(xi) - xbar) * (abs(yi) - ybar) * ratio)\n",
    "            elif absval1 == 1:\n",
    "                numerator = numerator + ((abs(xi) - xbar) * (yi - ybar) * ratio)\n",
    "            elif absval2 == 1:\n",
    "                numerator = numerator + ((xi - xbar) * (abs(yi) - ybar) * ratio)\n",
    "            else:\n",
    "                numerator = numerator + ((xi - xbar) * (yi - ybar) * ratio)\n",
    "    return numerator / denominator\n",
    "\n",
    "def r(dataset, column_name1, column_name2, state, group, absval1, absval2):\n",
    "    print(str(column_name1) + \" vs \" + str(column_name2) + \" in \" + str(state))\n",
    "    cov = covxy(dataset, column_name1, column_name2, state, group, absval1, absval2)\n",
    "    sigx = sigmaxsigmay(dataset, column_name1, state, group, absval1)\n",
    "    sigy = sigmaxsigmay(dataset, column_name2, state, group, absval2)\n",
    "    #print(\"Covariance: \" + str(cov))\n",
    "    #print(\"Std Column 1: \" + str(sigx))\n",
    "    #print(\"Std Column 2: \" + str(sigy))\n",
    "    r = cov / (sigx * sigy)\n",
    "    print(\"r: \" + str(r) + \"\\n\")\n",
    "    temp1 = dataset[[column_name1,column_name2]].dropna(how='any')\n",
    "    print(len(temp1))\n",
    "    #n1 = temp1.astype(bool).sum(axis=1)\n",
    "    #print(\"n_1: \" + str(n1))\n",
    "    return r\n",
    "\n",
    "def rsquared(dataset, column_name1, column_name2, state, group, absval1, absval2):\n",
    "    return r(dataset, column_name1, column_name2, state, group, absval1, absval2)**2"
   ]
  },
  {
   "cell_type": "code",
   "execution_count": 5,
   "metadata": {
    "collapsed": true,
    "scrolled": true
   },
   "outputs": [],
   "source": [
    "def play(dataset):\n",
    "    playground1 = pd.read_csv(dataset,low_memory=False)\n",
    "    forprofit = playground1.where(playground1[\"Not-For-Profit:\"] == 'Yes').dropna(how='all')\n",
    "    nonprofit = playground1.where(playground1[\"Not-For-Profit:\"] == 'No').dropna(how='all')\n",
    "    \n",
    "\n",
    "    forprofit[\"IndPremiumPMM\"] = forprofit[\"1.1Directpremiumwritten2HealthInsuranceINDIVIDUALTotalasof3/31/15\"] / forprofit[\"7.4Membermonths2HealthInsuranceINDIVIDUALTotalasof3/31/15\"]\n",
    "    forprofit[\"IndCostsPMM\"] = forprofit[\"2.16Totalincurredclaims2HealthInsuranceINDIVIDUALTotalasof3/31/15\"] / forprofit[\"7.4Membermonths2HealthInsuranceINDIVIDUALTotalasof3/31/15\"]\n",
    "    forprofit[\"IndRTPMM\"] = forprofit[\"HHS RISK ADJUSTMENT TRANSFER AMOUNT (INDIVIDUAL MARKET, INCLUDING CATASTROPHIC)\"] / forprofit[\"7.4Membermonths2HealthInsuranceINDIVIDUALTotalasof3/31/15\"]\n",
    "    forprofit[\"IndPremiumMinusCostsPMM\"] = forprofit[\"IndPremiumPMM\"] - forprofit[\"IndCostsPMM\"]\n",
    "    forprofit[\"IndCostsMinusPremiumsPMM\"] = forprofit[\"IndCostsPMM\"] - forprofit[\"IndPremiumPMM\"]\n",
    "    \n",
    "    nonprofit[\"IndPremiumPMM\"] = nonprofit[\"1.1Directpremiumwritten2HealthInsuranceINDIVIDUALTotalasof3/31/15\"] / nonprofit[\"7.4Membermonths2HealthInsuranceINDIVIDUALTotalasof3/31/15\"]\n",
    "    nonprofit[\"IndCostsPMM\"] = nonprofit[\"2.16Totalincurredclaims2HealthInsuranceINDIVIDUALTotalasof3/31/15\"] / nonprofit[\"7.4Membermonths2HealthInsuranceINDIVIDUALTotalasof3/31/15\"]\n",
    "    nonprofit[\"IndRTPMM\"] = nonprofit[\"HHS RISK ADJUSTMENT TRANSFER AMOUNT (INDIVIDUAL MARKET, INCLUDING CATASTROPHIC)\"] / nonprofit[\"7.4Membermonths2HealthInsuranceINDIVIDUALTotalasof3/31/15\"]\n",
    "    nonprofit[\"IndPremiumMinusCostsPMM\"] = nonprofit[\"IndPremiumPMM\"] - nonprofit[\"IndCostsPMM\"]\n",
    "    nonprofit[\"IndCostsMinusPremiumsPMM\"] = nonprofit[\"IndCostsPMM\"] - nonprofit[\"IndPremiumPMM\"]\n",
    "    \n",
    "    print(\"Statistics for \" + dataset + \"\\n\")\n",
    "    print(\"For profit\\n\")\n",
    "    r(forprofit, \"IndPremiumPMM\",\"IndRTPMM\",\"ALL\", \"i\", 0, 0)\n",
    "    r(forprofit, \"IndCostsPMM\",\"IndRTPMM\",\"ALL\", \"i\", 0, 0)\n",
    "    r(forprofit, \"IndCostsPMM\",\"IndPremiumPMM\",\"ALL\", \"i\", 0, 0)\n",
    "    r(forprofit, \"IndPremiumMinusCostsPMM\",\"IndRTPMM\",\"ALL\", \"i\", 0, 0)\n",
    "    print(\"Non profit\\n\")\n",
    "    r(nonprofit, \"IndPremiumPMM\",\"IndRTPMM\",\"ALL\", \"i\", 0, 0)\n",
    "    r(nonprofit, \"IndCostsPMM\",\"IndRTPMM\",\"ALL\", \"i\", 0, 0)\n",
    "    r(nonprofit, \"IndCostsPMM\",\"IndPremiumPMM\",\"ALL\", \"i\", 0, 0)\n",
    "    r(nonprofit, \"IndPremiumMinusCostsPMM\",\"IndRTPMM\",\"ALL\", \"i\", 0, 0)"
   ]
  },
  {
   "cell_type": "code",
   "execution_count": 8,
   "metadata": {},
   "outputs": [
    {
     "name": "stdout",
     "output_type": "stream",
     "text": [
      "Statistics for Output/2014dataset.csv\n",
      "\n",
      "For profit\n",
      "\n",
      "IndPremiumPMM vs IndRTPMM in ALL\n",
      "r: 0.198116013727\n",
      "\n",
      "IndCostsPMM vs IndRTPMM in ALL\n",
      "r: 0.263758583715\n",
      "\n",
      "IndCostsPMM vs IndPremiumPMM in ALL\n",
      "r: 0.571383709569\n",
      "\n",
      "IndPremiumMinusCostsPMM vs IndRTPMM in ALL\n",
      "r: -0.113468080951\n",
      "\n",
      "Non profit\n",
      "\n",
      "IndPremiumPMM vs IndRTPMM in ALL\n",
      "r: 0.184622139508\n",
      "\n",
      "IndCostsPMM vs IndRTPMM in ALL\n",
      "r: 0.518360351743\n",
      "\n",
      "IndCostsPMM vs IndPremiumPMM in ALL\n",
      "r: 0.554277157824\n",
      "\n",
      "IndPremiumMinusCostsPMM vs IndRTPMM in ALL\n",
      "r: -0.502187253338\n",
      "\n",
      "Statistics for Output/2015dataset.csv\n",
      "\n",
      "For profit\n",
      "\n",
      "IndPremiumPMM vs IndRTPMM in ALL\n",
      "r: 0.220533457377\n",
      "\n",
      "IndCostsPMM vs IndRTPMM in ALL\n",
      "r: 0.50144135372\n",
      "\n",
      "IndCostsPMM vs IndPremiumPMM in ALL\n",
      "r: 0.398871094373\n",
      "\n",
      "IndPremiumMinusCostsPMM vs IndRTPMM in ALL\n",
      "r: -0.352115872961\n",
      "\n",
      "Non profit\n",
      "\n",
      "IndPremiumPMM vs IndRTPMM in ALL\n",
      "r: 0.441218542245\n",
      "\n",
      "IndCostsPMM vs IndRTPMM in ALL\n",
      "r: 0.410054020912\n",
      "\n",
      "IndCostsPMM vs IndPremiumPMM in ALL\n",
      "r: 0.365309539255\n",
      "\n",
      "IndPremiumMinusCostsPMM vs IndRTPMM in ALL\n",
      "r: -0.313207273402\n",
      "\n",
      "Statistics for Output/2016dataset.csv\n",
      "\n",
      "For profit\n",
      "\n",
      "IndPremiumPMM vs IndRTPMM in ALL\n",
      "r: 0.365796696854\n",
      "\n",
      "IndCostsPMM vs IndRTPMM in ALL\n",
      "r: 0.656688921963\n",
      "\n",
      "IndCostsPMM vs IndPremiumPMM in ALL\n",
      "r: 0.720008846327\n",
      "\n",
      "IndPremiumMinusCostsPMM vs IndRTPMM in ALL\n",
      "r: -0.589652623865\n",
      "\n",
      "Non profit\n",
      "\n",
      "IndPremiumPMM vs IndRTPMM in ALL\n",
      "r: 0.479127458924\n",
      "\n",
      "IndCostsPMM vs IndRTPMM in ALL\n",
      "r: 0.792209462256\n",
      "\n",
      "IndCostsPMM vs IndPremiumPMM in ALL\n",
      "r: 0.704878749257\n",
      "\n",
      "IndPremiumMinusCostsPMM vs IndRTPMM in ALL\n",
      "r: -0.767634174471\n",
      "\n"
     ]
    }
   ],
   "source": [
    "play(\"Output/2014dataset.csv\")\n",
    "play(\"Output/2015dataset.csv\")\n",
    "play(\"Output/2016dataset.csv\")"
   ]
  },
  {
   "cell_type": "code",
   "execution_count": null,
   "metadata": {
    "collapsed": true
   },
   "outputs": [],
   "source": [
    "data2014 = pd.read_csv(\"Output/2014dataset.csv\",low_memory=False)\n",
    "data2015 = pd.read_csv(\"Output/2015dataset.csv\",low_memory=False)\n",
    "data2016 = pd.read_csv(\"Output/2016dataset.csv\",low_memory=False)"
   ]
  },
  {
   "cell_type": "code",
   "execution_count": 52,
   "metadata": {
    "collapsed": true
   },
   "outputs": [],
   "source": [
    "def playmerged(dataset1, dataset2, dataset3):\n",
    "    important_fields = [\"HIOS ID\",\"1.1Directpremiumwritten2HealthInsuranceINDIVIDUALTotalasof3/31/15\",\n",
    "    \"2.16Totalincurredclaims2HealthInsuranceINDIVIDUALTotalasof3/31/15\",\n",
    "    \"HHS RISK ADJUSTMENT TRANSFER AMOUNT (INDIVIDUAL MARKET, INCLUDING CATASTROPHIC)\",\n",
    "    \"7.4Membermonths2HealthInsuranceINDIVIDUALTotalasof3/31/15\"]\n",
    "    playground1 = pd.read_csv(dataset1,low_memory=False)\n",
    "    playground2 = pd.read_csv(dataset2,low_memory=False)\n",
    "    playground3 = pd.read_csv(dataset3,low_memory=False)\n",
    "    \n",
    "    playground1 = playground1[important_fields]\n",
    "    playground2 = playground2[important_fields]\n",
    "    playground3 = playground3[important_fields]\n",
    "\n",
    "    playground1 = playground1.merge(playground2, how='outer',on='HIOS ID',suffixes=('_2014', '_2015'))\n",
    "    playground1 = playground1.merge(playground3, how='outer', on='HIOS ID') #unlabeled one is 2016\n",
    "\n",
    "    playground1[\"IndPremiumPMM_2014\"] = playground1[\"1.1Directpremiumwritten2HealthInsuranceINDIVIDUALTotalasof3/31/15_2014\"] / playground1[\"7.4Membermonths2HealthInsuranceINDIVIDUALTotalasof3/31/15_2014\"]\n",
    "    playground1[\"IndCostsPMM_2014\"] = playground1[\"2.16Totalincurredclaims2HealthInsuranceINDIVIDUALTotalasof3/31/15_2014\"] / playground1[\"7.4Membermonths2HealthInsuranceINDIVIDUALTotalasof3/31/15_2014\"]\n",
    "    playground1[\"IndRTPMM_2014\"] = playground1[\"HHS RISK ADJUSTMENT TRANSFER AMOUNT (INDIVIDUAL MARKET, INCLUDING CATASTROPHIC)_2014\"] / playground1[\"7.4Membermonths2HealthInsuranceINDIVIDUALTotalasof3/31/15_2014\"]\n",
    "    playground1[\"IndLossPMM_2014\"] = playground1[\"IndCostsPMM_2014\"] - playground1[\"IndPremiumPMM_2014\"]\n",
    "    \n",
    "    playground1[\"IndPremiumPMM_2015\"] = playground1[\"1.1Directpremiumwritten2HealthInsuranceINDIVIDUALTotalasof3/31/15_2015\"] / playground1[\"7.4Membermonths2HealthInsuranceINDIVIDUALTotalasof3/31/15_2015\"]\n",
    "    playground1[\"IndCostsPMM_2015\"] = playground1[\"2.16Totalincurredclaims2HealthInsuranceINDIVIDUALTotalasof3/31/15_2015\"] / playground1[\"7.4Membermonths2HealthInsuranceINDIVIDUALTotalasof3/31/15_2015\"]\n",
    "    playground1[\"IndRTPMM_2015\"] = playground1[\"HHS RISK ADJUSTMENT TRANSFER AMOUNT (INDIVIDUAL MARKET, INCLUDING CATASTROPHIC)_2015\"] / playground1[\"7.4Membermonths2HealthInsuranceINDIVIDUALTotalasof3/31/15_2015\"]\n",
    "    playground1[\"IndLossPMM_2015\"] = playground1[\"IndCostsPMM_2015\"] - playground1[\"IndPremiumPMM_2015\"]\n",
    "    \n",
    "    playground1[\"IndPremiumPMM_2016\"] = playground1[\"1.1Directpremiumwritten2HealthInsuranceINDIVIDUALTotalasof3/31/15\"] / playground1[\"7.4Membermonths2HealthInsuranceINDIVIDUALTotalasof3/31/15\"]\n",
    "    playground1[\"IndCostsPMM_2016\"] = playground1[\"2.16Totalincurredclaims2HealthInsuranceINDIVIDUALTotalasof3/31/15\"] / playground1[\"7.4Membermonths2HealthInsuranceINDIVIDUALTotalasof3/31/15\"]\n",
    "    playground1[\"IndRTPMM_2016\"] = playground1[\"HHS RISK ADJUSTMENT TRANSFER AMOUNT (INDIVIDUAL MARKET, INCLUDING CATASTROPHIC)\"] / playground1[\"7.4Membermonths2HealthInsuranceINDIVIDUALTotalasof3/31/15\"]\n",
    "    playground1[\"IndLossPMM_2016\"] = playground1[\"IndCostsPMM_2016\"] - playground1[\"IndPremiumPMM_2016\"]\n",
    "    \n",
    "    playground1[\"DeltaLoss1615\"] = playground1[\"IndLossPMM_2016\"] - playground1[\"IndLossPMM_2015\"]\n",
    "    playground1[\"DeltaLoss1514\"] = playground1[\"IndLossPMM_2015\"] - playground1[\"IndLossPMM_2014\"]\n",
    "    \n",
    "    temp1 = playground1.where(playground1[\"DeltaLoss1514\"] > 0)\n",
    "    temp2 = playground1.where(playground1[\"DeltaLoss1514\"] < 0)\n",
    "    \n",
    "    print(\"Statistics\")\n",
    "    r(playground1, \"IndLossPMM_2016\",\"IndLossPMM_2015\",\"ALL\", \"i\", 0, 0)\n",
    "    r(playground1, \"IndLossPMM_2016\",\"IndLossPMM_2014\",\"ALL\", \"i\", 0, 0)\n",
    "    r(playground1, \"IndLossPMM_2015\",\"IndLossPMM_2014\",\"ALL\", \"i\", 0, 0)\n",
    "    r(playground1, \"DeltaLoss1615\",\"DeltaLoss1514\",\"ALL\", \"i\", 0, 0)\n",
    "    r(temp1, \"DeltaLoss1615\",\"DeltaLoss1514\",\"ALL\", \"i\", 0, 0)\n",
    "    r(temp2, \"DeltaLoss1615\",\"DeltaLoss1514\",\"ALL\", \"i\", 0, 0)\n",
    "    \n",
    "    \n",
    "    x = playground1[\"DeltaLoss1615\"].dropna(how='any')\n",
    "    y = playground1[\"DeltaLoss1514\"].dropna(how='any')\n",
    "\n",
    "    bins = np.linspace(-7500, 10000, 100)\n",
    "\n",
    "    pyplot.hist(x, bins, alpha=0.5, label='loss 16-15')\n",
    "    pyplot.hist(y, bins, alpha=0.5, label='loss 15-14')\n",
    "    pyplot.legend(loc='upper right')\n",
    "    pyplot.show()\n",
    "    \n",
    "    x = playground1[\"DeltaLoss1615\"].dropna(how='any')\n",
    "    y = playground1[\"DeltaLoss1514\"].dropna(how='any')\n",
    "\n",
    "    bins = np.linspace(-500, 500, 100)\n",
    "\n",
    "    pyplot.hist(x, bins, alpha=0.5, label='loss 16-15')\n",
    "    pyplot.hist(y, bins, alpha=0.5, label='loss 15-14')\n",
    "    pyplot.legend(loc='upper right')\n",
    "    pyplot.show()"
   ]
  },
  {
   "cell_type": "code",
   "execution_count": 53,
   "metadata": {},
   "outputs": [
    {
     "name": "stdout",
     "output_type": "stream",
     "text": [
      "Statistics\n",
      "IndLossPMM_2016 vs IndLossPMM_2015 in ALL\n",
      "r: -0.0263501719999\n",
      "\n",
      "552\n",
      "IndLossPMM_2016 vs IndLossPMM_2014 in ALL\n",
      "r: 0.0294412436731\n",
      "\n",
      "485\n",
      "IndLossPMM_2015 vs IndLossPMM_2014 in ALL\n",
      "r: 0.619989790882\n",
      "\n",
      "617\n",
      "DeltaLoss1615 vs DeltaLoss1514 in ALL\n",
      "r: -0.844564529019\n",
      "\n",
      "483\n",
      "DeltaLoss1615 vs DeltaLoss1514 in ALL\n",
      "r: -0.871881237167\n",
      "\n",
      "255\n",
      "DeltaLoss1615 vs DeltaLoss1514 in ALL\n",
      "r: 0.494340053668\n",
      "\n",
      "228\n"
     ]
    },
    {
     "data": {
      "image/png": "[encoded data removed]",
      "text/plain": [
       "<matplotlib.figure.Figure at 0x17a8dd61048>"
      ]
     },
     "metadata": {},
     "output_type": "display_data"
    },
    {
     "data": {
      "image/png": "[encoded data removed]",
      "text/plain": [
       "<matplotlib.figure.Figure at 0x17a8f091b70>"
      ]
     },
     "metadata": {},
     "output_type": "display_data"
    }
   ],
   "source": [
    "playmerged(\"Output/2014dataset.csv\",\"Output/2015dataset.csv\",\"Output/2016dataset.csv\")"
   ]
  },
  {
   "cell_type": "code",
   "execution_count": 35,
   "metadata": {},
   "outputs": [
    {
     "data": {
      "image/png": "[encoded data removed]",
      "text/plain": [
       "<matplotlib.figure.Figure at 0x17a8e3e5710>"
      ]
     },
     "metadata": {},
     "output_type": "display_data"
    }
   ],
   "source": [
    "\n",
    "\n",
    "x = [random.gauss(3,1) for _ in range(400)]\n",
    "y = [random.gauss(4,2) for _ in range(400)]\n",
    "\n",
    "bins = np.linspace(-10, 10, 100)\n",
    "\n",
    "pyplot.hist(x, bins, alpha=0.5, label='x')\n",
    "pyplot.hist(y, bins, alpha=0.5, label='y')\n",
    "pyplot.legend(loc='upper right')\n",
    "pyplot.show()"
   ]
  },
  {
   "cell_type": "code",
   "execution_count": null,
   "metadata": {
    "collapsed": true
   },
   "outputs": [],
   "source": []
  }
 ],
 "metadata": {
  "kernelspec": {
   "display_name": "Python 3",
   "language": "python",
   "name": "python3"
  },
  "language_info": {
   "codemirror_mode": {
    "name": "ipython",
    "version": 3
   },
   "file_extension": ".py",
   "mimetype": "text/x-python",
   "name": "python",
   "nbconvert_exporter": "python",
   "pygments_lexer": "ipython3",
   "version": "3.6.1"
  }
 },
 "nbformat": 4,
 "nbformat_minor": 2
}
