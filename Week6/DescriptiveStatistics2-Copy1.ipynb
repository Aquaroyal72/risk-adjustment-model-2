{
 "cells": [
  {
   "cell_type": "code",
   "execution_count": 2,
   "metadata": {
    "collapsed": true
   },
   "outputs": [],
   "source": [
    "import pandas as pd\n",
    "import numpy as np\n",
    "import warnings\n",
    "warnings.simplefilter(action='ignore', category=FutureWarning)"
   ]
  },
  {
   "cell_type": "code",
   "execution_count": 3,
   "metadata": {},
   "outputs": [],
   "source": [
    "data2014 = pd.read_csv(\"Output/2014dataset.csv\",low_memory=False)\n",
    "data2015 = pd.read_csv(\"Output/2015dataset.csv\",low_memory=False)\n",
    "\n",
    "def getmm(group):\n",
    "    if group == \"i\":\n",
    "        return \"7.4Membermonths2HealthInsuranceINDIVIDUALTotalasof3/31/15\"\n",
    "    elif group == \"sg\":\n",
    "        return \"7.4Membermonths7HealthInsuranceSMALLGROUPTotalasof3/31/15\"\n",
    "    else:\n",
    "        return \"\""
   ]
  },
  {
   "cell_type": "code",
   "execution_count": 9,
   "metadata": {
    "collapsed": true
   },
   "outputs": [],
   "source": [
    "# enrollment dynamics / state\n",
    "\n",
    "def enrollment_dynamics(dataset1, dataset2, dataset1label, dataset2label):\n",
    "    states = dataset1[\"STATE\"].drop_duplicates()\n",
    "    mmi = getmm(\"i\")\n",
    "    mmsg = getmm(\"sg\")\n",
    "    print(\"State,\"+ str(dataset2label) + \"minus\" + str(dataset1label) + \"MMIndividual,\" + \n",
    "          str(dataset2label) + \"minus\" + str(dataset1label) + \"MMSmallGroup\")\n",
    "    for state in states:\n",
    "        temp1 = dataset1.where(dataset1[\"STATE\"] == state).dropna(how='all')\n",
    "        temp2 = dataset2.where(dataset2[\"STATE\"] == state).dropna(how='all')\n",
    "        sum_mm_ind = (sum(temp2[mmi].convert_objects(convert_numeric=True).dropna())\n",
    "                        - sum(temp1[mmi].convert_objects(convert_numeric=True).dropna()))\n",
    "        sum_mm_sg = (sum(temp2[mmsg].convert_objects(convert_numeric=True).dropna())\n",
    "                        - sum(temp1[mmsg].convert_objects(convert_numeric=True).dropna()))\n",
    "        print(str(state) + \",\" + str(sum_mm_ind) + \",\" + str(sum_mm_sg))\n",
    "\n"
   ]
  },
  {
   "cell_type": "code",
   "execution_count": 10,
   "metadata": {},
   "outputs": [
    {
     "name": "stdout",
     "output_type": "stream",
     "text": [
      "State,2015minus2014MMIndividual,2015minus2014MMSmallGroup\n",
      "AK,66745.0,-17824.0\n",
      "AL,589986.0,-425387.0\n",
      "AR,836971.0,-11362.0\n",
      "AZ,673676.0,-129359.0\n",
      "CA,4560586.0,726564.0\n",
      "CO,331198.0,-156987.0\n",
      "CT,296322.0,-270998.0\n",
      "DC,10521.0,-14218.0\n",
      "DE,-26394.0,-33303.0\n",
      "FL,5576793.0,-497936.0\n",
      "GA,1401745.0,-418924.0\n",
      "HI,142128.0,-404657.0\n",
      "IA,-83854.0,25736.0\n",
      "ID,-22458.0,-22959.0\n",
      "IL,1126874.0,-550536.0\n",
      "IN,420047.0,-383135.0\n",
      "KS,292743.0,-255749.0\n",
      "KY,-11657.0,-133197.0\n",
      "LA,585620.0,-230462.0\n",
      "MA,1663221.0,-664400.0\n",
      "MD,952360.0,-331410.0\n",
      "ME,363087.0,-4789.0\n",
      "MI,377308.0,-523962.0\n",
      "MN,230990.0,-177016.0\n",
      "MO,767466.0,-347122.0\n",
      "MS,120729.0,-20104.0\n",
      "MT,183448.0,-54761.0\n",
      "NC,1430382.0,-363476.0\n",
      "ND,82535.0,-29695.0\n",
      "NE,83201.0,-71303.0\n",
      "NH,100777.0,-46769.0\n",
      "NJ,580285.0,-1511915.0\n",
      "NM,111112.0,7722.0\n",
      "NV,340238.0,-143245.0\n",
      "NY,1397815.0,-1357221.0\n",
      "OH,391286.0,-937993.0\n",
      "OK,375057.0,-68446.0\n",
      "OR,446674.0,-194372.0\n",
      "PA,730138.0,-863302.0\n",
      "RI,70081.0,-68035.0\n",
      "SC,861284.0,-71891.0\n",
      "SD,63113.0,-4013.0\n",
      "TN,722497.0,-146794.0\n",
      "TX,3835221.0,-740580.0\n",
      "UT,383527.0,-227338.0\n",
      "VA,1481468.0,-192200.0\n",
      "WA,168971.0,149551.0\n",
      "WI,520705.0,-186445.0\n",
      "WV,105918.0,-27609.0\n",
      "WY,56277.0,-12612.0\n"
     ]
    }
   ],
   "source": [
    "enrollment_dynamics(data2014, data2015, \"2014\", \"2015\")"
   ]
  },
  {
   "cell_type": "code",
   "execution_count": null,
   "metadata": {
    "collapsed": true
   },
   "outputs": [],
   "source": [
    "# distribution of profit margins / net profit\n",
    "\n",
    "# see excel"
   ]
  }
 ],
 "metadata": {
  "kernelspec": {
   "display_name": "Python 3",
   "language": "python",
   "name": "python3"
  },
  "language_info": {
   "codemirror_mode": {
    "name": "ipython",
    "version": 3
   },
   "file_extension": ".py",
   "mimetype": "text/x-python",
   "name": "python",
   "nbconvert_exporter": "python",
   "pygments_lexer": "ipython3",
   "version": "3.6.1"
  }
 },
 "nbformat": 4,
 "nbformat_minor": 2
}
